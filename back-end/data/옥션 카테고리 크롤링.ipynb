{
 "cells": [
  {
   "cell_type": "code",
   "execution_count": 25,
   "metadata": {},
   "outputs": [],
   "source": [
    "import requests\n",
    "import pandas as pd\n",
    "from bs4 import BeautifulSoup\n",
    "url = 'http://www.auction.co.kr/category/category12.html'\n",
    "res = requests.get(url)\n",
    "\n",
    "soup = BeautifulSoup(res.content, 'html.parser')\n",
    "categories = soup.select('div.cat-box')\n",
    "major_ = []\n",
    "middle_ = []\n",
    "minor_ = []\n",
    "for category in categories:\n",
    "    major = category.select_one('h3')\n",
    "    middle = category.select_one('ul li h4')\n",
    "    minors = category.select('ul li ul li')\n",
    "    for minor in minors:\n",
    "        major_.append(major.get_text())\n",
    "        middle_.append(middle.get_text())\n",
    "        minor_.append(minor.get_text())\n",
    "\n",
    "data = {'major': major_,\n",
    "        'middle': middle_,\n",
    "        'minor': minor_      \n",
    "       }\n",
    "df = pd.DataFrame(data)\n",
    "df.head()\n",
    "df.to_csv('여성의류.csv', encoding='cp949', sep=',', index=False)\n"
   ]
  },
  {
   "cell_type": "code",
   "execution_count": 20,
   "metadata": {},
   "outputs": [
    {
     "data": {
      "text/html": [
       "<div>\n",
       "<style scoped>\n",
       "    .dataframe tbody tr th:only-of-type {\n",
       "        vertical-align: middle;\n",
       "    }\n",
       "\n",
       "    .dataframe tbody tr th {\n",
       "        vertical-align: top;\n",
       "    }\n",
       "\n",
       "    .dataframe thead th {\n",
       "        text-align: right;\n",
       "    }\n",
       "</style>\n",
       "<table border=\"1\" class=\"dataframe\">\n",
       "  <thead>\n",
       "    <tr style=\"text-align: right;\">\n",
       "      <th></th>\n",
       "      <th>major</th>\n",
       "      <th>middle</th>\n",
       "      <th>minor</th>\n",
       "    </tr>\n",
       "  </thead>\n",
       "  <tbody>\n",
       "    <tr>\n",
       "      <th>0</th>\n",
       "      <td>원피스/정장</td>\n",
       "      <td>원피스</td>\n",
       "      <td>면/마/린넨원피스</td>\n",
       "    </tr>\n",
       "    <tr>\n",
       "      <th>1</th>\n",
       "      <td>원피스/정장</td>\n",
       "      <td>원피스</td>\n",
       "      <td>럭셔리 원피스</td>\n",
       "    </tr>\n",
       "    <tr>\n",
       "      <th>2</th>\n",
       "      <td>원피스/정장</td>\n",
       "      <td>원피스</td>\n",
       "      <td>쉬폰/레이스원피스</td>\n",
       "    </tr>\n",
       "    <tr>\n",
       "      <th>3</th>\n",
       "      <td>원피스/정장</td>\n",
       "      <td>원피스</td>\n",
       "      <td>니트/모직원피스</td>\n",
       "    </tr>\n",
       "    <tr>\n",
       "      <th>4</th>\n",
       "      <td>원피스/정장</td>\n",
       "      <td>원피스</td>\n",
       "      <td>정장바지</td>\n",
       "    </tr>\n",
       "  </tbody>\n",
       "</table>\n",
       "</div>"
      ],
      "text/plain": [
       "    major middle      minor\n",
       "0  원피스/정장    원피스  면/마/린넨원피스\n",
       "1  원피스/정장    원피스    럭셔리 원피스\n",
       "2  원피스/정장    원피스  쉬폰/레이스원피스\n",
       "3  원피스/정장    원피스   니트/모직원피스\n",
       "4  원피스/정장    원피스       정장바지"
      ]
     },
     "execution_count": 20,
     "metadata": {},
     "output_type": "execute_result"
    }
   ],
   "source": [
    "df.head()"
   ]
  },
  {
   "cell_type": "code",
   "execution_count": 17,
   "metadata": {},
   "outputs": [],
   "source": [
    "import requests\n",
    "import pandas as pd\n",
    "from bs4 import BeautifulSoup\n",
    "url = 'http://www.auction.co.kr/category/category13.html'\n",
    "res = requests.get(url)\n",
    "\n",
    "soup = BeautifulSoup(res.content, 'html.parser')\n",
    "categories = soup.select('div.cat-box')\n",
    "major_ = []\n",
    "middle_ = []\n",
    "minor_ = []\n",
    "for category in categories:\n",
    "    major = category.select_one('h3')\n",
    "    middles = category.select('ul li h4')\n",
    "    for middle in middles:\n",
    "        minors = middle.parent.select('ul li')\n",
    "        for minor in minors:\n",
    "            major_.append(major.get_text())\n",
    "            middle_.append(middle.get_text())\n",
    "            minor_.append(minor.get_text())\n",
    "    \n",
    "data = {'major': major_,\n",
    "        'middle': middle_,\n",
    "        'minor': minor_      \n",
    "       }\n",
    "df = pd.DataFrame(data)\n",
    "df.head(50)\n",
    "df.to_csv('남성의류.csv', encoding='cp949', sep=',', index=False)\n",
    ""
   ]
  },
  {
   "cell_type": "code",
   "execution_count": 23,
   "metadata": {},
   "outputs": [],
   "source": [
    "import requests\n",
    "import pandas as pd\n",
    "from bs4 import BeautifulSoup\n",
    "url = 'http://www.auction.co.kr/category/category40.html'\n",
    "res = requests.get(url)\n",
    "\n",
    "soup = BeautifulSoup(res.content, 'html.parser')\n",
    "categories = soup.select('div.cat-box')\n",
    "major_ = []\n",
    "middle_ = []\n",
    "minor_ = []\n",
    "for category in categories:\n",
    "    major = category.select_one('h3')\n",
    "    middle = category.select_one('ul li h4')\n",
    "    minors = category.select('ul li ul li')\n",
    "    for minor in minors:\n",
    "        major_.append(major.get_text())\n",
    "        middle_.append(middle.get_text())\n",
    "        minor_.append(minor.get_text())\n",
    "\n",
    "data = {'major': major_,\n",
    "        'middle': middle_,\n",
    "        'minor': minor_      \n",
    "       }\n",
    "df = pd.DataFrame(data)\n",
    "df.head()\n",
    "df.to_csv('언더웨어.csv', encoding='cp949', sep=',', index=False)\n"
   ]
  },
  {
   "cell_type": "code",
   "execution_count": 3,
   "metadata": {},
   "outputs": [
    {
     "output_type": "execute_result",
     "data": {
      "text/plain": "  major middle       minor\n0    상의  긴팔티셔츠     라운드넥티셔츠\n1    상의  긴팔티셔츠      브이넥티셔츠\n2    상의  긴팔티셔츠      카라넥티셔츠\n3    상의  긴팔티셔츠      맨투맨티셔츠\n4    상의  긴팔티셔츠  터틀넥/목폴라티셔츠",
      "text/html": "<div>\n<style scoped>\n    .dataframe tbody tr th:only-of-type {\n        vertical-align: middle;\n    }\n\n    .dataframe tbody tr th {\n        vertical-align: top;\n    }\n\n    .dataframe thead th {\n        text-align: right;\n    }\n</style>\n<table border=\"1\" class=\"dataframe\">\n  <thead>\n    <tr style=\"text-align: right;\">\n      <th></th>\n      <th>major</th>\n      <th>middle</th>\n      <th>minor</th>\n    </tr>\n  </thead>\n  <tbody>\n    <tr>\n      <th>0</th>\n      <td>상의</td>\n      <td>긴팔티셔츠</td>\n      <td>라운드넥티셔츠</td>\n    </tr>\n    <tr>\n      <th>1</th>\n      <td>상의</td>\n      <td>긴팔티셔츠</td>\n      <td>브이넥티셔츠</td>\n    </tr>\n    <tr>\n      <th>2</th>\n      <td>상의</td>\n      <td>긴팔티셔츠</td>\n      <td>카라넥티셔츠</td>\n    </tr>\n    <tr>\n      <th>3</th>\n      <td>상의</td>\n      <td>긴팔티셔츠</td>\n      <td>맨투맨티셔츠</td>\n    </tr>\n    <tr>\n      <th>4</th>\n      <td>상의</td>\n      <td>긴팔티셔츠</td>\n      <td>터틀넥/목폴라티셔츠</td>\n    </tr>\n  </tbody>\n</table>\n</div>"
     },
     "metadata": {},
     "execution_count": 3
    }
   ],
   "source": [
    "# import pymysql\n",
    "# db = pymysql.connect(host='localhost', port=3306, user='root', passwd='funcoding', db='bestproducts', charset='utf8')\n",
    "# cursor = db.cursor()\n",
    "import pandas as pd\n",
    "\n",
    "df = pd.read_csv(\"ClothesClass.csv\", sep=',', encoding='cp949')\n",
    "\n",
    "\n",
    "# sql = \"\"\"INSERT INTO CLOTHES_CLASS (major, middle, minor) VALUES('\n",
    "# \"\"\" + item_info['minor'] + \"\"\"',\n",
    "# '\"\"\" + item_info['middle'] + \"\"\"', \n",
    "# '\"\"\" + item_info['minor']) + \"\"\"')\"\"\"\n",
    "\n",
    "\n",
    "# cursor.execute(sql)\n",
    "\n",
    "# db.commit()\n",
    "# db.close()"
   ]
  },
  {
   "cell_type": "code",
   "execution_count": 39,
   "metadata": {
    "tags": [
     "outputPrepend"
    ]
   },
   "outputs": [
    {
     "output_type": "stream",
     "name": "stdout",
     "text": "    '터틀넥/목폴라티셔츠')\nINSERT INTO CLOTHES_CLASS (major,middle, minor) VALUES('\n    상의',\n    '긴팔티셔츠', \n    '후드티셔츠')\nINSERT INTO CLOTHES_CLASS (major,middle, minor) VALUES('\n    상의',\n    '긴팔티셔츠', \n    '라운드넥티셔츠')\nINSERT INTO CLOTHES_CLASS (major,middle, minor) VALUES('\n    상의',\n    '긴팔티셔츠', \n    '카라넥티셔츠')\nINSERT INTO CLOTHES_CLASS (major,middle, minor) VALUES('\n    상의',\n    '긴팔티셔츠', \n    '브이넥티셔츠')\nINSERT INTO CLOTHES_CLASS (major,middle, minor) VALUES('\n    상의',\n    '긴팔티셔츠', \n    '민소매/나시티셔츠')\nINSERT INTO CLOTHES_CLASS (major,middle, minor) VALUES('\n    상의',\n    '긴팔티셔츠', \n    '솔리드셔츠')\nINSERT INTO CLOTHES_CLASS (major,middle, minor) VALUES('\n    상의',\n    '긴팔티셔츠', \n    '체크/프린트셔츠')\nINSERT INTO CLOTHES_CLASS (major,middle, minor) VALUES('\n    상의',\n    '긴팔티셔츠', \n    '스트라이프셔츠')\nINSERT INTO CLOTHES_CLASS (major,middle, minor) VALUES('\n    상의',\n    '긴팔티셔츠', \n    '라운드넥니트')\nINSERT INTO CLOTHES_CLASS (major,middle, minor) VALUES('\n    상의',\n    '긴팔티셔츠', \n    '니트집업')\nINSERT INTO CLOTHES_CLASS (major,middle, minor) VALUES('\n    상의',\n    '긴팔티셔츠', \n    '브이넥니트')\nINSERT INTO CLOTHES_CLASS (major,middle, minor) VALUES('\n    상의',\n    '긴팔티셔츠', \n    '터틀넥/폴라니트')\nINSERT INTO CLOTHES_CLASS (major,middle, minor) VALUES('\n    하의',\n    '청바지', \n    '스트레이트핏')\nINSERT INTO CLOTHES_CLASS (major,middle, minor) VALUES('\n    하의',\n    '청바지', \n    '스키니/슬림핏')\nINSERT INTO CLOTHES_CLASS (major,middle, minor) VALUES('\n    하의',\n    '청바지', \n    '부츠컷/와이드핏')\nINSERT INTO CLOTHES_CLASS (major,middle, minor) VALUES('\n    하의',\n    '청바지', \n    '치노팬츠')\nINSERT INTO CLOTHES_CLASS (major,middle, minor) VALUES('\n    하의',\n    '청바지', \n    '슬랙스')\nINSERT INTO CLOTHES_CLASS (major,middle, minor) VALUES('\n    하의',\n    '청바지', \n    '기모팬츠')\nINSERT INTO CLOTHES_CLASS (major,middle, minor) VALUES('\n    하의',\n    '청바지', \n    '트레이닝복상의')\nINSERT INTO CLOTHES_CLASS (major,middle, minor) VALUES('\n    하의',\n    '청바지', \n    '트레이닝복하의')\nINSERT INTO CLOTHES_CLASS (major,middle, minor) VALUES('\n    하의',\n    '청바지', \n    '아웃도어티셔츠')\nINSERT INTO CLOTHES_CLASS (major,middle, minor) VALUES('\n    하의',\n    '청바지', \n    '바람막이/아웃도어점퍼')\nINSERT INTO CLOTHES_CLASS (major,middle, minor) VALUES('\n    하의',\n    '청바지', \n    '트레이닝복세트')\nINSERT INTO CLOTHES_CLASS (major,middle, minor) VALUES('\n    하의',\n    '청바지', \n    '아웃도어팬츠')\nINSERT INTO CLOTHES_CLASS (major,middle, minor) VALUES('\n    하의',\n    '청바지', \n    '면/린넨반바지')\nINSERT INTO CLOTHES_CLASS (major,middle, minor) VALUES('\n    하의',\n    '청바지', \n    '청반바지')\nINSERT INTO CLOTHES_CLASS (major,middle, minor) VALUES('\n    아우터',\n    '점퍼/야상/패딩', \n    '야상점퍼')\nINSERT INTO CLOTHES_CLASS (major,middle, minor) VALUES('\n    아우터',\n    '점퍼/야상/패딩', \n    '바람막이점퍼')\nINSERT INTO CLOTHES_CLASS (major,middle, minor) VALUES('\n    아우터',\n    '점퍼/야상/패딩', \n    '패딩점퍼')\nINSERT INTO CLOTHES_CLASS (major,middle, minor) VALUES('\n    아우터',\n    '점퍼/야상/패딩', \n    '블루종/항공점퍼')\nINSERT INTO CLOTHES_CLASS (major,middle, minor) VALUES('\n    아우터',\n    '점퍼/야상/패딩', \n    '후드/집업점퍼')\nINSERT INTO CLOTHES_CLASS (major,middle, minor) VALUES('\n    아우터',\n    '점퍼/야상/패딩', \n    '트렌치코트')\nINSERT INTO CLOTHES_CLASS (major,middle, minor) VALUES('\n    아우터',\n    '점퍼/야상/패딩', \n    '모직코트')\nINSERT INTO CLOTHES_CLASS (major,middle, minor) VALUES('\n    아우터',\n    '점퍼/야상/패딩', \n    '데님자켓')\nINSERT INTO CLOTHES_CLASS (major,middle, minor) VALUES('\n    아우터',\n    '점퍼/야상/패딩', \n    '린넨자켓')\nINSERT INTO CLOTHES_CLASS (major,middle, minor) VALUES('\n    아우터',\n    '점퍼/야상/패딩', \n    '가죽자켓/무스탕')\nINSERT INTO CLOTHES_CLASS (major,middle, minor) VALUES('\n    아우터',\n    '점퍼/야상/패딩', \n    '집업가디건')\nINSERT INTO CLOTHES_CLASS (major,middle, minor) VALUES('\n    아우터',\n    '점퍼/야상/패딩', \n    '브이넥가디건')\nINSERT INTO CLOTHES_CLASS (major,middle, minor) VALUES('\n    아우터',\n    '점퍼/야상/패딩', \n    '캐주얼조끼')\nINSERT INTO CLOTHES_CLASS (major,middle, minor) VALUES('\n    아우터',\n    '점퍼/야상/패딩', \n    '패딩조끼')\nINSERT INTO CLOTHES_CLASS (major,middle, minor) VALUES('\n    남성 빅사이즈',\n    '빅사이즈', \n    '티셔츠')\nINSERT INTO CLOTHES_CLASS (major,middle, minor) VALUES('\n    남성 빅사이즈',\n    '빅사이즈', \n    '캐주얼셔츠')\nINSERT INTO CLOTHES_CLASS (major,middle, minor) VALUES('\n    남성 빅사이즈',\n    '빅사이즈', \n    '니트/가디건')\nINSERT INTO CLOTHES_CLASS (major,middle, minor) VALUES('\n    남성 빅사이즈',\n    '빅사이즈', \n    '바지/반바지')\nINSERT INTO CLOTHES_CLASS (major,middle, minor) VALUES('\n    남성 빅사이즈',\n    '빅사이즈', \n    '청바지')\nINSERT INTO CLOTHES_CLASS (major,middle, minor) VALUES('\n    남성 빅사이즈',\n    '빅사이즈', \n    '트레이닝복')\nINSERT INTO CLOTHES_CLASS (major,middle, minor) VALUES('\n    남성 빅사이즈',\n    '빅사이즈', \n    '정장/셔츠')\nINSERT INTO CLOTHES_CLASS (major,middle, minor) VALUES('\n    남성 빅사이즈',\n    '빅사이즈', \n    '자켓/점퍼/코트')\nINSERT INTO CLOTHES_CLASS (major,middle, minor) VALUES('\n    남성정장',\n    '정장', \n    '정장세트')\nINSERT INTO CLOTHES_CLASS (major,middle, minor) VALUES('\n    남성정장',\n    '정장', \n    '정장자켓')\nINSERT INTO CLOTHES_CLASS (major,middle, minor) VALUES('\n    남성정장',\n    '정장', \n    '정장팬츠')\nINSERT INTO CLOTHES_CLASS (major,middle, minor) VALUES('\n    남성정장',\n    '정장', \n    '정장조끼')\nINSERT INTO CLOTHES_CLASS (major,middle, minor) VALUES('\n    남성정장',\n    '정장', \n    '스트라이프셔츠')\nINSERT INTO CLOTHES_CLASS (major,middle, minor) VALUES('\n    남성정장',\n    '정장', \n    '프린트/체크셔츠')\nINSERT INTO CLOTHES_CLASS (major,middle, minor) VALUES('\n    남성정장',\n    '정장', \n    '솔리드셔츠')\nINSERT INTO CLOTHES_CLASS (major,middle, minor) VALUES('\n    시즌/테마의류',\n    '교복', \n    '교복세트')\nINSERT INTO CLOTHES_CLASS (major,middle, minor) VALUES('\n    시즌/테마의류',\n    '교복', \n    '교복셔츠')\nINSERT INTO CLOTHES_CLASS (major,middle, minor) VALUES('\n    시즌/테마의류',\n    '교복', \n    '교복바지')\nINSERT INTO CLOTHES_CLASS (major,middle, minor) VALUES('\n    시즌/테마의류',\n    '교복', \n    '교복조끼/가디건')\nINSERT INTO CLOTHES_CLASS (major,middle, minor) VALUES('\n    시즌/테마의류',\n    '교복', \n    '수영복')\nINSERT INTO CLOTHES_CLASS (major,middle, minor) VALUES('\n    시즌/테마의류',\n    '교복', \n    '비치웨어')\nINSERT INTO CLOTHES_CLASS (major,middle, minor) VALUES('\n    시즌/테마의류',\n    '교복', \n    '레인코트')\nINSERT INTO CLOTHES_CLASS (major,middle, minor) VALUES('\n    시즌/테마의류',\n    '교복', \n    '유니폼/작업복')\nINSERT INTO CLOTHES_CLASS (major,middle, minor) VALUES('\n    시즌/테마의류',\n    '교복', \n    '힙합/클럽/밀리터리')\nINSERT INTO CLOTHES_CLASS (major,middle, minor) VALUES('\n    시즌/테마의류',\n    '교복', \n    '생활/전통한복')\nINSERT INTO CLOTHES_CLASS (major,middle, minor) VALUES('\n    시즌/테마의류',\n    '교복', \n    '스키/보드복')\nINSERT INTO CLOTHES_CLASS (major,middle, minor) VALUES('\n    원피스/정장',\n    '원피스', \n    '면/마/린넨원피스')\nINSERT INTO CLOTHES_CLASS (major,middle, minor) VALUES('\n    원피스/정장',\n    '원피스', \n    '럭셔리 원피스')\nINSERT INTO CLOTHES_CLASS (major,middle, minor) VALUES('\n    원피스/정장',\n    '원피스', \n    '쉬폰/레이스원피스')\nINSERT INTO CLOTHES_CLASS (major,middle, minor) VALUES('\n    원피스/정장',\n    '원피스', \n    '니트/모직원피스')\nINSERT INTO CLOTHES_CLASS (major,middle, minor) VALUES('\n    원피스/정장',\n    '원피스', \n    '정장바지')\nINSERT INTO CLOTHES_CLASS (major,middle, minor) VALUES('\n    원피스/정장',\n    '원피스', \n    '정장블라우스')\nINSERT INTO CLOTHES_CLASS (major,middle, minor) VALUES('\n    원피스/정장',\n    '원피스', \n    '정장치마')\nINSERT INTO CLOTHES_CLASS (major,middle, minor) VALUES('\n    원피스/정장',\n    '원피스', \n    '정장원피스')\nINSERT INTO CLOTHES_CLASS (major,middle, minor) VALUES('\n    원피스/정장',\n    '원피스', \n    '정장자켓')\nINSERT INTO CLOTHES_CLASS (major,middle, minor) VALUES('\n    원피스/정장',\n    '원피스', \n    '정장 세트')\nINSERT INTO CLOTHES_CLASS (major,middle, minor) VALUES('\n    상의',\n    '티셔츠', \n    '라운드넥티셔츠')\nINSERT INTO CLOTHES_CLASS (major,middle, minor) VALUES('\n    상의',\n    '티셔츠', \n    '브이넥티셔츠')\nINSERT INTO CLOTHES_CLASS (major,middle, minor) VALUES('\n    상의',\n    '티셔츠', \n    '민소매티셔츠')\nINSERT INTO CLOTHES_CLASS (major,middle, minor) VALUES('\n    상의',\n    '티셔츠', \n    '후드티/후드집업')\nINSERT INTO CLOTHES_CLASS (major,middle, minor) VALUES('\n    상의',\n    '티셔츠', \n    '맨투맨')\nINSERT INTO CLOTHES_CLASS (major,middle, minor) VALUES('\n    상의',\n    '티셔츠', \n    '폴라티셔츠')\nINSERT INTO CLOTHES_CLASS (major,middle, minor) VALUES('\n    상의',\n    '티셔츠', \n    '솔리드셔츠')\nINSERT INTO CLOTHES_CLASS (major,middle, minor) VALUES('\n    상의',\n    '티셔츠', \n    '쉬폰/프린트블라우스')\nINSERT INTO CLOTHES_CLASS (major,middle, minor) VALUES('\n    상의',\n    '티셔츠', \n    '레이스/프릴블라우스')\nINSERT INTO CLOTHES_CLASS (major,middle, minor) VALUES('\n    상의',\n    '티셔츠', \n    '스트라이프셔츠')\nINSERT INTO CLOTHES_CLASS (major,middle, minor) VALUES('\n    상의',\n    '티셔츠', \n    '체크셔츠')\nINSERT INTO CLOTHES_CLASS (major,middle, minor) VALUES('\n    상의',\n    '티셔츠', \n    '데님셔츠')\nINSERT INTO CLOTHES_CLASS (major,middle, minor) VALUES('\n    상의',\n    '티셔츠', \n    '라운드넥니트')\nINSERT INTO CLOTHES_CLASS (major,middle, minor) VALUES('\n    상의',\n    '티셔츠', \n    '브이넥니트')\nINSERT INTO CLOTHES_CLASS (major,middle, minor) VALUES('\n    상의',\n    '티셔츠', \n    '폴라/반폴라니트')\nINSERT INTO CLOTHES_CLASS (major,middle, minor) VALUES('\n    상의',\n    '티셔츠', \n    '루즈핏가디건')\nINSERT INTO CLOTHES_CLASS (major,middle, minor) VALUES('\n    상의',\n    '티셔츠', \n    '롱가디건')\nINSERT INTO CLOTHES_CLASS (major,middle, minor) VALUES('\n    상의',\n    '티셔츠', \n    '미니가디건')\nINSERT INTO CLOTHES_CLASS (major,middle, minor) VALUES('\n    하의',\n    '바지', \n    '면바지밴딩팬츠')\nINSERT INTO CLOTHES_CLASS (major,middle, minor) VALUES('\n    하의',\n    '바지', \n    '반바지/치마바지')\nINSERT INTO CLOTHES_CLASS (major,middle, minor) VALUES('\n    하의',\n    '바지', \n    '슬랙스')\nINSERT INTO CLOTHES_CLASS (major,middle, minor) VALUES('\n    하의',\n    '바지', \n    '스키니/슬림핏')\nINSERT INTO CLOTHES_CLASS (major,middle, minor) VALUES('\n    하의',\n    '바지', \n    '청반바지')\nINSERT INTO CLOTHES_CLASS (major,middle, minor) VALUES('\n    하의',\n    '바지', \n    '스트레이트핏')\nINSERT INTO CLOTHES_CLASS (major,middle, minor) VALUES('\n    하의',\n    '바지', \n    '부츠컷/와이드핏')\nINSERT INTO CLOTHES_CLASS (major,middle, minor) VALUES('\n    하의',\n    '바지', \n    '무지레깅스')\nINSERT INTO CLOTHES_CLASS (major,middle, minor) VALUES('\n    하의',\n    '바지', \n    '치마/바지레깅스')\nINSERT INTO CLOTHES_CLASS (major,middle, minor) VALUES('\n    하의',\n    '바지', \n    '미디스커트')\nINSERT INTO CLOTHES_CLASS (major,middle, minor) VALUES('\n    하의',\n    '바지', \n    '미니 스커트')\nINSERT INTO CLOTHES_CLASS (major,middle, minor) VALUES('\n    하의',\n    '바지', \n    '롱스커트')\nINSERT INTO CLOTHES_CLASS (major,middle, minor) VALUES('\n    하의',\n    '바지', \n    '트레이닝상하세트')\nINSERT INTO CLOTHES_CLASS (major,middle, minor) VALUES('\n    하의',\n    '바지', \n    '트레이닝하의')\nINSERT INTO CLOTHES_CLASS (major,middle, minor) VALUES('\n    하의',\n    '바지', \n    '트레이닝상의')\nINSERT INTO CLOTHES_CLASS (major,middle, minor) VALUES('\n    아우터',\n    '자켓/코트', \n    '자켓')\nINSERT INTO CLOTHES_CLASS (major,middle, minor) VALUES('\n    아우터',\n    '자켓/코트', \n    '트렌치코트')\nINSERT INTO CLOTHES_CLASS (major,middle, minor) VALUES('\n    아우터',\n    '자켓/코트', \n    '코트')\nINSERT INTO CLOTHES_CLASS (major,middle, minor) VALUES('\n    아우터',\n    '자켓/코트', \n    '가죽/퍼자켓')\nINSERT INTO CLOTHES_CLASS (major,middle, minor) VALUES('\n    아우터',\n    '자켓/코트', \n    '사파리/야상점퍼')\nINSERT INTO CLOTHES_CLASS (major,middle, minor) VALUES('\n    아우터',\n    '자켓/코트', \n    '바람막이/야구점퍼')\nINSERT INTO CLOTHES_CLASS (major,middle, minor) VALUES('\n    아우터',\n    '자켓/코트', \n    '후드집업점퍼')\nINSERT INTO CLOTHES_CLASS (major,middle, minor) VALUES('\n    아우터',\n    '자켓/코트', \n    '패딩/다운점퍼')\nINSERT INTO CLOTHES_CLASS (major,middle, minor) VALUES('\n    아우터',\n    '자켓/코트', \n    '캐주얼조끼')\nINSERT INTO CLOTHES_CLASS (major,middle, minor) VALUES('\n    아우터',\n    '자켓/코트', \n    '패딩조끼')\nINSERT INTO CLOTHES_CLASS (major,middle, minor) VALUES('\n    마담의류',\n    '마담의류', \n    '티셔츠')\nINSERT INTO CLOTHES_CLASS (major,middle, minor) VALUES('\n    마담의류',\n    '마담의류', \n    '블라우스/셔츠')\nINSERT INTO CLOTHES_CLASS (major,middle, minor) VALUES('\n    마담의류',\n    '마담의류', \n    '자켓/코트/패딩')\nINSERT INTO CLOTHES_CLASS (major,middle, minor) VALUES('\n    마담의류',\n    '마담의류', \n    '니트/가디건/앙상블')\nINSERT INTO CLOTHES_CLASS (major,middle, minor) VALUES('\n    마담의류',\n    '마담의류', \n    '바지/청바지')\nINSERT INTO CLOTHES_CLASS (major,middle, minor) VALUES('\n    마담의류',\n    '마담의류', \n    '스커트')\nINSERT INTO CLOTHES_CLASS (major,middle, minor) VALUES('\n    마담의류',\n    '마담의류', \n    '원피스')\nINSERT INTO CLOTHES_CLASS (major,middle, minor) VALUES('\n    시즌/테마의류',\n    '수영복/비치웨어', \n    '수영복')\nINSERT INTO CLOTHES_CLASS (major,middle, minor) VALUES('\n    시즌/테마의류',\n    '수영복/비치웨어', \n    '비치웨어')\nINSERT INTO CLOTHES_CLASS (major,middle, minor) VALUES('\n    시즌/테마의류',\n    '수영복/비치웨어', \n    '전통한복')\nINSERT INTO CLOTHES_CLASS (major,middle, minor) VALUES('\n    시즌/테마의류',\n    '수영복/비치웨어', \n    '패션/캐주얼 한복')\nINSERT INTO CLOTHES_CLASS (major,middle, minor) VALUES('\n    시즌/테마의류',\n    '수영복/비치웨어', \n    '한복소품')\nINSERT INTO CLOTHES_CLASS (major,middle, minor) VALUES('\n    시즌/테마의류',\n    '수영복/비치웨어', \n    '상의')\nINSERT INTO CLOTHES_CLASS (major,middle, minor) VALUES('\n    시즌/테마의류',\n    '수영복/비치웨어', \n    '섹시원피스')\nINSERT INTO CLOTHES_CLASS (major,middle, minor) VALUES('\n    시즌/테마의류',\n    '수영복/비치웨어', \n    '하의')\nINSERT INTO CLOTHES_CLASS (major,middle, minor) VALUES('\n    시즌/테마의류',\n    '수영복/비치웨어', \n    '레인코트')\nINSERT INTO CLOTHES_CLASS (major,middle, minor) VALUES('\n    시즌/테마의류',\n    '수영복/비치웨어', \n    '유니폼/가운')\nINSERT INTO CLOTHES_CLASS (major,middle, minor) VALUES('\n    시즌/테마의류',\n    '수영복/비치웨어', \n    '밸리/재즈/살사댄스복')\nINSERT INTO CLOTHES_CLASS (major,middle, minor) VALUES('\n    시즌/테마의류',\n    '수영복/비치웨어', \n    '코스튬/이벤트복')\nINSERT INTO CLOTHES_CLASS (major,middle, minor) VALUES('\n    시즌/테마의류',\n    '수영복/비치웨어', \n    '의류DIY/리폼부자재')\nINSERT INTO CLOTHES_CLASS (major,middle, minor) VALUES('\n    시즌/테마의류',\n    '수영복/비치웨어', \n    '웨딩/파티드레스')\nINSERT INTO CLOTHES_CLASS (major,middle, minor) VALUES('\n    시즌/테마의류',\n    '수영복/비치웨어', \n    '교복상하세트')\nINSERT INTO CLOTHES_CLASS (major,middle, minor) VALUES('\n    시즌/테마의류',\n    '수영복/비치웨어', \n    '교복 상의')\nINSERT INTO CLOTHES_CLASS (major,middle, minor) VALUES('\n    시즌/테마의류',\n    '수영복/비치웨어', \n    '교복 하의')\nINSERT INTO CLOTHES_CLASS (major,middle, minor) VALUES('\n    남성속옷',\n    '남성 팬티', \n    '드로즈')\nINSERT INTO CLOTHES_CLASS (major,middle, minor) VALUES('\n    남성속옷',\n    '남성 팬티', \n    '트렁크')\nINSERT INTO CLOTHES_CLASS (major,middle, minor) VALUES('\n    남성속옷',\n    '남성 팬티', \n    '삼각팬티')\nINSERT INTO CLOTHES_CLASS (major,middle, minor) VALUES('\n    남성속옷',\n    '남성 팬티', \n    '팬티세트')\nINSERT INTO CLOTHES_CLASS (major,middle, minor) VALUES('\n    남성속옷',\n    '남성 팬티', \n    '기능성 팬티')\nINSERT INTO CLOTHES_CLASS (major,middle, minor) VALUES('\n    남성속옷',\n    '남성 팬티', \n    '민소매 런닝')\nINSERT INTO CLOTHES_CLASS (major,middle, minor) VALUES('\n    남성속옷',\n    '남성 팬티', \n    '반팔런닝')\nINSERT INTO CLOTHES_CLASS (major,middle, minor) VALUES('\n    남성속옷',\n    '남성 팬티', \n    '런닝세트')\nINSERT INTO CLOTHES_CLASS (major,middle, minor) VALUES('\n    남성속옷',\n    '남성 팬티', \n    '트렁크+런닝세트')\nINSERT INTO CLOTHES_CLASS (major,middle, minor) VALUES('\n    남성속옷',\n    '남성 팬티', \n    '삼각+런닝세트')\nINSERT INTO CLOTHES_CLASS (major,middle, minor) VALUES('\n    남성속옷',\n    '남성 팬티', \n    '드로즈+런닝세트')\nINSERT INTO CLOTHES_CLASS (major,middle, minor) VALUES('\n    여성속옷',\n    '여성 팬티', \n    '삼각팬티')\nINSERT INTO CLOTHES_CLASS (major,middle, minor) VALUES('\n    여성속옷',\n    '여성 팬티', \n    '요일팬티/세트')\nINSERT INTO CLOTHES_CLASS (major,middle, minor) VALUES('\n    여성속옷',\n    '여성 팬티', \n    '노라인/햄팬티')\nINSERT INTO CLOTHES_CLASS (major,middle, minor) VALUES('\n    여성속옷',\n    '여성 팬티', \n    '섹시팬티')\nINSERT INTO CLOTHES_CLASS (major,middle, minor) VALUES('\n    여성속옷',\n    '여성 팬티', \n    '위생팬티')\nINSERT INTO CLOTHES_CLASS (major,middle, minor) VALUES('\n    여성속옷',\n    '여성 팬티', \n    '빅사이즈 팬티')\nINSERT INTO CLOTHES_CLASS (major,middle, minor) VALUES('\n    여성속옷',\n    '여성 팬티', \n    '볼륨업/몰드브라')\nINSERT INTO CLOTHES_CLASS (major,middle, minor) VALUES('\n    여성속옷',\n    '여성 팬티', \n    '노와이어/스포츠브라')\nINSERT INTO CLOTHES_CLASS (major,middle, minor) VALUES('\n    여성속옷',\n    '여성 팬티', \n    '누드/노라인브라')\nINSERT INTO CLOTHES_CLASS (major,middle, minor) VALUES('\n    여성속옷',\n    '여성 팬티', \n    '자수/레이스브라')\nINSERT INTO CLOTHES_CLASS (major,middle, minor) VALUES('\n    여성속옷',\n    '여성 팬티', \n    '누드브라')\nINSERT INTO CLOTHES_CLASS (major,middle, minor) VALUES('\n    여성속옷',\n    '여성 팬티', \n    '빅사이즈브라')\nINSERT INTO CLOTHES_CLASS (major,middle, minor) VALUES('\n    여성속옷',\n    '여성 팬티', \n    '빅사이즈 세트')\nINSERT INTO CLOTHES_CLASS (major,middle, minor) VALUES('\n    여성속옷',\n    '여성 팬티', \n    '커플세트')\nINSERT INTO CLOTHES_CLASS (major,middle, minor) VALUES('\n    여성속옷',\n    '여성 팬티', \n    '몰드/볼륨업')\nINSERT INTO CLOTHES_CLASS (major,middle, minor) VALUES('\n    여성속옷',\n    '여성 팬티', \n    '누디/노라인')\nINSERT INTO CLOTHES_CLASS (major,middle, minor) VALUES('\n    여성속옷',\n    '여성 팬티', \n    '노와이어')\nINSERT INTO CLOTHES_CLASS (major,middle, minor) VALUES('\n    여성속옷',\n    '여성 팬티', \n    '자수/레이스')\nINSERT INTO CLOTHES_CLASS (major,middle, minor) VALUES('\n    여성속옷',\n    '여성 팬티', \n    '브라탑/런닝')\nINSERT INTO CLOTHES_CLASS (major,middle, minor) VALUES('\n    여성속옷',\n    '여성 팬티', \n    '나시/슬립')\nINSERT INTO CLOTHES_CLASS (major,middle, minor) VALUES('\n    여성속옷',\n    '여성 팬티', \n    '속바지/속치마')\nINSERT INTO CLOTHES_CLASS (major,middle, minor) VALUES('\n    잠옷/홈웨어/내의',\n    '잠옷/홈웨어', \n    '홈웨어상의')\nINSERT INTO CLOTHES_CLASS (major,middle, minor) VALUES('\n    잠옷/홈웨어/내의',\n    '잠옷/홈웨어', \n    '홈웨어하의')\nINSERT INTO CLOTHES_CLASS (major,middle, minor) VALUES('\n    잠옷/홈웨어/내의',\n    '잠옷/홈웨어', \n    '홈웨어원피스')\nINSERT INTO CLOTHES_CLASS (major,middle, minor) VALUES('\n    잠옷/홈웨어/내의',\n    '잠옷/홈웨어', \n    '상하세트잠옷')\nINSERT INTO CLOTHES_CLASS (major,middle, minor) VALUES('\n    잠옷/홈웨어/내의',\n    '잠옷/홈웨어', \n    '잠옷바지')\nINSERT INTO CLOTHES_CLASS (major,middle, minor) VALUES('\n    잠옷/홈웨어/내의',\n    '잠옷/홈웨어', \n    '여성 잠옷')\nINSERT INTO CLOTHES_CLASS (major,middle, minor) VALUES('\n    잠옷/홈웨어/내의',\n    '잠옷/홈웨어', \n    '남성 잠옷')\nINSERT INTO CLOTHES_CLASS (major,middle, minor) VALUES('\n    잠옷/홈웨어/내의',\n    '잠옷/홈웨어', \n    '커플잠옷')\nINSERT INTO CLOTHES_CLASS (major,middle, minor) VALUES('\n    잠옷/홈웨어/내의',\n    '잠옷/홈웨어', \n    '동물잠옷')\nINSERT INTO CLOTHES_CLASS (major,middle, minor) VALUES('\n    잠옷/홈웨어/내의',\n    '잠옷/홈웨어', \n    '목욕/잠옷가운')\nINSERT INTO CLOTHES_CLASS (major,middle, minor) VALUES('\n    잠옷/홈웨어/내의',\n    '잠옷/홈웨어', \n    '여성 내의')\nINSERT INTO CLOTHES_CLASS (major,middle, minor) VALUES('\n    잠옷/홈웨어/내의',\n    '잠옷/홈웨어', \n    '남성 내의')\nINSERT INTO CLOTHES_CLASS (major,middle, minor) VALUES('\n    잠옷/홈웨어/내의',\n    '잠옷/홈웨어', \n    '발열내의')\nINSERT INTO CLOTHES_CLASS (major,middle, minor) VALUES('\n    잠옷/홈웨어/내의',\n    '잠옷/홈웨어', \n    '남성 타이즈')\nINSERT INTO CLOTHES_CLASS (major,middle, minor) VALUES('\n    잠옷/홈웨어/내의',\n    '잠옷/홈웨어', \n    '남성 모시메리')\nINSERT INTO CLOTHES_CLASS (major,middle, minor) VALUES('\n    잠옷/홈웨어/내의',\n    '잠옷/홈웨어', \n    '여성 모시메리')\nINSERT INTO CLOTHES_CLASS (major,middle, minor) VALUES('\n    체형보정/빅사이즈',\n    '보정 속옷', \n    '니퍼/복대')\nINSERT INTO CLOTHES_CLASS (major,middle, minor) VALUES('\n    체형보정/빅사이즈',\n    '보정 속옷', \n    '바디쉐이퍼/올인원')\nINSERT INTO CLOTHES_CLASS (major,middle, minor) VALUES('\n    체형보정/빅사이즈',\n    '보정 속옷', \n    '거들/힙업팬티')\nINSERT INTO CLOTHES_CLASS (major,middle, minor) VALUES('\n    체형보정/빅사이즈',\n    '보정 속옷', \n    '보정레깅스/압박스타킹')\nINSERT INTO CLOTHES_CLASS (major,middle, minor) VALUES('\n    주니어 속옷',\n    '주니어 속옷', \n    '주니어브라팬티세트')\nINSERT INTO CLOTHES_CLASS (major,middle, minor) VALUES('\n    주니어 속옷',\n    '주니어 속옷', \n    '주니어 브라')\nINSERT INTO CLOTHES_CLASS (major,middle, minor) VALUES('\n    주니어 속옷',\n    '주니어 속옷', \n    '주니어여아팬티')\nINSERT INTO CLOTHES_CLASS (major,middle, minor) VALUES('\n    주니어 속옷',\n    '주니어 속옷', \n    '주니어여아런닝')\nINSERT INTO CLOTHES_CLASS (major,middle, minor) VALUES('\n    주니어 속옷',\n    '주니어 속옷', \n    '주니어남아런닝')\nINSERT INTO CLOTHES_CLASS (major,middle, minor) VALUES('\n    주니어 속옷',\n    '주니어 속옷', \n    '주니어남아팬티')\nINSERT INTO CLOTHES_CLASS (major,middle, minor) VALUES('\n    주니어 속옷',\n    '주니어 속옷', \n    '주니어 잠옷')\nINSERT INTO CLOTHES_CLASS (major,middle, minor) VALUES('\n    주니어 속옷',\n    '주니어 속옷', \n    '주니어 내의')\nINSERT INTO CLOTHES_CLASS (major,middle, minor) VALUES('\n    주니어 속옷',\n    '주니어 속옷', \n    '주니어 모시메리')\nINSERT INTO CLOTHES_CLASS (major,middle, minor) VALUES('\n    주니어 속옷',\n    '주니어 속옷', \n    '주니어 타이즈/레깅스')\nINSERT INTO CLOTHES_CLASS (major,middle, minor) VALUES('\n    주니어 속옷',\n    '주니어 속옷', \n    '브라끈/브라패드')\nINSERT INTO CLOTHES_CLASS (major,middle, minor) VALUES('\n    주니어 속옷',\n    '주니어 속옷', \n    '성인용/섹시속옷')\nINSERT INTO CLOTHES_CLASS (major,middle, minor) VALUES('\n    주니어 속옷',\n    '주니어 속옷', \n    '기타속옷소품')\n"
    }
   ],
   "source": [
    "import pymysql\n",
    "db = pymysql.connect(host='i02a401.p.ssafy.io', port=3306, user='root', passwd='likeclothes', db='AI_Project', charset='utf8')\n",
    "cursor = db.cursor()\n",
    "\n",
    "for idx in df.index:\n",
    "    sql = \"\"\"INSERT INTO CLOTHES_CLASS (major,middle, minor) VALUES('\n",
    "    \"\"\" + df.loc[idx, 'major'] + \"\"\"',\n",
    "    '\"\"\" + df.loc[idx, 'middle'] + \"\"\"', \n",
    "    '\"\"\" + df.loc[idx, 'minor'] + \"\"\"')\"\"\"\n",
    "    print(sql)\n",
    "    cursor.execute(sql)\n",
    "\n",
    "db.commit()\n",
    "db.close()"
   ]
  }
 ],
 "metadata": {
  "kernelspec": {
   "display_name": "Python 3.7.4 64-bit ('analysis': venv)",
   "language": "python",
   "name": "python37464bitanalysisvenvd93e2c517fa34943be436522e2e0bb3f"
  },
  "language_info": {
   "codemirror_mode": {
    "name": "ipython",
    "version": 3
   },
   "file_extension": ".py",
   "mimetype": "text/x-python",
   "name": "python",
   "nbconvert_exporter": "python",
   "pygments_lexer": "ipython3",
   "version": "3.7.4-final"
  }
 },
 "nbformat": 4,
 "nbformat_minor": 4
}