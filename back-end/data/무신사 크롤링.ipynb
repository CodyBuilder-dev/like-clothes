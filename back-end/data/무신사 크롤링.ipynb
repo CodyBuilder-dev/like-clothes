{
 "cells": [
  {
   "cell_type": "code",
   "execution_count": 188,
   "metadata": {
    "scrolled": true
   },
   "outputs": [],
   "source": [
    "import requests\n",
    "import pandas as pd\n",
    "import time\n",
    "from bs4 import BeautifulSoup\n",
    "from selenium import webdriver\n",
    "from selenium.webdriver.common.by import By\n",
    "from selenium.webdriver.support.ui import WebDriverWait\n",
    "from selenium.webdriver.support import expected_conditions as EC\n"
   ]
  },
  {
   "cell_type": "code",
   "execution_count": 186,
   "metadata": {},
   "outputs": [],
   "source": [
    "def get_product(product_link):\n",
    "    product_ = dict()\n",
    "    tags_ = []\n",
    "    res = requests.get(product_link)\n",
    "    soup = BeautifulSoup(res.content, 'html.parser')\n",
    "    product = soup.select('p.product_article_contents')\n",
    "    brand, code_name = product[0].get_text().split('/')\n",
    "    product_['brand'] = brand.strip()\n",
    "    product_['code_name'] = code_name.strip()\n",
    "    \n",
    "    season = product[1].select_one('strong')\n",
    "    gender = product[1].select_one('span span')\n",
    "    tmp = season.get_text().split()\n",
    "    season = ' '.join(tmp)\n",
    "    product_['season'] = season\n",
    "    product_['gender'] = gender.get_text()\n",
    "    \n",
    "    \n",
    "    img = soup.select_one('div.product-img img')\n",
    "    product_['img'] = img['src']\n",
    "    \n",
    "    tags = product[2].select('a')\n",
    "    for tag in tags:\n",
    "        tags_.append(tag.get_text())\n",
    "        \n",
    "    categories = soup.select_one('p.item_categories').select('a')\n",
    "    middle = categories[0].get_text()\n",
    "    minor = categories[1].get_text()\n",
    "    product_['major'] = gender.get_text()\n",
    "    product_['middle'] = middle\n",
    "    product_['minor'] = minor\n",
    "    \n",
    "    return product_, tags_\n"
   ]
  },
  {
   "cell_type": "code",
   "execution_count": 180,
   "metadata": {},
   "outputs": [],
   "source": [
    "base_url = 'https://store.musinsa.com'\n",
    "items_url = 'https://store.musinsa.com/app/items/lists/001001'"
   ]
  },
  {
   "cell_type": "code",
   "execution_count": 189,
   "metadata": {},
   "outputs": [],
   "source": [
    "\n",
    "def get_items(items_url):\n",
    "    print(items_url)\n",
    "    res = requests.get(items_url)\n",
    "    soup = BeautifulSoup(res.content, 'html.parser')\n",
    "    items = soup.select('li.li_box')\n",
    "    for item in items:\n",
    "        product_link = base_url + item.select_one('a')['href']\n",
    "        time.sleep(1)\n",
    "        product, tag = get_product(product_link)\n",
    "        print(product, tag)"
   ]
  },
  {
   "cell_type": "code",
   "execution_count": 190,
   "metadata": {},
   "outputs": [
    {
     "name": "stdout",
     "output_type": "stream",
     "text": [
      "https://store.musinsa.com/app/items/lists/001001\n",
      "{'brand': 'BUNKERBUSTER', 'code_name': 'MK7TU429-076', 'season': '2020 S/S', 'gender': '남', 'img': '//image.msscdn.net/images/goods_img/20200416/1406175/1406175_1_500.jpg', 'major': '남', 'middle': '상의', 'minor': '반팔 티셔츠'} ['#그래픽', '#프린트', '#로고', '#워딩', '#반팔티', '#티셔츠', '#반팔']\n",
      "{'brand': 'WHOAU', 'code_name': 'WHRPA2456U', 'season': '2020 S/S', 'gender': '여', 'img': '//image.msscdn.net/images/goods_img/20200416/1406153/1406153_4_500.jpg', 'major': '여', 'middle': '상의', 'minor': '반팔 티셔츠'} ['#반팔티셔츠', '#반팔', '#캐릭터']\n",
      "{'brand': 'WHOAU', 'code_name': 'WHRPA2456U', 'season': '2020 S/S', 'gender': '남', 'img': '//image.msscdn.net/images/goods_img/20200416/1406155/1406155_2_500.jpg', 'major': '남', 'middle': '상의', 'minor': '반팔 티셔츠'} ['#반팔', '#반팔티셔츠', '#캐릭터']\n",
      "{'brand': 'BUNKERBUSTER', 'code_name': 'MK7TU429-022', 'season': '2020 S/S', 'gender': '남', 'img': '//image.msscdn.net/images/goods_img/20200416/1406157/1406157_1_500.jpg', 'major': '남', 'middle': '상의', 'minor': '반팔 티셔츠'} ['#워딩', '#프린트', '#반팔티', '#로고', '#그래픽', '#티셔츠', '#반팔']\n",
      "{'brand': 'BUNKERBUSTER', 'code_name': 'MK7TU429-012', 'season': '2020 S/S', 'gender': '남', 'img': '//image.msscdn.net/images/goods_img/20200416/1406140/1406140_1_500.jpg', 'major': '남', 'middle': '상의', 'minor': '반팔 티셔츠'} ['#반팔티', '#로고', '#티셔츠', '#반팔', '#프린트', '#아트웍', '#워딩']\n",
      "{'brand': 'STIGMA', 'code_name': '20STOT21', 'season': '2020 S/S', 'gender': '남', 'img': '//image.msscdn.net/images/goods_img/20200414/1405135/1405135_1_500.jpg', 'major': '남', 'middle': '상의', 'minor': '반팔 티셔츠'} []\n",
      "{'brand': 'BUNKERBUSTER', 'code_name': 'MK7TU429-044', 'season': '2020 S/S', 'gender': '남', 'img': '//image.msscdn.net/images/goods_img/20200416/1406136/1406136_1_500.jpg', 'major': '남', 'middle': '상의', 'minor': '반팔 티셔츠'} ['#워딩', '#프린트', '#반팔', '#반팔티', '#로고', '#그래픽', '#티셔츠']\n",
      "{'brand': 'SEVENSELAH', 'code_name': 'STPW-PP', 'season': '2020 S/S', 'gender': '남', 'img': '//image.msscdn.net/images/goods_img/20200410/1397209/1397209_1_500.jpg', 'major': '남', 'middle': '상의', 'minor': '반팔 티셔츠'} ['#세븐셀라', '#여름티', '#무지티', '#티셔츠', '#반팔']\n",
      "{'brand': 'SEVENSELAH', 'code_name': 'STPW-PN', 'season': '2020 S/S', 'gender': '남', 'img': '//image.msscdn.net/images/goods_img/20200410/1397137/1397137_1_500.jpg', 'major': '남', 'middle': '상의', 'minor': '반팔 티셔츠'} ['#세븐셀라', '#무지티', '#여름티', '#반팔', '#티셔츠']\n",
      "{'brand': 'SEVENSELAH', 'code_name': 'STPW-CC', 'season': '2020 S/S', 'gender': '남', 'img': '//image.msscdn.net/images/goods_img/20200410/1396433/1396433_1_500.jpg', 'major': '남', 'middle': '상의', 'minor': '반팔 티셔츠'} ['#반팔', '#여름티', '#세븐셀라', '#무지티', '#티셔츠']\n",
      "{'brand': 'BUNKERBUSTER', 'code_name': 'MK7TU429-002', 'season': '2020 S/S', 'gender': '남', 'img': '//image.msscdn.net/images/goods_img/20200416/1406132/1406132_1_500.jpg', 'major': '남', 'middle': '상의', 'minor': '반팔 티셔츠'} ['#티셔츠', '#반팔', '#로고', '#반팔티', '#워딩', '#그래픽', '#프린트']\n",
      "{'brand': 'BUNKERBUSTER', 'code_name': 'K7TU426-076', 'season': '2020 S/S', 'gender': '남', 'img': '//image.msscdn.net/images/goods_img/20200416/1406128/1406128_1_500.jpg', 'major': '남', 'middle': '상의', 'minor': '반팔 티셔츠'} ['#프린트', '#반팔티', '#아트웍', '#티셔츠', '#반팔', '#워딩', '#그래픽']\n",
      "{'brand': 'BUNKERBUSTER', 'code_name': 'MK7TU426-075', 'season': '2020 S/S', 'gender': '남', 'img': '//image.msscdn.net/images/goods_img/20200416/1406120/1406120_1_500.jpg', 'major': '남', 'middle': '상의', 'minor': '반팔 티셔츠'} ['#워딩', '#티셔츠', '#아트웍', '#그래픽', '#반팔티', '#프린트', '#반팔']\n",
      "{'brand': 'BUNKERBUSTER', 'code_name': 'MK7TU426-046', 'season': '2020 S/S', 'gender': '남', 'img': '//image.msscdn.net/images/goods_img/20200416/1406110/1406110_1_500.jpg', 'major': '남', 'middle': '상의', 'minor': '반팔 티셔츠'} ['#반팔티', '#워딩', '#아트웍', '#티셔츠', '#반팔', '#그래픽', '#프린트']\n",
      "{'brand': 'BUNKERBUSTER', 'code_name': 'MK7TU426-053', 'season': '2020 S/S', 'gender': '남', 'img': '//image.msscdn.net/images/goods_img/20200416/1406074/1406074_1_500.jpg', 'major': '남', 'middle': '상의', 'minor': '반팔 티셔츠'} ['#프린트', '#반팔티', '#그래픽', '#반팔', '#로고', '#아트웍', '#티셔츠']\n",
      "{'brand': 'BUNKERBUSTER', 'code_name': 'MK7TU426-002', 'season': '2020 S/S', 'gender': '남', 'img': '//image.msscdn.net/images/goods_img/20200416/1406065/1406065_1_500.jpg', 'major': '남', 'middle': '상의', 'minor': '반팔 티셔츠'} ['#그래픽', '#프린트', '#반팔티', '#반팔', '#워딩', '#로고', '#티셔츠']\n",
      "{'brand': 'MARK GONZALES', 'code_name': 'MG2001ST08WH', 'season': '2020 S/S', 'gender': '남', 'img': '//image.msscdn.net/images/goods_img/20200414/1403071/1403071_1_500.jpg', 'major': '남', 'middle': '상의', 'minor': '반팔 티셔츠'} []\n",
      "{'brand': 'MARK GONZALES', 'code_name': 'MG2001ST08NA', 'season': '2020 S/S', 'gender': '남', 'img': '//image.msscdn.net/images/goods_img/20200414/1403072/1403072_1_500.jpg', 'major': '남', 'middle': '상의', 'minor': '반팔 티셔츠'} ['#그래픽', '#MARKGONZALES', '#티셔츠', '#마크곤잘레스', '#T-SHIRTS']\n",
      "{'brand': 'MARK GONZALES', 'code_name': 'MG2001ST09WH', 'season': '2020 S/S', 'gender': '남', 'img': '//image.msscdn.net/images/goods_img/20200414/1403073/1403073_1_500.jpg', 'major': '남', 'middle': '상의', 'minor': '반팔 티셔츠'} ['#MARKGONZALES', '#T-SHIRTS', '#마크곤잘레스', '#그래픽', '#티셔츠']\n",
      "{'brand': 'MARK GONZALES', 'code_name': 'MG2001ST09BK', 'season': '2020 S/S', 'gender': '남', 'img': '//image.msscdn.net/images/goods_img/20200414/1403074/1403074_1_500.jpg', 'major': '남', 'middle': '상의', 'minor': '반팔 티셔츠'} []\n",
      "{'brand': 'MARK GONZALES', 'code_name': 'MG2001ST09LB', 'season': '2020 S/S', 'gender': '남', 'img': '//image.msscdn.net/images/goods_img/20200414/1403075/1403075_1_500.jpg', 'major': '남', 'middle': '상의', 'minor': '반팔 티셔츠'} []\n",
      "{'brand': 'MARK GONZALES', 'code_name': 'MG2001ST16WH', 'season': '2020 S/S', 'gender': '남', 'img': '//image.msscdn.net/images/goods_img/20200414/1403076/1403076_1_500.jpg', 'major': '남', 'middle': '상의', 'minor': '반팔 티셔츠'} []\n",
      "{'brand': 'MARK GONZALES', 'code_name': 'MG2001ST16BK', 'season': '2020 S/S', 'gender': '남', 'img': '//image.msscdn.net/images/goods_img/20200414/1403077/1403077_1_500.jpg', 'major': '남', 'middle': '상의', 'minor': '반팔 티셔츠'} []\n",
      "{'brand': 'MARK GONZALES', 'code_name': 'MG2001ST19WH', 'season': '2020 S/S', 'gender': '남', 'img': '//image.msscdn.net/images/goods_img/20200414/1403078/1403078_1_500.jpg', 'major': '남', 'middle': '상의', 'minor': '반팔 티셔츠'} []\n",
      "{'brand': 'MARK GONZALES', 'code_name': 'MG2001ST19BK', 'season': '2020 S/S', 'gender': '남', 'img': '//image.msscdn.net/images/goods_img/20200414/1403079/1403079_1_500.jpg', 'major': '남', 'middle': '상의', 'minor': '반팔 티셔츠'} ['#MARKGONZALES', '#T-SHIRTS', '#티셔츠', '#마크곤잘레스', '#그래픽']\n",
      "{'brand': 'MARK GONZALES', 'code_name': 'MG2006ST03WH', 'season': '2020 S/S', 'gender': '남', 'img': '//image.msscdn.net/images/goods_img/20200414/1403080/1403080_1_500.jpg', 'major': '남', 'middle': '상의', 'minor': '반팔 티셔츠'} []\n",
      "{'brand': 'MARK GONZALES', 'code_name': 'MG2006ST03BK', 'season': '2020 S/S', 'gender': '남', 'img': '//image.msscdn.net/images/goods_img/20200414/1403081/1403081_1_500.jpg', 'major': '남', 'middle': '상의', 'minor': '반팔 티셔츠'} ['#그래픽', '#MARKGONZALES', '#T-SHIRTS', '#티셔츠', '#마크곤잘레스']\n",
      "{'brand': 'MARK GONZALES', 'code_name': 'MG2006ST03DB', 'season': '2020 S/S', 'gender': '남', 'img': '//image.msscdn.net/images/goods_img/20200414/1403082/1403082_1_500.jpg', 'major': '남', 'middle': '상의', 'minor': '반팔 티셔츠'} ['#MARKGONZALES', '#티셔츠', '#마크곤잘레스', '#그래픽', '#T-SHIRTS']\n",
      "{'brand': 'MARK GONZALES', 'code_name': 'MG2001ST23BK', 'season': '2020 S/S', 'gender': '남', 'img': '//image.msscdn.net/images/goods_img/20200414/1403092/1403092_1_500.jpg', 'major': '남', 'middle': '상의', 'minor': '반팔 티셔츠'} []\n",
      "{'brand': 'MARK GONZALES', 'code_name': 'MG2001ST23BL', 'season': '2020 S/S', 'gender': '남', 'img': '//image.msscdn.net/images/goods_img/20200414/1403093/1403093_1_500.jpg', 'major': '남', 'middle': '상의', 'minor': '반팔 티셔츠'} []\n",
      "{'brand': 'MARK GONZALES', 'code_name': 'MG2001ST23RD', 'season': '2020 S/S', 'gender': '남', 'img': '//image.msscdn.net/images/goods_img/20200414/1403094/1403094_1_500.jpg', 'major': '남', 'middle': '상의', 'minor': '반팔 티셔츠'} ['#마크곤잘레스', '#스트라이프', '#MARKGONZALES', '#T-SHIRTS', '#티셔츠']\n",
      "{'brand': 'BUNKERBUSTER', 'code_name': 'MK2TU241-076', 'season': '2020 S/S', 'gender': '남', 'img': '//image.msscdn.net/images/goods_img/20200416/1406008/1406008_1_500.jpg', 'major': '남', 'middle': '상의', 'minor': '반팔 티셔츠'} ['#티셔츠', '#반팔', '#드로잉', '#그래픽', '#아트웍', '#반팔티', '#프린트']\n"
     ]
    },
    {
     "name": "stdout",
     "output_type": "stream",
     "text": [
      "{'brand': 'BUNKERBUSTER', 'code_name': 'MK2TU241-004', 'season': '2020 S/S', 'gender': '남', 'img': '//image.msscdn.net/images/goods_img/20200416/1406000/1406000_1_500.jpg', 'major': '남', 'middle': '상의', 'minor': '반팔 티셔츠'} ['#티셔츠', '#아트웍', '#그래픽', '#드로잉', '#반팔', '#프린트', '#반팔티']\n",
      "{'brand': 'LECOQ', 'code_name': 'Q0223HRS41', 'season': '2020 S/S', 'gender': '남', 'img': '//image.msscdn.net/images/goods_img/20200407/1388986/1388986_4_500.jpg', 'major': '남', 'middle': '상의', 'minor': '반팔 티셔츠'} ['#LECOQ', '#남성 카라셔츠', '#남성 카라', '#lecoq sportif']\n",
      "{'brand': 'BUNKERBUSTER', 'code_name': 'MK2TU241-002', 'season': '2020 S/S', 'gender': '남', 'img': '//image.msscdn.net/images/goods_img/20200416/1405990/1405990_1_500.jpg', 'major': '남', 'middle': '상의', 'minor': '반팔 티셔츠'} ['#아트웍', '#드로잉', '#티셔츠', '#반팔티', '#프린트', '#그래픽', '#반팔']\n",
      "{'brand': 'BUNKERBUSTER', 'code_name': 'MK2TU240-076', 'season': '2020 S/S', 'gender': '남', 'img': '//image.msscdn.net/images/goods_img/20200416/1405982/1405982_1_500.jpg', 'major': '남', 'middle': '상의', 'minor': '반팔 티셔츠'} ['#반팔', '#반팔티', '#티셔츠', '#아트웍', '#그래픽', '#드로잉', '#프린트']\n",
      "{'brand': 'TIMID FREAK', 'code_name': 'TMDFRK ARC TEE 03', 'season': '2020 S/S', 'gender': '남', 'img': '//image.msscdn.net/images/goods_img/20200414/1404751/1404751_1_500.jpg', 'major': '남', 'middle': '상의', 'minor': '반팔 티셔츠'} ['#티미드프리크', '#오버핏', '#로고티', '#반팔티', '#여자반팔', '#남자반팔', '#티셔츠']\n",
      "{'brand': 'LIFEWORK', 'code_name': 'LW205TS910_WHITE', 'season': '2020 S/S', 'gender': '남', 'img': '//image.msscdn.net/images/goods_img/20200416/1405834/1405834_1_500.jpg', 'major': '남', 'middle': '상의', 'minor': '반팔 티셔츠'} ['#반팔티', '#라이프워크', '#기본티', '#무지티', '#오버핏', '#티셔츠']\n",
      "{'brand': 'LIFEWORK', 'code_name': 'LW205TS910_BLACK', 'season': '2020 S/S', 'gender': '남', 'img': '//image.msscdn.net/images/goods_img/20200416/1405835/1405835_1_500.jpg', 'major': '남', 'middle': '상의', 'minor': '반팔 티셔츠'} []\n",
      "{'brand': 'LIFEWORK', 'code_name': 'LW202TS840_BLACK', 'season': '2020 S/S', 'gender': '남', 'img': '//image.msscdn.net/images/goods_img/20200416/1405837/1405837_1_500.jpg', 'major': '남', 'middle': '상의', 'minor': '반팔 티셔츠'} ['#티셔츠', '#반팔티', '#크롭티', '#크롭', '#라이프워크']\n",
      "{'brand': 'LIFEWORK', 'code_name': 'LW202TS840_GREY', 'season': '2020 S/S', 'gender': '남', 'img': '//image.msscdn.net/images/goods_img/20200416/1405838/1405838_4_500.jpg', 'major': '남', 'middle': '상의', 'minor': '반팔 티셔츠'} ['#크롭', '#반팔티', '#크롭티', '#티셔츠', '#라이프워크']\n",
      "{'brand': 'LIFEWORK', 'code_name': 'LW202TS840_WHITE', 'season': '2020 S/S', 'gender': '남', 'img': '//image.msscdn.net/images/goods_img/20200416/1405839/1405839_1_500.jpg', 'major': '남', 'middle': '상의', 'minor': '반팔 티셔츠'} ['#라이프워크', '#크롭', '#반팔티', '#티셔츠', '#크롭티']\n",
      "{'brand': 'ADE', 'code_name': 'ADT001', 'season': '2020 S/S', 'gender': '여', 'img': '//image.msscdn.net/images/goods_img/20200404/1385845/1385845_1_500.jpg', 'major': '여', 'middle': '상의', 'minor': '반팔 티셔츠'} ['#반팔티', '#1 1티셔츠', '#티셔츠', '#반팔티셔츠']\n",
      "{'brand': 'ADE', 'code_name': 'ADT002', 'season': '2020 S/S', 'gender': '여', 'img': '//image.msscdn.net/images/goods_img/20200404/1385846/1385846_1_500.jpg', 'major': '여', 'middle': '상의', 'minor': '반팔 티셔츠'} ['#티셔츠', '#반팔티', '#그래픽티셔츠', '#반팔티셔츠']\n",
      "{'brand': 'ADE', 'code_name': 'ADT003', 'season': '2020 S/S', 'gender': '여', 'img': '//image.msscdn.net/images/goods_img/20200404/1385847/1385847_1_500.jpg', 'major': '여', 'middle': '상의', 'minor': '반팔 티셔츠'} ['#티셔츠', '#그래픽티셔츠', '#반팔티셔츠', '#반팔티']\n",
      "{'brand': 'ADE', 'code_name': 'ADT019', 'season': '2020 S/S', 'gender': '여', 'img': '//image.msscdn.net/images/goods_img/20200404/1385853/1385853_1_500.jpg', 'major': '여', 'middle': '상의', 'minor': '반팔 티셔츠'} ['#그래픽티셔츠', '#반팔티셔츠', '#티셔츠', '#반팔티']\n",
      "{'brand': 'ADE', 'code_name': 'ADT020', 'season': '2020 S/S', 'gender': '여', 'img': '//image.msscdn.net/images/goods_img/20200404/1385854/1385854_1_500.jpg', 'major': '여', 'middle': '상의', 'minor': '반팔 티셔츠'} ['#반팔티', '#티셔츠', '#그래팩티셔츠', '#반팔티셔츠']\n",
      "{'brand': 'ADE', 'code_name': 'ADT021', 'season': '2020 S/S', 'gender': '여', 'img': '//image.msscdn.net/images/goods_img/20200404/1385855/1385855_1_500.jpg', 'major': '여', 'middle': '상의', 'minor': '반팔 티셔츠'} ['#그래픽티셔츠', '#반팔티셔츠', '#티셔츠', '#반팔티']\n",
      "{'brand': 'BUNKERBUSTER', 'code_name': 'MK2TU240-072', 'season': '2020 S/S', 'gender': '남', 'img': '//image.msscdn.net/images/goods_img/20200416/1405892/1405892_1_500.jpg', 'major': '남', 'middle': '상의', 'minor': '반팔 티셔츠'} ['#티셔츠', '#반팔', '#프린트', '#드로잉', '#그래픽', '#아트웍', '#반팔티']\n",
      "{'brand': 'BUNKERBUSTER', 'code_name': 'MK2TU240-002', 'season': '2020 S/S', 'gender': '남', 'img': '//image.msscdn.net/images/goods_img/20200416/1405890/1405890_1_500.jpg', 'major': '남', 'middle': '상의', 'minor': '반팔 티셔츠'} ['#반팔', '#드로잉', '#아트웍', '#티셔츠', '#프린트', '#반팔티', '#그래픽']\n",
      "{'brand': 'KODAK', 'code_name': 'K0223LRS44HPK', 'season': '2020 S/S', 'gender': '남', 'img': '//image.msscdn.net/images/goods_img/20200407/1388804/1388804_1_500.jpg', 'major': '남', 'middle': '상의', 'minor': '반팔 티셔츠'} ['#KODAK', '#코닥', '#코닥티셔츠', '#레트로감성', '#반팔티셔츠', '#로고티셔츠', '#코닥반팔티셔츠', '#티셔츠']\n",
      "{'brand': 'GMH', 'code_name': 'GH7APT01', 'season': '2020 S/S', 'gender': '여', 'img': '//image.msscdn.net/images/goods_img/20200416/1405778/1405778_1_500.jpg', 'major': '여', 'middle': '상의', 'minor': '반팔 티셔츠'} []\n"
     ]
    },
    {
     "ename": "ValueError",
     "evalue": "not enough values to unpack (expected 2, got 1)",
     "output_type": "error",
     "traceback": [
      "\u001b[1;31m-------------------------------------------------------------------\u001b[0m",
      "\u001b[1;31mValueError\u001b[0m                        Traceback (most recent call last)",
      "\u001b[1;32m<ipython-input-190-33906fa794b1>\u001b[0m in \u001b[0;36m<module>\u001b[1;34m\u001b[0m\n\u001b[0;32m      1\u001b[0m \u001b[0mproduct_link1\u001b[0m \u001b[1;33m=\u001b[0m \u001b[1;34m'https://store.musinsa.com/app/product/detail/1385845/0'\u001b[0m\u001b[1;33m\u001b[0m\u001b[1;33m\u001b[0m\u001b[0m\n\u001b[0;32m      2\u001b[0m \u001b[0mproduct_link2\u001b[0m \u001b[1;33m=\u001b[0m \u001b[1;34m'https://store.musinsa.com/app/product/detail/1406153/0'\u001b[0m\u001b[1;33m\u001b[0m\u001b[1;33m\u001b[0m\u001b[0m\n\u001b[1;32m----> 3\u001b[1;33m \u001b[0mget_items\u001b[0m\u001b[1;33m(\u001b[0m\u001b[0mitems_url\u001b[0m\u001b[1;33m)\u001b[0m\u001b[1;33m\u001b[0m\u001b[1;33m\u001b[0m\u001b[0m\n\u001b[0m\u001b[0;32m      4\u001b[0m \u001b[1;31m# get_product(product_link1)\u001b[0m\u001b[1;33m\u001b[0m\u001b[1;33m\u001b[0m\u001b[1;33m\u001b[0m\u001b[0m\n",
      "\u001b[1;32m<ipython-input-189-a1019b13a1aa>\u001b[0m in \u001b[0;36mget_items\u001b[1;34m(items_url)\u001b[0m\n\u001b[0;32m      7\u001b[0m         \u001b[0mproduct_link\u001b[0m \u001b[1;33m=\u001b[0m \u001b[0mbase_url\u001b[0m \u001b[1;33m+\u001b[0m \u001b[0mitem\u001b[0m\u001b[1;33m.\u001b[0m\u001b[0mselect_one\u001b[0m\u001b[1;33m(\u001b[0m\u001b[1;34m'a'\u001b[0m\u001b[1;33m)\u001b[0m\u001b[1;33m[\u001b[0m\u001b[1;34m'href'\u001b[0m\u001b[1;33m]\u001b[0m\u001b[1;33m\u001b[0m\u001b[1;33m\u001b[0m\u001b[0m\n\u001b[0;32m      8\u001b[0m         \u001b[0mtime\u001b[0m\u001b[1;33m.\u001b[0m\u001b[0msleep\u001b[0m\u001b[1;33m(\u001b[0m\u001b[1;36m1\u001b[0m\u001b[1;33m)\u001b[0m\u001b[1;33m\u001b[0m\u001b[1;33m\u001b[0m\u001b[0m\n\u001b[1;32m----> 9\u001b[1;33m         \u001b[0mproduct\u001b[0m\u001b[1;33m,\u001b[0m \u001b[0mtag\u001b[0m \u001b[1;33m=\u001b[0m \u001b[0mget_product\u001b[0m\u001b[1;33m(\u001b[0m\u001b[0mproduct_link\u001b[0m\u001b[1;33m)\u001b[0m\u001b[1;33m\u001b[0m\u001b[1;33m\u001b[0m\u001b[0m\n\u001b[0m\u001b[0;32m     10\u001b[0m         \u001b[0mprint\u001b[0m\u001b[1;33m(\u001b[0m\u001b[0mproduct\u001b[0m\u001b[1;33m,\u001b[0m \u001b[0mtag\u001b[0m\u001b[1;33m)\u001b[0m\u001b[1;33m\u001b[0m\u001b[1;33m\u001b[0m\u001b[0m\n",
      "\u001b[1;32m<ipython-input-186-32ff96059f01>\u001b[0m in \u001b[0;36mget_product\u001b[1;34m(product_link)\u001b[0m\n\u001b[0;32m      5\u001b[0m     \u001b[0msoup\u001b[0m \u001b[1;33m=\u001b[0m \u001b[0mBeautifulSoup\u001b[0m\u001b[1;33m(\u001b[0m\u001b[0mres\u001b[0m\u001b[1;33m.\u001b[0m\u001b[0mcontent\u001b[0m\u001b[1;33m,\u001b[0m \u001b[1;34m'html.parser'\u001b[0m\u001b[1;33m)\u001b[0m\u001b[1;33m\u001b[0m\u001b[1;33m\u001b[0m\u001b[0m\n\u001b[0;32m      6\u001b[0m     \u001b[0mproduct\u001b[0m \u001b[1;33m=\u001b[0m \u001b[0msoup\u001b[0m\u001b[1;33m.\u001b[0m\u001b[0mselect\u001b[0m\u001b[1;33m(\u001b[0m\u001b[1;34m'p.product_article_contents'\u001b[0m\u001b[1;33m)\u001b[0m\u001b[1;33m\u001b[0m\u001b[1;33m\u001b[0m\u001b[0m\n\u001b[1;32m----> 7\u001b[1;33m     \u001b[0mbrand\u001b[0m\u001b[1;33m,\u001b[0m \u001b[0mcode_name\u001b[0m \u001b[1;33m=\u001b[0m \u001b[0mproduct\u001b[0m\u001b[1;33m[\u001b[0m\u001b[1;36m0\u001b[0m\u001b[1;33m]\u001b[0m\u001b[1;33m.\u001b[0m\u001b[0mget_text\u001b[0m\u001b[1;33m(\u001b[0m\u001b[1;33m)\u001b[0m\u001b[1;33m.\u001b[0m\u001b[0msplit\u001b[0m\u001b[1;33m(\u001b[0m\u001b[1;34m'/'\u001b[0m\u001b[1;33m)\u001b[0m\u001b[1;33m\u001b[0m\u001b[1;33m\u001b[0m\u001b[0m\n\u001b[0m\u001b[0;32m      8\u001b[0m     \u001b[0mproduct_\u001b[0m\u001b[1;33m[\u001b[0m\u001b[1;34m'brand'\u001b[0m\u001b[1;33m]\u001b[0m \u001b[1;33m=\u001b[0m \u001b[0mbrand\u001b[0m\u001b[1;33m.\u001b[0m\u001b[0mstrip\u001b[0m\u001b[1;33m(\u001b[0m\u001b[1;33m)\u001b[0m\u001b[1;33m\u001b[0m\u001b[1;33m\u001b[0m\u001b[0m\n\u001b[0;32m      9\u001b[0m     \u001b[0mproduct_\u001b[0m\u001b[1;33m[\u001b[0m\u001b[1;34m'code_name'\u001b[0m\u001b[1;33m]\u001b[0m \u001b[1;33m=\u001b[0m \u001b[0mcode_name\u001b[0m\u001b[1;33m.\u001b[0m\u001b[0mstrip\u001b[0m\u001b[1;33m(\u001b[0m\u001b[1;33m)\u001b[0m\u001b[1;33m\u001b[0m\u001b[1;33m\u001b[0m\u001b[0m\n",
      "\u001b[1;31mValueError\u001b[0m: not enough values to unpack (expected 2, got 1)"
     ]
    }
   ],
   "source": [
    "product_link1 = 'https://store.musinsa.com/app/product/detail/1385845/0'\n",
    "product_link2 = 'https://store.musinsa.com/app/product/detail/1406153/0'\n",
    "get_items(items_url)\n",
    "# get_product(product_link1)"
   ]
  }
 ],
 "metadata": {
  "kernelspec": {
   "display_name": "Python 3.7.4 64-bit ('ai': venv)",
   "language": "python",
   "name": "python37464bitaivenve3bc65b492cc4e5099d4ead0abe26603"
  },
  "language_info": {
   "codemirror_mode": {
    "name": "ipython",
    "version": 3
   },
   "file_extension": ".py",
   "mimetype": "text/x-python",
   "name": "python",
   "nbconvert_exporter": "python",
   "pygments_lexer": "ipython3",
   "version": "3.7.4"
  }
 },
 "nbformat": 4,
 "nbformat_minor": 4
}
