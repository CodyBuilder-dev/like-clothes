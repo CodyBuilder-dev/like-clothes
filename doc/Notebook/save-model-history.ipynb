{
 "cells": [
  {
   "cell_type": "markdown",
   "metadata": {},
   "source": [
    "## 시스템 파라미터 저장"
   ]
  },
  {
   "cell_type": "code",
   "execution_count": 1,
   "metadata": {},
   "outputs": [],
   "source": [
    "# Sub Pjt-1에서 진행했으므로 생략합니다"
   ]
  },
  {
   "cell_type": "markdown",
   "metadata": {},
   "source": [
    "## 모델 구조 시각화 및 저장\n",
    "---\n",
    "https://keras.io/visualization/"
   ]
  },
  {
   "cell_type": "markdown",
   "metadata": {},
   "source": [
    "사용할 모델"
   ]
  },
  {
   "cell_type": "code",
   "execution_count": 79,
   "metadata": {},
   "outputs": [
    {
     "name": "stdout",
     "output_type": "stream",
     "text": [
      "Train on 18000 samples, validate on 42000 samples\n",
      "Epoch 1/5\n",
      "18000/18000 [==============================] - 7s 398us/step - loss: 0.4071 - accuracy: 0.8768 - val_loss: 0.2738 - val_accuracy: 0.9172\n",
      "Epoch 2/5\n",
      "18000/18000 [==============================] - 7s 382us/step - loss: 0.1845 - accuracy: 0.9432 - val_loss: 0.1594 - val_accuracy: 0.9524\n",
      "Epoch 3/5\n",
      "18000/18000 [==============================] - 7s 383us/step - loss: 0.1187 - accuracy: 0.9654 - val_loss: 0.1176 - val_accuracy: 0.9650\n",
      "Epoch 4/5\n",
      "18000/18000 [==============================] - 7s 383us/step - loss: 0.0810 - accuracy: 0.9758 - val_loss: 0.1052 - val_accuracy: 0.9687\n",
      "Epoch 5/5\n",
      "18000/18000 [==============================] - 7s 384us/step - loss: 0.0584 - accuracy: 0.9818 - val_loss: 0.0993 - val_accuracy: 0.9705\n",
      "10000/10000 [==============================] - 1s 78us/step\n",
      "\n",
      "loss_and_metrics : [0.08950704454109072, 0.9718000292778015]\n",
      "True : 1, Predict : 1\n",
      "True : 0, Predict : 0\n",
      "True : 9, Predict : 9\n",
      "True : 6, Predict : 6\n",
      "True : 4, Predict : 4\n"
     ]
    }
   ],
   "source": [
    "# 0. 사용할 패키지 불러오기\n",
    "from keras.utils import np_utils\n",
    "from keras.datasets import mnist\n",
    "from keras.models import Sequential\n",
    "from keras.layers import Dense, Activation, Conv2D, MaxPooling2D,Dropout, Flatten\n",
    "from keras import optimizers\n",
    "import numpy as np\n",
    "from numpy import argmax\n",
    "\n",
    "# 1. 데이터셋 생성하기\n",
    "\n",
    "# 훈련셋과 시험셋 불러오기\n",
    "(x_train, y_train), (x_test, y_test) = mnist.load_data()\n",
    "\n",
    "# 데이터셋 전처리\n",
    "x_train = x_train.reshape(60000, 28,28,1).astype('float32') / 255.0\n",
    "x_test = x_test.reshape(10000, 28,28,1).astype('float32') / 255.0\n",
    "\n",
    "# 원핫인코딩 (one-hot encoding) 처리\n",
    "y_train = np_utils.to_categorical(y_train)\n",
    "y_test = np_utils.to_categorical(y_test)\n",
    "\n",
    "# 훈련셋과 검증셋 분리\n",
    "x_val = x_train[:42000] # 훈련셋의 30%를 검증셋으로 사용\n",
    "x_train = x_train[42000:]\n",
    "y_val = y_train[:42000] # 훈련셋의 30%를 검증셋으로 사용\n",
    "y_train = y_train[42000:]\n",
    "\n",
    "# 2. 모델 구성하기\n",
    "model = Sequential()\n",
    "model.add(Conv2D(256,kernel_size=(3,3),\n",
    "                 activation=\"relu\",\n",
    "                 kernel_initializer='random_uniform',\n",
    "                 bias_initializer='zeros',\n",
    "                 input_shape = (28,28,1)))\n",
    "model.add(MaxPooling2D(pool_size=(2, 2)))\n",
    "model.add(Dropout(0.2))\n",
    "model.add(Flatten())\n",
    "model.add(Dense(units=64, activation='relu'))\n",
    "\n",
    "model.add(Dense(units=10, activation='softmax'))\n",
    "\n",
    "# 3. 모델 학습과정 설정하기\n",
    "sgd = optimizers.SGD(lr=0.01, decay=1e-6, momentum=0.9, nesterov=True)\n",
    "model.compile(loss='categorical_crossentropy', optimizer=sgd, metrics=['accuracy'])\n",
    "\n",
    "# 4. 모델 학습시키기\n",
    "hist = model.fit(x_train, y_train, epochs=5, batch_size=32, validation_data=(x_val, y_val))\n",
    "\n",
    "# 5. 모델 평가하기\n",
    "loss_and_metrics = model.evaluate(x_test, y_test, batch_size=32)\n",
    "print('')\n",
    "print('loss_and_metrics : ' + str(loss_and_metrics))\n",
    "\n",
    "# 6. 모델 사용하기\n",
    "xhat_idx = np.random.choice(x_test.shape[0], 5)\n",
    "xhat = x_test[xhat_idx]\n",
    "yhat = model.predict_classes(xhat)\n",
    "\n",
    "for i in range(5):\n",
    "    print('True : ' + str(argmax(y_test[xhat_idx[i]])) + ', Predict : ' + str(yhat[i]))"
   ]
  },
  {
   "cell_type": "markdown",
   "metadata": {},
   "source": [
    "메소드 1 : plot model()"
   ]
  },
  {
   "cell_type": "code",
   "execution_count": 58,
   "metadata": {
    "scrolled": true
   },
   "outputs": [
    {
     "data": {
      "image/png": "[encoded data removed]",
      "text/plain": [
       "<IPython.core.display.Image object>"
      ]
     },
     "execution_count": 58,
     "metadata": {},
     "output_type": "execute_result"
    }
   ],
   "source": [
    "# 레이어의 종류와 순서만 표현\n",
    "from keras.utils import plot_model\n",
    "plot_model(model, to_file='model.png')\n",
    "plot_model(model, to_file='model.png',show_shapes=True)\n",
    "plot_model(model, to_file='model.png',expand_nested=True)"
   ]
  },
  {
   "cell_type": "markdown",
   "metadata": {},
   "source": [
    "메소드 1-2. plot-model 이미지 저장"
   ]
  },
  {
   "cell_type": "code",
   "execution_count": null,
   "metadata": {},
   "outputs": [],
   "source": [
    "from keras.utils.vis_utils import model_to_dot"
   ]
  },
  {
   "cell_type": "code",
   "execution_count": 14,
   "metadata": {},
   "outputs": [
    {
     "data": {
      "text/plain": [
       "<pydot.Dot at 0x1abdc321588>"
      ]
     },
     "execution_count": 14,
     "metadata": {},
     "output_type": "execute_result"
    }
   ],
   "source": [
    "# model to dot - 모델을 dot파일포맷으로 변경\n",
    "# dot 이해 필요 - graphviz라는 visualization 소프트웨어에서 그래프 서술 언어\n",
    "# dot문법을 이해할 필요는 없고, model_to_dot으로 변환만 해주면 됨\n",
    "\n",
    "type(model_to_dot(model, show_shapes=True))"
   ]
  },
  {
   "cell_type": "code",
   "execution_count": 11,
   "metadata": {
    "scrolled": true
   },
   "outputs": [
    {
     "data": {
      "text/plain": [
       "b'<?xml version=\"1.0\" encoding=\"UTF-8\" standalone=\"no\"?>\\r\\n<!DOCTYPE svg PUBLIC \"-//W3C//DTD SVG 1.1//EN\"\\r\\n \"http://www.w3.org/Graphics/SVG/1.1/DTD/svg11.dtd\">\\r\\n<!-- Generated by graphviz version 2.38.0 (20140413.2041)\\r\\n -->\\r\\n<!-- Title: G Pages: 1 -->\\r\\n<svg width=\"531pt\" height=\"737pt\"\\r\\n viewBox=\"0.00 0.00 398.00 553.00\" xmlns=\"http://www.w3.org/2000/svg\" xmlns:xlink=\"http://www.w3.org/1999/xlink\">\\r\\n<g id=\"graph0\" class=\"graph\" transform=\"scale(1.33333 1.33333) rotate(0) translate(4 549)\">\\r\\n<title>G</title>\\r\\n<polygon fill=\"white\" stroke=\"none\" points=\"-4,4 -4,-549 394,-549 394,4 -4,4\"/>\\r\\n<!-- 1837123740296 -->\\r\\n<g id=\"node1\" class=\"node\"><title>1837123740296</title>\\r\\n<polygon fill=\"none\" stroke=\"black\" points=\"23,-498.5 23,-544.5 367,-544.5 367,-498.5 23,-498.5\"/>\\r\\n<text text-anchor=\"middle\" x=\"111\" y=\"-517.8\" font-family=\"Times New Roman,serif\" font-size=\"14.00\">conv2d_1_input: InputLayer</text>\\r\\n<polyline fill=\"none\" stroke=\"black\" points=\"199,-498.5 199,-544.5 \"/>\\r\\n<text text-anchor=\"middle\" x=\"227\" y=\"-529.3\" font-family=\"Times New Roman,serif\" font-size=\"14.00\">input:</text>\\r\\n<polyline fill=\"none\" stroke=\"black\" points=\"199,-521.5 255,-521.5 \"/>\\r\\n<text text-anchor=\"middle\" x=\"227\" y=\"-506.3\" font-family=\"Times New Roman,serif\" font-size=\"14.00\">output:</text>\\r\\n<polyline fill=\"none\" stroke=\"black\" points=\"255,-498.5 255,-544.5 \"/>\\r\\n<text text-anchor=\"middle\" x=\"311\" y=\"-529.3\" font-family=\"Times New Roman,serif\" font-size=\"14.00\">(None, 28, 28, 1)</text>\\r\\n<polyline fill=\"none\" stroke=\"black\" points=\"255,-521.5 367,-521.5 \"/>\\r\\n<text text-anchor=\"middle\" x=\"311\" y=\"-506.3\" font-family=\"Times New Roman,serif\" font-size=\"14.00\">(None, 28, 28, 1)</text>\\r\\n</g>\\r\\n<!-- 1837123525512 -->\\r\\n<g id=\"node2\" class=\"node\"><title>1837123525512</title>\\r\\n<polygon fill=\"none\" stroke=\"black\" points=\"41,-415.5 41,-461.5 349,-461.5 349,-415.5 41,-415.5\"/>\\r\\n<text text-anchor=\"middle\" x=\"104.5\" y=\"-434.8\" font-family=\"Times New Roman,serif\" font-size=\"14.00\">conv2d_1: Conv2D</text>\\r\\n<polyline fill=\"none\" stroke=\"black\" points=\"168,-415.5 168,-461.5 \"/>\\r\\n<text text-anchor=\"middle\" x=\"196\" y=\"-446.3\" font-family=\"Times New Roman,serif\" font-size=\"14.00\">input:</text>\\r\\n<polyline fill=\"none\" stroke=\"black\" points=\"168,-438.5 224,-438.5 \"/>\\r\\n<text text-anchor=\"middle\" x=\"196\" y=\"-423.3\" font-family=\"Times New Roman,serif\" font-size=\"14.00\">output:</text>\\r\\n<polyline fill=\"none\" stroke=\"black\" points=\"224,-415.5 224,-461.5 \"/>\\r\\n<text text-anchor=\"middle\" x=\"286.5\" y=\"-446.3\" font-family=\"Times New Roman,serif\" font-size=\"14.00\">(None, 28, 28, 1)</text>\\r\\n<polyline fill=\"none\" stroke=\"black\" points=\"224,-438.5 349,-438.5 \"/>\\r\\n<text text-anchor=\"middle\" x=\"286.5\" y=\"-423.3\" font-family=\"Times New Roman,serif\" font-size=\"14.00\">(None, 26, 26, 256)</text>\\r\\n</g>\\r\\n<!-- 1837123740296&#45;&gt;1837123525512 -->\\r\\n<g id=\"edge1\" class=\"edge\"><title>1837123740296&#45;&gt;1837123525512</title>\\r\\n<path fill=\"none\" stroke=\"black\" d=\"M195,-498.366C195,-490.152 195,-480.658 195,-471.725\"/>\\r\\n<polygon fill=\"black\" stroke=\"black\" points=\"198.5,-471.607 195,-461.607 191.5,-471.607 198.5,-471.607\"/>\\r\\n</g>\\r\\n<!-- 1837123652168 -->\\r\\n<g id=\"node3\" class=\"node\"><title>1837123652168</title>\\r\\n<polygon fill=\"none\" stroke=\"black\" points=\"0,-332.5 0,-378.5 390,-378.5 390,-332.5 0,-332.5\"/>\\r\\n<text text-anchor=\"middle\" x=\"104.5\" y=\"-351.8\" font-family=\"Times New Roman,serif\" font-size=\"14.00\">max_pooling2d_1: MaxPooling2D</text>\\r\\n<polyline fill=\"none\" stroke=\"black\" points=\"209,-332.5 209,-378.5 \"/>\\r\\n<text text-anchor=\"middle\" x=\"237\" y=\"-363.3\" font-family=\"Times New Roman,serif\" font-size=\"14.00\">input:</text>\\r\\n<polyline fill=\"none\" stroke=\"black\" points=\"209,-355.5 265,-355.5 \"/>\\r\\n<text text-anchor=\"middle\" x=\"237\" y=\"-340.3\" font-family=\"Times New Roman,serif\" font-size=\"14.00\">output:</text>\\r\\n<polyline fill=\"none\" stroke=\"black\" points=\"265,-332.5 265,-378.5 \"/>\\r\\n<text text-anchor=\"middle\" x=\"327.5\" y=\"-363.3\" font-family=\"Times New Roman,serif\" font-size=\"14.00\">(None, 26, 26, 256)</text>\\r\\n<polyline fill=\"none\" stroke=\"black\" points=\"265,-355.5 390,-355.5 \"/>\\r\\n<text text-anchor=\"middle\" x=\"327.5\" y=\"-340.3\" font-family=\"Times New Roman,serif\" font-size=\"14.00\">(None, 13, 13, 256)</text>\\r\\n</g>\\r\\n<!-- 1837123525512&#45;&gt;1837123652168 -->\\r\\n<g id=\"edge2\" class=\"edge\"><title>1837123525512&#45;&gt;1837123652168</title>\\r\\n<path fill=\"none\" stroke=\"black\" d=\"M195,-415.366C195,-407.152 195,-397.658 195,-388.725\"/>\\r\\n<polygon fill=\"black\" stroke=\"black\" points=\"198.5,-388.607 195,-378.607 191.5,-388.607 198.5,-388.607\"/>\\r\\n</g>\\r\\n<!-- 1837123742600 -->\\r\\n<g id=\"node4\" class=\"node\"><title>1837123742600</title>\\r\\n<polygon fill=\"none\" stroke=\"black\" points=\"39.5,-249.5 39.5,-295.5 350.5,-295.5 350.5,-249.5 39.5,-249.5\"/>\\r\\n<text text-anchor=\"middle\" x=\"104.5\" y=\"-268.8\" font-family=\"Times New Roman,serif\" font-size=\"14.00\">dropout_1: Dropout</text>\\r\\n<polyline fill=\"none\" stroke=\"black\" points=\"169.5,-249.5 169.5,-295.5 \"/>\\r\\n<text text-anchor=\"middle\" x=\"197.5\" y=\"-280.3\" font-family=\"Times New Roman,serif\" font-size=\"14.00\">input:</text>\\r\\n<polyline fill=\"none\" stroke=\"black\" points=\"169.5,-272.5 225.5,-272.5 \"/>\\r\\n<text text-anchor=\"middle\" x=\"197.5\" y=\"-257.3\" font-family=\"Times New Roman,serif\" font-size=\"14.00\">output:</text>\\r\\n<polyline fill=\"none\" stroke=\"black\" points=\"225.5,-249.5 225.5,-295.5 \"/>\\r\\n<text text-anchor=\"middle\" x=\"288\" y=\"-280.3\" font-family=\"Times New Roman,serif\" font-size=\"14.00\">(None, 13, 13, 256)</text>\\r\\n<polyline fill=\"none\" stroke=\"black\" points=\"225.5,-272.5 350.5,-272.5 \"/>\\r\\n<text text-anchor=\"middle\" x=\"288\" y=\"-257.3\" font-family=\"Times New Roman,serif\" font-size=\"14.00\">(None, 13, 13, 256)</text>\\r\\n</g>\\r\\n<!-- 1837123652168&#45;&gt;1837123742600 -->\\r\\n<g id=\"edge3\" class=\"edge\"><title>1837123652168&#45;&gt;1837123742600</title>\\r\\n<path fill=\"none\" stroke=\"black\" d=\"M195,-332.366C195,-324.152 195,-314.658 195,-305.725\"/>\\r\\n<polygon fill=\"black\" stroke=\"black\" points=\"198.5,-305.607 195,-295.607 191.5,-305.607 198.5,-305.607\"/>\\r\\n</g>\\r\\n<!-- 1837126509640 -->\\r\\n<g id=\"node5\" class=\"node\"><title>1837126509640</title>\\r\\n<polygon fill=\"none\" stroke=\"black\" points=\"50,-166.5 50,-212.5 340,-212.5 340,-166.5 50,-166.5\"/>\\r\\n<text text-anchor=\"middle\" x=\"104.5\" y=\"-185.8\" font-family=\"Times New Roman,serif\" font-size=\"14.00\">flatten_1: Flatten</text>\\r\\n<polyline fill=\"none\" stroke=\"black\" points=\"159,-166.5 159,-212.5 \"/>\\r\\n<text text-anchor=\"middle\" x=\"187\" y=\"-197.3\" font-family=\"Times New Roman,serif\" font-size=\"14.00\">input:</text>\\r\\n<polyline fill=\"none\" stroke=\"black\" points=\"159,-189.5 215,-189.5 \"/>\\r\\n<text text-anchor=\"middle\" x=\"187\" y=\"-174.3\" font-family=\"Times New Roman,serif\" font-size=\"14.00\">output:</text>\\r\\n<polyline fill=\"none\" stroke=\"black\" points=\"215,-166.5 215,-212.5 \"/>\\r\\n<text text-anchor=\"middle\" x=\"277.5\" y=\"-197.3\" font-family=\"Times New Roman,serif\" font-size=\"14.00\">(None, 13, 13, 256)</text>\\r\\n<polyline fill=\"none\" stroke=\"black\" points=\"215,-189.5 340,-189.5 \"/>\\r\\n<text text-anchor=\"middle\" x=\"277.5\" y=\"-174.3\" font-family=\"Times New Roman,serif\" font-size=\"14.00\">(None, 43264)</text>\\r\\n</g>\\r\\n<!-- 1837123742600&#45;&gt;1837126509640 -->\\r\\n<g id=\"edge4\" class=\"edge\"><title>1837123742600&#45;&gt;1837126509640</title>\\r\\n<path fill=\"none\" stroke=\"black\" d=\"M195,-249.366C195,-241.152 195,-231.658 195,-222.725\"/>\\r\\n<polygon fill=\"black\" stroke=\"black\" points=\"198.5,-222.607 195,-212.607 191.5,-222.607 198.5,-222.607\"/>\\r\\n</g>\\r\\n<!-- 1837126511240 -->\\r\\n<g id=\"node6\" class=\"node\"><title>1837126511240</title>\\r\\n<polygon fill=\"none\" stroke=\"black\" points=\"66.5,-83.5 66.5,-129.5 323.5,-129.5 323.5,-83.5 66.5,-83.5\"/>\\r\\n<text text-anchor=\"middle\" x=\"118.5\" y=\"-102.8\" font-family=\"Times New Roman,serif\" font-size=\"14.00\">dense_1: Dense</text>\\r\\n<polyline fill=\"none\" stroke=\"black\" points=\"170.5,-83.5 170.5,-129.5 \"/>\\r\\n<text text-anchor=\"middle\" x=\"198.5\" y=\"-114.3\" font-family=\"Times New Roman,serif\" font-size=\"14.00\">input:</text>\\r\\n<polyline fill=\"none\" stroke=\"black\" points=\"170.5,-106.5 226.5,-106.5 \"/>\\r\\n<text text-anchor=\"middle\" x=\"198.5\" y=\"-91.3\" font-family=\"Times New Roman,serif\" font-size=\"14.00\">output:</text>\\r\\n<polyline fill=\"none\" stroke=\"black\" points=\"226.5,-83.5 226.5,-129.5 \"/>\\r\\n<text text-anchor=\"middle\" x=\"275\" y=\"-114.3\" font-family=\"Times New Roman,serif\" font-size=\"14.00\">(None, 43264)</text>\\r\\n<polyline fill=\"none\" stroke=\"black\" points=\"226.5,-106.5 323.5,-106.5 \"/>\\r\\n<text text-anchor=\"middle\" x=\"275\" y=\"-91.3\" font-family=\"Times New Roman,serif\" font-size=\"14.00\">(None, 64)</text>\\r\\n</g>\\r\\n<!-- 1837126509640&#45;&gt;1837126511240 -->\\r\\n<g id=\"edge5\" class=\"edge\"><title>1837126509640&#45;&gt;1837126511240</title>\\r\\n<path fill=\"none\" stroke=\"black\" d=\"M195,-166.366C195,-158.152 195,-148.658 195,-139.725\"/>\\r\\n<polygon fill=\"black\" stroke=\"black\" points=\"198.5,-139.607 195,-129.607 191.5,-139.607 198.5,-139.607\"/>\\r\\n</g>\\r\\n<!-- 1837126719240 -->\\r\\n<g id=\"node7\" class=\"node\"><title>1837126719240</title>\\r\\n<polygon fill=\"none\" stroke=\"black\" points=\"76.5,-0.5 76.5,-46.5 313.5,-46.5 313.5,-0.5 76.5,-0.5\"/>\\r\\n<text text-anchor=\"middle\" x=\"128.5\" y=\"-19.8\" font-family=\"Times New Roman,serif\" font-size=\"14.00\">dense_2: Dense</text>\\r\\n<polyline fill=\"none\" stroke=\"black\" points=\"180.5,-0.5 180.5,-46.5 \"/>\\r\\n<text text-anchor=\"middle\" x=\"208.5\" y=\"-31.3\" font-family=\"Times New Roman,serif\" font-size=\"14.00\">input:</text>\\r\\n<polyline fill=\"none\" stroke=\"black\" points=\"180.5,-23.5 236.5,-23.5 \"/>\\r\\n<text text-anchor=\"middle\" x=\"208.5\" y=\"-8.3\" font-family=\"Times New Roman,serif\" font-size=\"14.00\">output:</text>\\r\\n<polyline fill=\"none\" stroke=\"black\" points=\"236.5,-0.5 236.5,-46.5 \"/>\\r\\n<text text-anchor=\"middle\" x=\"275\" y=\"-31.3\" font-family=\"Times New Roman,serif\" font-size=\"14.00\">(None, 64)</text>\\r\\n<polyline fill=\"none\" stroke=\"black\" points=\"236.5,-23.5 313.5,-23.5 \"/>\\r\\n<text text-anchor=\"middle\" x=\"275\" y=\"-8.3\" font-family=\"Times New Roman,serif\" font-size=\"14.00\">(None, 10)</text>\\r\\n</g>\\r\\n<!-- 1837126511240&#45;&gt;1837126719240 -->\\r\\n<g id=\"edge6\" class=\"edge\"><title>1837126511240&#45;&gt;1837126719240</title>\\r\\n<path fill=\"none\" stroke=\"black\" d=\"M195,-83.3664C195,-75.1516 195,-65.6579 195,-56.7252\"/>\\r\\n<polygon fill=\"black\" stroke=\"black\" points=\"198.5,-56.6068 195,-46.6068 191.5,-56.6069 198.5,-56.6068\"/>\\r\\n</g>\\r\\n</g>\\r\\n</svg>\\r\\n'"
      ]
     },
     "execution_count": 11,
     "metadata": {},
     "output_type": "execute_result"
    }
   ],
   "source": [
    "# model을 dot로 변경한 후, create()로 원하는 format의 그래프를 생성한다\n",
    "model_to_dot(model, show_shapes=True).create(prog='dot',format='svg')"
   ]
  },
  {
   "cell_type": "code",
   "execution_count": 50,
   "metadata": {
    "scrolled": false
   },
   "outputs": [
    {
     "data": {
      "image/svg+xml": [
       "<svg height=\"737pt\" viewBox=\"0.00 0.00 398.00 553.00\" width=\"531pt\" xmlns=\"http://www.w3.org/2000/svg\" xmlns:xlink=\"http://www.w3.org/1999/xlink\">\n",
       "<g class=\"graph\" id=\"graph0\" transform=\"scale(1.33333 1.33333) rotate(0) translate(4 549)\">\n",
       "<title>G</title>\n",
       "<polygon fill=\"white\" points=\"-4,4 -4,-549 394,-549 394,4 -4,4\" stroke=\"none\"/>\n",
       "<!-- 1837123740296 -->\n",
       "<g class=\"node\" id=\"node1\"><title>1837123740296</title>\n",
       "<polygon fill=\"none\" points=\"23,-498.5 23,-544.5 367,-544.5 367,-498.5 23,-498.5\" stroke=\"black\"/>\n",
       "<text font-family=\"Times New Roman,serif\" font-size=\"14.00\" text-anchor=\"middle\" x=\"111\" y=\"-517.8\">conv2d_1_input: InputLayer</text>\n",
       "<polyline fill=\"none\" points=\"199,-498.5 199,-544.5 \" stroke=\"black\"/>\n",
       "<text font-family=\"Times New Roman,serif\" font-size=\"14.00\" text-anchor=\"middle\" x=\"227\" y=\"-529.3\">input:</text>\n",
       "<polyline fill=\"none\" points=\"199,-521.5 255,-521.5 \" stroke=\"black\"/>\n",
       "<text font-family=\"Times New Roman,serif\" font-size=\"14.00\" text-anchor=\"middle\" x=\"227\" y=\"-506.3\">output:</text>\n",
       "<polyline fill=\"none\" points=\"255,-498.5 255,-544.5 \" stroke=\"black\"/>\n",
       "<text font-family=\"Times New Roman,serif\" font-size=\"14.00\" text-anchor=\"middle\" x=\"311\" y=\"-529.3\">(None, 28, 28, 1)</text>\n",
       "<polyline fill=\"none\" points=\"255,-521.5 367,-521.5 \" stroke=\"black\"/>\n",
       "<text font-family=\"Times New Roman,serif\" font-size=\"14.00\" text-anchor=\"middle\" x=\"311\" y=\"-506.3\">(None, 28, 28, 1)</text>\n",
       "</g>\n",
       "<!-- 1837123525512 -->\n",
       "<g class=\"node\" id=\"node2\"><title>1837123525512</title>\n",
       "<polygon fill=\"none\" points=\"41,-415.5 41,-461.5 349,-461.5 349,-415.5 41,-415.5\" stroke=\"black\"/>\n",
       "<text font-family=\"Times New Roman,serif\" font-size=\"14.00\" text-anchor=\"middle\" x=\"104.5\" y=\"-434.8\">conv2d_1: Conv2D</text>\n",
       "<polyline fill=\"none\" points=\"168,-415.5 168,-461.5 \" stroke=\"black\"/>\n",
       "<text font-family=\"Times New Roman,serif\" font-size=\"14.00\" text-anchor=\"middle\" x=\"196\" y=\"-446.3\">input:</text>\n",
       "<polyline fill=\"none\" points=\"168,-438.5 224,-438.5 \" stroke=\"black\"/>\n",
       "<text font-family=\"Times New Roman,serif\" font-size=\"14.00\" text-anchor=\"middle\" x=\"196\" y=\"-423.3\">output:</text>\n",
       "<polyline fill=\"none\" points=\"224,-415.5 224,-461.5 \" stroke=\"black\"/>\n",
       "<text font-family=\"Times New Roman,serif\" font-size=\"14.00\" text-anchor=\"middle\" x=\"286.5\" y=\"-446.3\">(None, 28, 28, 1)</text>\n",
       "<polyline fill=\"none\" points=\"224,-438.5 349,-438.5 \" stroke=\"black\"/>\n",
       "<text font-family=\"Times New Roman,serif\" font-size=\"14.00\" text-anchor=\"middle\" x=\"286.5\" y=\"-423.3\">(None, 26, 26, 256)</text>\n",
       "</g>\n",
       "<!-- 1837123740296&#45;&gt;1837123525512 -->\n",
       "<g class=\"edge\" id=\"edge1\"><title>1837123740296-&gt;1837123525512</title>\n",
       "<path d=\"M195,-498.366C195,-490.152 195,-480.658 195,-471.725\" fill=\"none\" stroke=\"black\"/>\n",
       "<polygon fill=\"black\" points=\"198.5,-471.607 195,-461.607 191.5,-471.607 198.5,-471.607\" stroke=\"black\"/>\n",
       "</g>\n",
       "<!-- 1837123652168 -->\n",
       "<g class=\"node\" id=\"node3\"><title>1837123652168</title>\n",
       "<polygon fill=\"none\" points=\"0,-332.5 0,-378.5 390,-378.5 390,-332.5 0,-332.5\" stroke=\"black\"/>\n",
       "<text font-family=\"Times New Roman,serif\" font-size=\"14.00\" text-anchor=\"middle\" x=\"104.5\" y=\"-351.8\">max_pooling2d_1: MaxPooling2D</text>\n",
       "<polyline fill=\"none\" points=\"209,-332.5 209,-378.5 \" stroke=\"black\"/>\n",
       "<text font-family=\"Times New Roman,serif\" font-size=\"14.00\" text-anchor=\"middle\" x=\"237\" y=\"-363.3\">input:</text>\n",
       "<polyline fill=\"none\" points=\"209,-355.5 265,-355.5 \" stroke=\"black\"/>\n",
       "<text font-family=\"Times New Roman,serif\" font-size=\"14.00\" text-anchor=\"middle\" x=\"237\" y=\"-340.3\">output:</text>\n",
       "<polyline fill=\"none\" points=\"265,-332.5 265,-378.5 \" stroke=\"black\"/>\n",
       "<text font-family=\"Times New Roman,serif\" font-size=\"14.00\" text-anchor=\"middle\" x=\"327.5\" y=\"-363.3\">(None, 26, 26, 256)</text>\n",
       "<polyline fill=\"none\" points=\"265,-355.5 390,-355.5 \" stroke=\"black\"/>\n",
       "<text font-family=\"Times New Roman,serif\" font-size=\"14.00\" text-anchor=\"middle\" x=\"327.5\" y=\"-340.3\">(None, 13, 13, 256)</text>\n",
       "</g>\n",
       "<!-- 1837123525512&#45;&gt;1837123652168 -->\n",
       "<g class=\"edge\" id=\"edge2\"><title>1837123525512-&gt;1837123652168</title>\n",
       "<path d=\"M195,-415.366C195,-407.152 195,-397.658 195,-388.725\" fill=\"none\" stroke=\"black\"/>\n",
       "<polygon fill=\"black\" points=\"198.5,-388.607 195,-378.607 191.5,-388.607 198.5,-388.607\" stroke=\"black\"/>\n",
       "</g>\n",
       "<!-- 1837123742600 -->\n",
       "<g class=\"node\" id=\"node4\"><title>1837123742600</title>\n",
       "<polygon fill=\"none\" points=\"39.5,-249.5 39.5,-295.5 350.5,-295.5 350.5,-249.5 39.5,-249.5\" stroke=\"black\"/>\n",
       "<text font-family=\"Times New Roman,serif\" font-size=\"14.00\" text-anchor=\"middle\" x=\"104.5\" y=\"-268.8\">dropout_1: Dropout</text>\n",
       "<polyline fill=\"none\" points=\"169.5,-249.5 169.5,-295.5 \" stroke=\"black\"/>\n",
       "<text font-family=\"Times New Roman,serif\" font-size=\"14.00\" text-anchor=\"middle\" x=\"197.5\" y=\"-280.3\">input:</text>\n",
       "<polyline fill=\"none\" points=\"169.5,-272.5 225.5,-272.5 \" stroke=\"black\"/>\n",
       "<text font-family=\"Times New Roman,serif\" font-size=\"14.00\" text-anchor=\"middle\" x=\"197.5\" y=\"-257.3\">output:</text>\n",
       "<polyline fill=\"none\" points=\"225.5,-249.5 225.5,-295.5 \" stroke=\"black\"/>\n",
       "<text font-family=\"Times New Roman,serif\" font-size=\"14.00\" text-anchor=\"middle\" x=\"288\" y=\"-280.3\">(None, 13, 13, 256)</text>\n",
       "<polyline fill=\"none\" points=\"225.5,-272.5 350.5,-272.5 \" stroke=\"black\"/>\n",
       "<text font-family=\"Times New Roman,serif\" font-size=\"14.00\" text-anchor=\"middle\" x=\"288\" y=\"-257.3\">(None, 13, 13, 256)</text>\n",
       "</g>\n",
       "<!-- 1837123652168&#45;&gt;1837123742600 -->\n",
       "<g class=\"edge\" id=\"edge3\"><title>1837123652168-&gt;1837123742600</title>\n",
       "<path d=\"M195,-332.366C195,-324.152 195,-314.658 195,-305.725\" fill=\"none\" stroke=\"black\"/>\n",
       "<polygon fill=\"black\" points=\"198.5,-305.607 195,-295.607 191.5,-305.607 198.5,-305.607\" stroke=\"black\"/>\n",
       "</g>\n",
       "<!-- 1837126509640 -->\n",
       "<g class=\"node\" id=\"node5\"><title>1837126509640</title>\n",
       "<polygon fill=\"none\" points=\"50,-166.5 50,-212.5 340,-212.5 340,-166.5 50,-166.5\" stroke=\"black\"/>\n",
       "<text font-family=\"Times New Roman,serif\" font-size=\"14.00\" text-anchor=\"middle\" x=\"104.5\" y=\"-185.8\">flatten_1: Flatten</text>\n",
       "<polyline fill=\"none\" points=\"159,-166.5 159,-212.5 \" stroke=\"black\"/>\n",
       "<text font-family=\"Times New Roman,serif\" font-size=\"14.00\" text-anchor=\"middle\" x=\"187\" y=\"-197.3\">input:</text>\n",
       "<polyline fill=\"none\" points=\"159,-189.5 215,-189.5 \" stroke=\"black\"/>\n",
       "<text font-family=\"Times New Roman,serif\" font-size=\"14.00\" text-anchor=\"middle\" x=\"187\" y=\"-174.3\">output:</text>\n",
       "<polyline fill=\"none\" points=\"215,-166.5 215,-212.5 \" stroke=\"black\"/>\n",
       "<text font-family=\"Times New Roman,serif\" font-size=\"14.00\" text-anchor=\"middle\" x=\"277.5\" y=\"-197.3\">(None, 13, 13, 256)</text>\n",
       "<polyline fill=\"none\" points=\"215,-189.5 340,-189.5 \" stroke=\"black\"/>\n",
       "<text font-family=\"Times New Roman,serif\" font-size=\"14.00\" text-anchor=\"middle\" x=\"277.5\" y=\"-174.3\">(None, 43264)</text>\n",
       "</g>\n",
       "<!-- 1837123742600&#45;&gt;1837126509640 -->\n",
       "<g class=\"edge\" id=\"edge4\"><title>1837123742600-&gt;1837126509640</title>\n",
       "<path d=\"M195,-249.366C195,-241.152 195,-231.658 195,-222.725\" fill=\"none\" stroke=\"black\"/>\n",
       "<polygon fill=\"black\" points=\"198.5,-222.607 195,-212.607 191.5,-222.607 198.5,-222.607\" stroke=\"black\"/>\n",
       "</g>\n",
       "<!-- 1837126511240 -->\n",
       "<g class=\"node\" id=\"node6\"><title>1837126511240</title>\n",
       "<polygon fill=\"none\" points=\"66.5,-83.5 66.5,-129.5 323.5,-129.5 323.5,-83.5 66.5,-83.5\" stroke=\"black\"/>\n",
       "<text font-family=\"Times New Roman,serif\" font-size=\"14.00\" text-anchor=\"middle\" x=\"118.5\" y=\"-102.8\">dense_1: Dense</text>\n",
       "<polyline fill=\"none\" points=\"170.5,-83.5 170.5,-129.5 \" stroke=\"black\"/>\n",
       "<text font-family=\"Times New Roman,serif\" font-size=\"14.00\" text-anchor=\"middle\" x=\"198.5\" y=\"-114.3\">input:</text>\n",
       "<polyline fill=\"none\" points=\"170.5,-106.5 226.5,-106.5 \" stroke=\"black\"/>\n",
       "<text font-family=\"Times New Roman,serif\" font-size=\"14.00\" text-anchor=\"middle\" x=\"198.5\" y=\"-91.3\">output:</text>\n",
       "<polyline fill=\"none\" points=\"226.5,-83.5 226.5,-129.5 \" stroke=\"black\"/>\n",
       "<text font-family=\"Times New Roman,serif\" font-size=\"14.00\" text-anchor=\"middle\" x=\"275\" y=\"-114.3\">(None, 43264)</text>\n",
       "<polyline fill=\"none\" points=\"226.5,-106.5 323.5,-106.5 \" stroke=\"black\"/>\n",
       "<text font-family=\"Times New Roman,serif\" font-size=\"14.00\" text-anchor=\"middle\" x=\"275\" y=\"-91.3\">(None, 64)</text>\n",
       "</g>\n",
       "<!-- 1837126509640&#45;&gt;1837126511240 -->\n",
       "<g class=\"edge\" id=\"edge5\"><title>1837126509640-&gt;1837126511240</title>\n",
       "<path d=\"M195,-166.366C195,-158.152 195,-148.658 195,-139.725\" fill=\"none\" stroke=\"black\"/>\n",
       "<polygon fill=\"black\" points=\"198.5,-139.607 195,-129.607 191.5,-139.607 198.5,-139.607\" stroke=\"black\"/>\n",
       "</g>\n",
       "<!-- 1837126719240 -->\n",
       "<g class=\"node\" id=\"node7\"><title>1837126719240</title>\n",
       "<polygon fill=\"none\" points=\"76.5,-0.5 76.5,-46.5 313.5,-46.5 313.5,-0.5 76.5,-0.5\" stroke=\"black\"/>\n",
       "<text font-family=\"Times New Roman,serif\" font-size=\"14.00\" text-anchor=\"middle\" x=\"128.5\" y=\"-19.8\">dense_2: Dense</text>\n",
       "<polyline fill=\"none\" points=\"180.5,-0.5 180.5,-46.5 \" stroke=\"black\"/>\n",
       "<text font-family=\"Times New Roman,serif\" font-size=\"14.00\" text-anchor=\"middle\" x=\"208.5\" y=\"-31.3\">input:</text>\n",
       "<polyline fill=\"none\" points=\"180.5,-23.5 236.5,-23.5 \" stroke=\"black\"/>\n",
       "<text font-family=\"Times New Roman,serif\" font-size=\"14.00\" text-anchor=\"middle\" x=\"208.5\" y=\"-8.3\">output:</text>\n",
       "<polyline fill=\"none\" points=\"236.5,-0.5 236.5,-46.5 \" stroke=\"black\"/>\n",
       "<text font-family=\"Times New Roman,serif\" font-size=\"14.00\" text-anchor=\"middle\" x=\"275\" y=\"-31.3\">(None, 64)</text>\n",
       "<polyline fill=\"none\" points=\"236.5,-23.5 313.5,-23.5 \" stroke=\"black\"/>\n",
       "<text font-family=\"Times New Roman,serif\" font-size=\"14.00\" text-anchor=\"middle\" x=\"275\" y=\"-8.3\">(None, 10)</text>\n",
       "</g>\n",
       "<!-- 1837126511240&#45;&gt;1837126719240 -->\n",
       "<g class=\"edge\" id=\"edge6\"><title>1837126511240-&gt;1837126719240</title>\n",
       "<path d=\"M195,-83.3664C195,-75.1516 195,-65.6579 195,-56.7252\" fill=\"none\" stroke=\"black\"/>\n",
       "<polygon fill=\"black\" points=\"198.5,-56.6068 195,-46.6068 191.5,-56.6069 198.5,-56.6068\" stroke=\"black\"/>\n",
       "</g>\n",
       "</g>\n",
       "</svg>"
      ],
      "text/plain": [
       "<IPython.core.display.SVG object>"
      ]
     },
     "execution_count": 50,
     "metadata": {},
     "output_type": "execute_result"
    }
   ],
   "source": [
    "#모델 아키텍처 시각화\n",
    "from IPython.display import SVG\n",
    "\n",
    "# 생성된 SVG 파일을 IPython 커널의 display를 통해 시각화\n",
    "SVG(model_to_dot(model, show_shapes=True).create(prog='dot', format='svg'))"
   ]
  },
  {
   "cell_type": "markdown",
   "metadata": {},
   "source": [
    "메소드 2. model summary"
   ]
  },
  {
   "cell_type": "code",
   "execution_count": 59,
   "metadata": {},
   "outputs": [
    {
     "name": "stdout",
     "output_type": "stream",
     "text": [
      "Model: \"sequential_2\"\n",
      "_________________________________________________________________\n",
      "Layer (type)                 Output Shape              Param #   \n",
      "=================================================================\n",
      "conv2d_2 (Conv2D)            (None, 26, 26, 256)       2560      \n",
      "_________________________________________________________________\n",
      "max_pooling2d_2 (MaxPooling2 (None, 13, 13, 256)       0         \n",
      "_________________________________________________________________\n",
      "dropout_2 (Dropout)          (None, 13, 13, 256)       0         \n",
      "_________________________________________________________________\n",
      "flatten_2 (Flatten)          (None, 43264)             0         \n",
      "_________________________________________________________________\n",
      "dense_3 (Dense)              (None, 64)                2768960   \n",
      "_________________________________________________________________\n",
      "dense_4 (Dense)              (None, 10)                650       \n",
      "=================================================================\n",
      "Total params: 2,772,170\n",
      "Trainable params: 2,772,170\n",
      "Non-trainable params: 0\n",
      "_________________________________________________________________\n"
     ]
    }
   ],
   "source": [
    "# plot_model의 정보 위의 정보들에 추가적으로 param # 보여줌\n",
    "model.summary()"
   ]
  },
  {
   "cell_type": "markdown",
   "metadata": {},
   "source": [
    "메소드 3. 모델 내부의 Func 확인"
   ]
  },
  {
   "cell_type": "code",
   "execution_count": 62,
   "metadata": {
    "scrolled": true
   },
   "outputs": [
    {
     "data": {
      "text/plain": [
       "(<function keras.activations.relu(x, alpha=0.0, max_value=None, threshold=0.0)>,\n",
       " <keras.initializers.RandomUniform at 0x1abdc47c288>)"
      ]
     },
     "execution_count": 62,
     "metadata": {},
     "output_type": "execute_result"
    }
   ],
   "source": [
    "#model 객체의 layers에서 확인 가능\n",
    "#layer activation, initializer 확인 가능\n",
    "model.layers[0].activation , model.layers[0].kernel_initializer"
   ]
  },
  {
   "cell_type": "code",
   "execution_count": 80,
   "metadata": {},
   "outputs": [
    {
     "data": {
      "text/plain": [
       "<keras.optimizers.SGD at 0x1abc09b2108>"
      ]
     },
     "execution_count": 80,
     "metadata": {},
     "output_type": "execute_result"
    }
   ],
   "source": [
    "#model optimizer 확인 가능\n",
    "model.optimizer"
   ]
  },
  {
   "cell_type": "code",
   "execution_count": 88,
   "metadata": {},
   "outputs": [
    {
     "data": {
      "text/plain": [
       "{'learning_rate': 0.009999999776482582,\n",
       " 'momentum': 0.8999999761581421,\n",
       " 'decay': 9.999999974752427e-07,\n",
       " 'nesterov': True}"
      ]
     },
     "execution_count": 88,
     "metadata": {},
     "output_type": "execute_result"
    }
   ],
   "source": [
    "#optimizer 설정도 확인 가능\n",
    "model.optimizer.get_config()"
   ]
  },
  {
   "cell_type": "code",
   "execution_count": 3,
   "metadata": {},
   "outputs": [],
   "source": [
    "# RNN 모델 내부 구조 저장"
   ]
  },
  {
   "cell_type": "markdown",
   "metadata": {},
   "source": [
    "## 모델 학습 결과 저장"
   ]
  },
  {
   "cell_type": "markdown",
   "metadata": {},
   "source": [
    "방법 1. argparse 라이브러리 이용"
   ]
  },
  {
   "cell_type": "code",
   "execution_count": null,
   "metadata": {},
   "outputs": [],
   "source": [
    "# batch_size,epoch은 argparse 이용 가능\n",
    "# model.fit 시 사용되는 모든 argument(https://www.tensorflow.org/api_docs/python/tf/keras/Model) 저장 가능"
   ]
  },
  {
   "cell_type": "markdown",
   "metadata": {},
   "source": [
    "방법 1. hist 객체 사용"
   ]
  },
  {
   "cell_type": "code",
   "execution_count": 67,
   "metadata": {},
   "outputs": [
    {
     "data": {
      "text/plain": [
       "{'val_loss': [0.3938412240913936,\n",
       "  0.36442891646283015,\n",
       "  0.28990501230245547,\n",
       "  0.2825883195939518,\n",
       "  0.26718402979771294],\n",
       " 'val_accuracy': [0.8878571391105652,\n",
       "  0.8897857069969177,\n",
       "  0.9142380952835083,\n",
       "  0.9178571701049805,\n",
       "  0.920452356338501],\n",
       " 'loss': [0.7982787083784739,\n",
       "  0.3393993072708448,\n",
       "  0.2960471516582701,\n",
       "  0.2641215688056416,\n",
       "  0.2392258566816648],\n",
       " 'accuracy': [0.80583334, 0.89827776, 0.9118889, 0.9215556, 0.9293889]}"
      ]
     },
     "execution_count": 67,
     "metadata": {},
     "output_type": "execute_result"
    }
   ],
   "source": [
    "# epoch별 metric 결과는 hist에서 확인 가능\n",
    "hist.history"
   ]
  },
  {
   "cell_type": "markdown",
   "metadata": {},
   "source": [
    "방법 2. 모델 weight만 저장"
   ]
  },
  {
   "cell_type": "code",
   "execution_count": 92,
   "metadata": {},
   "outputs": [],
   "source": [
    "#대략 10mb\n",
    "model.save_weights('model-weight/model-weight.h5')"
   ]
  },
  {
   "cell_type": "markdown",
   "metadata": {},
   "source": [
    "방법 3. 모델 아키텍처 + weight 저장\n",
    "\n",
    "나중에 모델을 재구성하기 위한 모델의 구성 정보  \n",
    "모델를 구성하는 각 뉴런들의 가중치(weight)  \n",
    "손실함수, 최적하기 등의 학습 설정  \n",
    "재학습을 할 수 있도록 마지막 학습 상태  "
   ]
  },
  {
   "cell_type": "code",
   "execution_count": 93,
   "metadata": {},
   "outputs": [],
   "source": [
    "#대략 21mb\n",
    "model.save('model/model.h5')"
   ]
  },
  {
   "cell_type": "code",
   "execution_count": null,
   "metadata": {},
   "outputs": [],
   "source": []
  }
 ],
 "metadata": {
  "kernelspec": {
   "display_name": "Python 3",
   "language": "python",
   "name": "python3"
  },
  "language_info": {
   "codemirror_mode": {
    "name": "ipython",
    "version": 3
   },
   "file_extension": ".py",
   "mimetype": "text/x-python",
   "name": "python",
   "nbconvert_exporter": "python",
   "pygments_lexer": "ipython3",
   "version": "3.7.6"
  }
 },
 "nbformat": 4,
 "nbformat_minor": 4
}
