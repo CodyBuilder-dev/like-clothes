{
 "cells": [
  {
   "cell_type": "markdown",
   "metadata": {},
   "source": [
    "# 상의/하의 추천 시스템\n",
    "---\n",
    "\n",
    "## 문제 인식\n",
    "### 기존 추천시스템의 문제\n",
    "유사도 기반 추천 알고리즘이므로, 기존 제품과 유사한 것만 추천해준다.  \n",
    "(예시 : 상의 이미지가 들어올 경우, 비슷한 상의만 추천해준다)\n",
    "\n",
    "### 해결하고자 하는 문제\n",
    "제품이 들어올 경우 이와 어울리는 조합을 추천해주고 싶다  \n",
    "(예시 : 상의가 들어오면 거기에 어울리는 하의/아우터/신발 등을 추천해주고 싶다)\n",
    "\n",
    "## 문제 정의\n",
    "### 추천해주고 싶은 옷의 조합의 범위는?\n",
    "일단은 크게 3가지로만 시도한다 (상의/하의/아우터)  \n",
    "남자 : 상의/하의(바지)/아우터\n",
    "여자 : 상의/하의(바지,치마)/아우터\n",
    "### 어울림이란 무엇인가\n",
    "1. 종류  \n",
    "트레이닝 상의-트레이닝 하의  \n",
    "터틀넥 - 면바지  \n",
    "-> 소분류 정보 필요\n",
    "2. 색깔  \n",
    "사전에 정의된 색조합이 있음 -> 색상 정보 필요\n",
    "3. 계절\n",
    "겨울옷이랑 여름옷이 매칭되면 이상함 -> 계절 정보 필요\n",
    "\n",
    "### 사용자 취향 vs 객관적 어울림\n",
    "사용자의 취향을 무조건 앞서서 보자\n",
    "\n",
    "## 문제해결 방식\n",
    "### 어울림 척도 정의\n",
    "1. 상의/하의 종류간의 어울림 정도를 Attribute Matrix로 저장한다\n",
    "2. 상의를 기반으로 상의/아우터간의 어울림 정도를 matrix로 저장한다.\n",
    "3. ~~색상간의 어울림 정도를 matrix로 저장한다.~~-> 색상은 그냥 랜덤으로 하자\n",
    "4. ~~계절정보를 반영한다~~-> 계절도 일단은 없는걸로 하자\n",
    "\n",
    "or \n",
    "\n",
    "~크라우드 소싱(상의/하의/아우터 조합)~\n",
    "\n",
    "### Attribution Matrix\n",
    "상의x,하의 y간의 어울림정도를 0-1사이 값으로 표현  \n",
    "Attribution Matrix 값이 높을수록 추천 우선순위  \n",
    "\n",
    "Attribution Matrix의 개인화/수정은?  \n",
    "->개인화는 쉽지 않음. DB를 새로 만들어야 함  \n",
    "-> 수정도 쉽지 않음. 유저의 피드백을 받아서 정량적 계산을 통해 넣어야 함"
   ]
  },
  {
   "cell_type": "code",
   "execution_count": 3,
   "metadata": {},
   "outputs": [],
   "source": [
    "import os\n",
    "\n",
    "os.chdir('..')"
   ]
  },
  {
   "cell_type": "code",
   "execution_count": 4,
   "metadata": {},
   "outputs": [],
   "source": [
    "import pandas as pd\n",
    "import json\n",
    "import pymysql"
   ]
  },
  {
   "cell_type": "code",
   "execution_count": 8,
   "metadata": {},
   "outputs": [],
   "source": [
    "def connect_db(dbinfo_path) :\n",
    "    with open(dbinfo_path) as jsonfile :\n",
    "        dbinfo = json.load(jsonfile)\n",
    "\n",
    "    connection = pymysql.connect(host=dbinfo['host'],\n",
    "                         port=dbinfo['port'],\n",
    "                         user=dbinfo['user'], \n",
    "                         passwd=dbinfo['passwd'],\n",
    "                         db=dbinfo['db'],\n",
    "                         charset=dbinfo['charset'])\n",
    "    \n",
    "    return connection"
   ]
  },
  {
   "cell_type": "code",
   "execution_count": 39,
   "metadata": {},
   "outputs": [],
   "source": [
    "cur =db.cursor()"
   ]
  },
  {
   "cell_type": "code",
   "execution_count": 42,
   "metadata": {},
   "outputs": [],
   "source": [
    "def get_minor_category(connection,major,middle) :\n",
    "    cur = connection.cursor()\n",
    "    sql = \"SELECT minor FROM CLOTHES_CLASS WHERE major='{}' AND middle='{}';\".format(major,middle)\n",
    "    cur.execute(sql)\n",
    "\n",
    "    minor_list = []\n",
    "    for minor in cur :\n",
    "        minor_list.append(minor[0])\n",
    "\n",
    "    return minor_list"
   ]
  },
  {
   "cell_type": "code",
   "execution_count": 40,
   "metadata": {},
   "outputs": [
    {
     "data": {
      "text/plain": [
       "126"
      ]
     },
     "execution_count": 40,
     "metadata": {},
     "output_type": "execute_result"
    }
   ],
   "source": [
    "cur.execute(\"SELECT minor FROM CLOTHES_CLASS\")"
   ]
  },
  {
   "cell_type": "code",
   "execution_count": 54,
   "metadata": {},
   "outputs": [],
   "source": [
    "# 남성/여성 카테고리 받아오기\n",
    "db = connect_db('dbinfo-temp.json')\n",
    "\n",
    "male_up = get_minor_category(db,'남','상의')\n",
    "male_low = get_minor_category(db,'남','바지')\n",
    "male_out = get_minor_category(db,'남','아우터')\n",
    "female_up = get_minor_category(db,'여','상의')\n",
    "female_out = get_minor_category(db,'여','아우터')\n",
    "female_one = get_minor_category(db,'여','원피스')"
   ]
  },
  {
   "cell_type": "code",
   "execution_count": 51,
   "metadata": {
    "scrolled": true
   },
   "outputs": [],
   "source": [
    "female_pants = get_minor_category(db,'여','바지')\n",
    "female_skirt = get_minor_category(db,'여','스커트')\n",
    "female_pants.extend(female_skirt)\n",
    "female_low = female_pants"
   ]
  },
  {
   "cell_type": "code",
   "execution_count": 62,
   "metadata": {},
   "outputs": [
    {
     "data": {
      "text/plain": [
       "['미니 원피스', '미디 원피스', '맥시 원피스', '점프수트']"
      ]
     },
     "execution_count": 62,
     "metadata": {},
     "output_type": "execute_result"
    }
   ],
   "source": [
    "female_one"
   ]
  },
  {
   "cell_type": "code",
   "execution_count": 74,
   "metadata": {},
   "outputs": [],
   "source": [
    "# Attribution Matrix 초기화(처음에는 하드코딩)\n",
    "male_uplow = pd.read_csv('prep_data/male_uplow.csv',sep='\\t',header=None)\n",
    "male_upout = pd.read_csv('prep_data/male_upout.csv',sep='\\t',header=None)\n",
    "female_uplow = pd.read_csv('prep_data/female_uplow.csv',sep='\\t',header=None)\n",
    "female_upout = pd.read_csv('prep_data/female_upout.csv',sep='\\t',header=None)\n",
    "female_oneout = pd.read_csv('prep_data/female_oneout.csv',sep='\\t',header=None)"
   ]
  },
  {
   "cell_type": "code",
   "execution_count": 68,
   "metadata": {},
   "outputs": [],
   "source": [
    "#인덱스 설정\n",
    "male_uplow.columns = male_up\n",
    "male_uplow.index = male_low\n",
    "\n",
    "male_upout.columns = male_up\n",
    "male_upout.index = male_out\n",
    "\n",
    "female_uplow.columns = female_up\n",
    "female_uplow.index = female_low\n",
    "\n",
    "female_upout.columns = female_up\n",
    "female_upout.index = female_out\n",
    "\n",
    "female_oneout.columns = female_one\n",
    "female_oneout.index = female_out\n"
   ]
  },
  {
   "cell_type": "code",
   "execution_count": 69,
   "metadata": {},
   "outputs": [
    {
     "data": {
      "text/html": [
       "<div>\n",
       "<style scoped>\n",
       "    .dataframe tbody tr th:only-of-type {\n",
       "        vertical-align: middle;\n",
       "    }\n",
       "\n",
       "    .dataframe tbody tr th {\n",
       "        vertical-align: top;\n",
       "    }\n",
       "\n",
       "    .dataframe thead th {\n",
       "        text-align: right;\n",
       "    }\n",
       "</style>\n",
       "<table border=\"1\" class=\"dataframe\">\n",
       "  <thead>\n",
       "    <tr style=\"text-align: right;\">\n",
       "      <th></th>\n",
       "      <th>반팔 티셔츠</th>\n",
       "      <th>긴팔 티셔츠</th>\n",
       "      <th>민소매 티셔츠</th>\n",
       "      <th>셔츠/블라우스</th>\n",
       "      <th>피케/카라 티셔츠</th>\n",
       "      <th>맨투맨/스웨트셔츠</th>\n",
       "      <th>후드 스웨트셔츠/후드 집업</th>\n",
       "      <th>니트/스웨터/카디건</th>\n",
       "      <th>베스트</th>\n",
       "      <th>기타 상의</th>\n",
       "    </tr>\n",
       "  </thead>\n",
       "  <tbody>\n",
       "    <tr>\n",
       "      <th>블루종/MA-1</th>\n",
       "      <td>4</td>\n",
       "      <td>5</td>\n",
       "      <td>0</td>\n",
       "      <td>3</td>\n",
       "      <td>3</td>\n",
       "      <td>4</td>\n",
       "      <td>4</td>\n",
       "      <td>2</td>\n",
       "      <td>3</td>\n",
       "      <td>3</td>\n",
       "    </tr>\n",
       "    <tr>\n",
       "      <th>레더/라이더스 재킷</th>\n",
       "      <td>1</td>\n",
       "      <td>4</td>\n",
       "      <td>0</td>\n",
       "      <td>3</td>\n",
       "      <td>3</td>\n",
       "      <td>4</td>\n",
       "      <td>4</td>\n",
       "      <td>2</td>\n",
       "      <td>3</td>\n",
       "      <td>3</td>\n",
       "    </tr>\n",
       "    <tr>\n",
       "      <th>트러커 재킷</th>\n",
       "      <td>1</td>\n",
       "      <td>4</td>\n",
       "      <td>0</td>\n",
       "      <td>1</td>\n",
       "      <td>4</td>\n",
       "      <td>4</td>\n",
       "      <td>4</td>\n",
       "      <td>2</td>\n",
       "      <td>3</td>\n",
       "      <td>3</td>\n",
       "    </tr>\n",
       "    <tr>\n",
       "      <th>수트/블레이저 재킷</th>\n",
       "      <td>1</td>\n",
       "      <td>3</td>\n",
       "      <td>0</td>\n",
       "      <td>5</td>\n",
       "      <td>1</td>\n",
       "      <td>1</td>\n",
       "      <td>1</td>\n",
       "      <td>4</td>\n",
       "      <td>3</td>\n",
       "      <td>3</td>\n",
       "    </tr>\n",
       "    <tr>\n",
       "      <th>아노락 재킷</th>\n",
       "      <td>1</td>\n",
       "      <td>3</td>\n",
       "      <td>0</td>\n",
       "      <td>2</td>\n",
       "      <td>2</td>\n",
       "      <td>4</td>\n",
       "      <td>3</td>\n",
       "      <td>3</td>\n",
       "      <td>3</td>\n",
       "      <td>3</td>\n",
       "    </tr>\n",
       "    <tr>\n",
       "      <th>나일론/코치  재킷</th>\n",
       "      <td>2</td>\n",
       "      <td>3</td>\n",
       "      <td>2</td>\n",
       "      <td>2</td>\n",
       "      <td>3</td>\n",
       "      <td>4</td>\n",
       "      <td>3</td>\n",
       "      <td>1</td>\n",
       "      <td>1</td>\n",
       "      <td>3</td>\n",
       "    </tr>\n",
       "    <tr>\n",
       "      <th>기타 아우터</th>\n",
       "      <td>1</td>\n",
       "      <td>3</td>\n",
       "      <td>0</td>\n",
       "      <td>3</td>\n",
       "      <td>1</td>\n",
       "      <td>3</td>\n",
       "      <td>3</td>\n",
       "      <td>3</td>\n",
       "      <td>3</td>\n",
       "      <td>3</td>\n",
       "    </tr>\n",
       "    <tr>\n",
       "      <th>트레이닝 재킷</th>\n",
       "      <td>3</td>\n",
       "      <td>3</td>\n",
       "      <td>3</td>\n",
       "      <td>2</td>\n",
       "      <td>3</td>\n",
       "      <td>4</td>\n",
       "      <td>3</td>\n",
       "      <td>1</td>\n",
       "      <td>1</td>\n",
       "      <td>3</td>\n",
       "    </tr>\n",
       "    <tr>\n",
       "      <th>스타디움 재킷</th>\n",
       "      <td>1</td>\n",
       "      <td>3</td>\n",
       "      <td>0</td>\n",
       "      <td>2</td>\n",
       "      <td>3</td>\n",
       "      <td>4</td>\n",
       "      <td>4</td>\n",
       "      <td>1</td>\n",
       "      <td>1</td>\n",
       "      <td>3</td>\n",
       "    </tr>\n",
       "    <tr>\n",
       "      <th>환절기 코트</th>\n",
       "      <td>1</td>\n",
       "      <td>4</td>\n",
       "      <td>0</td>\n",
       "      <td>4</td>\n",
       "      <td>1</td>\n",
       "      <td>4</td>\n",
       "      <td>4</td>\n",
       "      <td>5</td>\n",
       "      <td>5</td>\n",
       "      <td>3</td>\n",
       "    </tr>\n",
       "    <tr>\n",
       "      <th>겨울 싱글 코트</th>\n",
       "      <td>1</td>\n",
       "      <td>4</td>\n",
       "      <td>0</td>\n",
       "      <td>4</td>\n",
       "      <td>1</td>\n",
       "      <td>4</td>\n",
       "      <td>4</td>\n",
       "      <td>5</td>\n",
       "      <td>5</td>\n",
       "      <td>3</td>\n",
       "    </tr>\n",
       "    <tr>\n",
       "      <th>겨울 기타 코트</th>\n",
       "      <td>1</td>\n",
       "      <td>4</td>\n",
       "      <td>0</td>\n",
       "      <td>4</td>\n",
       "      <td>1</td>\n",
       "      <td>4</td>\n",
       "      <td>4</td>\n",
       "      <td>5</td>\n",
       "      <td>5</td>\n",
       "      <td>3</td>\n",
       "    </tr>\n",
       "    <tr>\n",
       "      <th>롱 패딩/롱 헤비 아우터</th>\n",
       "      <td>1</td>\n",
       "      <td>4</td>\n",
       "      <td>0</td>\n",
       "      <td>2</td>\n",
       "      <td>1</td>\n",
       "      <td>4</td>\n",
       "      <td>4</td>\n",
       "      <td>4</td>\n",
       "      <td>3</td>\n",
       "      <td>3</td>\n",
       "    </tr>\n",
       "    <tr>\n",
       "      <th>숏 패딩/숏 헤비 아우터</th>\n",
       "      <td>1</td>\n",
       "      <td>4</td>\n",
       "      <td>0</td>\n",
       "      <td>2</td>\n",
       "      <td>1</td>\n",
       "      <td>4</td>\n",
       "      <td>4</td>\n",
       "      <td>4</td>\n",
       "      <td>3</td>\n",
       "      <td>3</td>\n",
       "    </tr>\n",
       "    <tr>\n",
       "      <th>패딩 베스트</th>\n",
       "      <td>1</td>\n",
       "      <td>4</td>\n",
       "      <td>0</td>\n",
       "      <td>4</td>\n",
       "      <td>1</td>\n",
       "      <td>4</td>\n",
       "      <td>4</td>\n",
       "      <td>4</td>\n",
       "      <td>3</td>\n",
       "      <td>3</td>\n",
       "    </tr>\n",
       "    <tr>\n",
       "      <th>사파리/헌팅 재킷</th>\n",
       "      <td>1</td>\n",
       "      <td>4</td>\n",
       "      <td>0</td>\n",
       "      <td>2</td>\n",
       "      <td>1</td>\n",
       "      <td>3</td>\n",
       "      <td>4</td>\n",
       "      <td>3</td>\n",
       "      <td>4</td>\n",
       "      <td>3</td>\n",
       "    </tr>\n",
       "  </tbody>\n",
       "</table>\n",
       "</div>"
      ],
      "text/plain": [
       "               반팔 티셔츠  긴팔 티셔츠  민소매 티셔츠  셔츠/블라우스  피케/카라 티셔츠  맨투맨/스웨트셔츠  \\\n",
       "블루종/MA-1            4       5        0        3          3          4   \n",
       "레더/라이더스 재킷          1       4        0        3          3          4   \n",
       "트러커 재킷              1       4        0        1          4          4   \n",
       "수트/블레이저 재킷          1       3        0        5          1          1   \n",
       "아노락 재킷              1       3        0        2          2          4   \n",
       "나일론/코치  재킷          2       3        2        2          3          4   \n",
       "기타 아우터              1       3        0        3          1          3   \n",
       "트레이닝 재킷             3       3        3        2          3          4   \n",
       "스타디움 재킷             1       3        0        2          3          4   \n",
       "환절기 코트              1       4        0        4          1          4   \n",
       "겨울 싱글 코트            1       4        0        4          1          4   \n",
       "겨울 기타 코트            1       4        0        4          1          4   \n",
       "롱 패딩/롱 헤비 아우터       1       4        0        2          1          4   \n",
       "숏 패딩/숏 헤비 아우터       1       4        0        2          1          4   \n",
       "패딩 베스트              1       4        0        4          1          4   \n",
       "사파리/헌팅 재킷           1       4        0        2          1          3   \n",
       "\n",
       "               후드 스웨트셔츠/후드 집업  니트/스웨터/카디건  베스트  기타 상의  \n",
       "블루종/MA-1                    4           2    3      3  \n",
       "레더/라이더스 재킷                  4           2    3      3  \n",
       "트러커 재킷                      4           2    3      3  \n",
       "수트/블레이저 재킷                  1           4    3      3  \n",
       "아노락 재킷                      3           3    3      3  \n",
       "나일론/코치  재킷                  3           1    1      3  \n",
       "기타 아우터                      3           3    3      3  \n",
       "트레이닝 재킷                     3           1    1      3  \n",
       "스타디움 재킷                     4           1    1      3  \n",
       "환절기 코트                      4           5    5      3  \n",
       "겨울 싱글 코트                    4           5    5      3  \n",
       "겨울 기타 코트                    4           5    5      3  \n",
       "롱 패딩/롱 헤비 아우터               4           4    3      3  \n",
       "숏 패딩/숏 헤비 아우터               4           4    3      3  \n",
       "패딩 베스트                      4           4    3      3  \n",
       "사파리/헌팅 재킷                   4           3    4      3  "
      ]
     },
     "execution_count": 69,
     "metadata": {},
     "output_type": "execute_result"
    }
   ],
   "source": [
    "male_upout"
   ]
  },
  {
   "cell_type": "code",
   "execution_count": 70,
   "metadata": {},
   "outputs": [],
   "source": [
    "#Transpose DataFrame 획득\n",
    "male_lowup = male_uplow.T\n",
    "male_outup = male_upout.T\n",
    "female_lowup = female_uplow.T\n",
    "female_outup = female_upout.T\n",
    "female_outone = female_oneout.T"
   ]
  },
  {
   "cell_type": "code",
   "execution_count": 84,
   "metadata": {},
   "outputs": [
    {
     "data": {
      "text/plain": [
       "79"
      ]
     },
     "execution_count": 84,
     "metadata": {},
     "output_type": "execute_result"
    }
   ],
   "source": [
    "# DB Class index <-> 카테고리 한글명 관계\n",
    "# 아동은 제외하고 남/여 상의만 불러오기\n",
    "# (아동의 경우는 태그 분류 학습용으로는 가능하지만, 추천용으로는 제외해야 함)\n",
    "# 스포츠 -> 기능성 상의도 제외\n",
    "db = connect_db('dbinfo-temp.json')\n",
    "cur = db.cursor()\n",
    "\n",
    "sql = 'SELECT id,major,middle,minor FROM CLOTHES_CLASS WHERE middle!=\"\" AND major!=\"아동\" AND middle!=\"스포츠/용품\" AND middle!=\"가방\";' # \\으로 개행해도 SQL 정상 동작 확인\n",
    "cur.execute(sql)"
   ]
  },
  {
   "cell_type": "code",
   "execution_count": 85,
   "metadata": {},
   "outputs": [],
   "source": [
    "clothes_class ={}\n",
    "for id,major,middle,minor in cur :\n",
    "    clothes_class[id] = [major,middle,minor]\n",
    "\n",
    "clothes_class = pd.DataFrame(clothes_class)"
   ]
  },
  {
   "cell_type": "code",
   "execution_count": 86,
   "metadata": {},
   "outputs": [
    {
     "data": {
      "text/html": [
       "<div>\n",
       "<style scoped>\n",
       "    .dataframe tbody tr th:only-of-type {\n",
       "        vertical-align: middle;\n",
       "    }\n",
       "\n",
       "    .dataframe tbody tr th {\n",
       "        vertical-align: top;\n",
       "    }\n",
       "\n",
       "    .dataframe thead th {\n",
       "        text-align: right;\n",
       "    }\n",
       "</style>\n",
       "<table border=\"1\" class=\"dataframe\">\n",
       "  <thead>\n",
       "    <tr style=\"text-align: right;\">\n",
       "      <th></th>\n",
       "      <th>52</th>\n",
       "      <th>53</th>\n",
       "      <th>54</th>\n",
       "      <th>55</th>\n",
       "      <th>56</th>\n",
       "      <th>57</th>\n",
       "      <th>58</th>\n",
       "      <th>59</th>\n",
       "      <th>60</th>\n",
       "      <th>61</th>\n",
       "      <th>...</th>\n",
       "      <th>121</th>\n",
       "      <th>122</th>\n",
       "      <th>123</th>\n",
       "      <th>124</th>\n",
       "      <th>125</th>\n",
       "      <th>126</th>\n",
       "      <th>127</th>\n",
       "      <th>128</th>\n",
       "      <th>141</th>\n",
       "      <th>178</th>\n",
       "    </tr>\n",
       "  </thead>\n",
       "  <tbody>\n",
       "    <tr>\n",
       "      <th>0</th>\n",
       "      <td>남</td>\n",
       "      <td>여</td>\n",
       "      <td>남</td>\n",
       "      <td>여</td>\n",
       "      <td>여</td>\n",
       "      <td>남</td>\n",
       "      <td>남</td>\n",
       "      <td>여</td>\n",
       "      <td>남</td>\n",
       "      <td>여</td>\n",
       "      <td>...</td>\n",
       "      <td>남</td>\n",
       "      <td>남</td>\n",
       "      <td>여</td>\n",
       "      <td>여</td>\n",
       "      <td>남</td>\n",
       "      <td>여</td>\n",
       "      <td>남</td>\n",
       "      <td>여</td>\n",
       "      <td>남</td>\n",
       "      <td>라이프</td>\n",
       "    </tr>\n",
       "    <tr>\n",
       "      <th>1</th>\n",
       "      <td>상의</td>\n",
       "      <td>상의</td>\n",
       "      <td>상의</td>\n",
       "      <td>상의</td>\n",
       "      <td>상의</td>\n",
       "      <td>상의</td>\n",
       "      <td>상의</td>\n",
       "      <td>상의</td>\n",
       "      <td>상의</td>\n",
       "      <td>상의</td>\n",
       "      <td>...</td>\n",
       "      <td>바지</td>\n",
       "      <td>바지</td>\n",
       "      <td>바지</td>\n",
       "      <td>스커트</td>\n",
       "      <td>스커트</td>\n",
       "      <td>스커트</td>\n",
       "      <td>스커트</td>\n",
       "      <td>스커트</td>\n",
       "      <td>원피스</td>\n",
       "      <td>상의</td>\n",
       "    </tr>\n",
       "    <tr>\n",
       "      <th>2</th>\n",
       "      <td>반팔 티셔츠</td>\n",
       "      <td>반팔 티셔츠</td>\n",
       "      <td>긴팔 티셔츠</td>\n",
       "      <td>긴팔 티셔츠</td>\n",
       "      <td>민소매 티셔츠</td>\n",
       "      <td>민소매 티셔츠</td>\n",
       "      <td>셔츠/블라우스</td>\n",
       "      <td>셔츠/블라우스</td>\n",
       "      <td>피케/카라 티셔츠</td>\n",
       "      <td>피케/카라 티셔츠</td>\n",
       "      <td>...</td>\n",
       "      <td>레깅스</td>\n",
       "      <td>기타 바지</td>\n",
       "      <td>기타 바지</td>\n",
       "      <td>미니 스커트</td>\n",
       "      <td>미니 스커트</td>\n",
       "      <td>미디 스커트</td>\n",
       "      <td>미디 스커트</td>\n",
       "      <td>롱 스커트</td>\n",
       "      <td>미디 원피스</td>\n",
       "      <td>반팔 티셔츠</td>\n",
       "    </tr>\n",
       "  </tbody>\n",
       "</table>\n",
       "<p>3 rows × 79 columns</p>\n",
       "</div>"
      ],
      "text/plain": [
       "      52      53      54      55       56       57       58       59   \\\n",
       "0       남       여       남       여        여        남        남        여   \n",
       "1      상의      상의      상의      상의       상의       상의       상의       상의   \n",
       "2  반팔 티셔츠  반팔 티셔츠  긴팔 티셔츠  긴팔 티셔츠  민소매 티셔츠  민소매 티셔츠  셔츠/블라우스  셔츠/블라우스   \n",
       "\n",
       "         60         61   ...  121    122    123     124     125     126  \\\n",
       "0          남          여  ...    남      남      여       여       남       여   \n",
       "1         상의         상의  ...   바지     바지     바지     스커트     스커트     스커트   \n",
       "2  피케/카라 티셔츠  피케/카라 티셔츠  ...  레깅스  기타 바지  기타 바지  미니 스커트  미니 스커트  미디 스커트   \n",
       "\n",
       "      127    128     141     178  \n",
       "0       남      여       남     라이프  \n",
       "1     스커트    스커트     원피스      상의  \n",
       "2  미디 스커트  롱 스커트  미디 원피스  반팔 티셔츠  \n",
       "\n",
       "[3 rows x 79 columns]"
      ]
     },
     "execution_count": 86,
     "metadata": {},
     "output_type": "execute_result"
    }
   ],
   "source": [
    "clothes_class"
   ]
  },
  {
   "cell_type": "code",
   "execution_count": 81,
   "metadata": {},
   "outputs": [
    {
     "data": {
      "text/plain": [
       "'반팔 티셔츠'"
      ]
     },
     "execution_count": 81,
     "metadata": {},
     "output_type": "execute_result"
    }
   ],
   "source": [
    "clothes_class[52][2]"
   ]
  },
  {
   "cell_type": "markdown",
   "metadata": {},
   "source": [
    "## 아이템간 추천\n",
    "---\n",
    "추천의 시작 : 가장 중요한 것은 위시리스트 & 취향   \n",
    "위시리스트/취향으로부터 우선 추천 -> 상의/하의/아우터에 대해 유사도 기반 각 3개씩 추천  \n",
    "위시리스트와 어울리는 세트 추천 -> 상의로부터 하의 추천, 하의로부터 상의 추천, 상의로부터 아우터 추천하는 식으로 새로 만들어서 3개 추천  \n",
    "사용자에게는 그냥 퉁쳐서 '취향과 어울리는 세트 상품입니다' 로 추천\n"
   ]
  },
  {
   "cell_type": "markdown",
   "metadata": {},
   "source": [
    "### 카테고리 추천"
   ]
  },
  {
   "cell_type": "code",
   "execution_count": null,
   "metadata": {},
   "outputs": [],
   "source": [
    "# 카테고리 선택 : 현재 상/하의로부터 가장 높은 어울림점수를 갖는 상/하의 카테고리 선택\n",
    "# 아이템 선택 : 카테고리가 선택되면, 이로부터 DB 탐색. 마지막 등록 N개까지. 이중에 랜덤 하나 추천\n",
    "\n",
    "#input 들어오는 형태\n",
    "input_class_id = 52"
   ]
  },
  {
   "cell_type": "code",
   "execution_count": 47,
   "metadata": {},
   "outputs": [],
   "source": [
    "input_major = clothes_class[input_class_id][0]\n",
    "input_middle = clothes_class[input_class_id][1]\n",
    "input_minor = clothes_class[input_class_id][2]"
   ]
  },
  {
   "cell_type": "code",
   "execution_count": 99,
   "metadata": {},
   "outputs": [],
   "source": [
    "# 상의/하의 추천함수\n",
    "def over_mean(scores:pd.Series) :\n",
    "    return scores[scores>scores.mean()].index.values\n",
    "\n",
    "def recommand_set(major,middle,minor) :\n",
    "    male_map = {'상의':(male_uplow,male_upout),'바지':male_lowup,'아우터':male_outup}\n",
    "    female_map = {'상의':(female_uplow,female_upout),'바지':female_lowup,'스커트':female_lowup,\n",
    "                  '아우터':(female_outup,female_outone),'원피스':female_oneout}\n",
    "    mf_map = {'남':male_map,'여':female_map}\n",
    "    \n",
    "    for df in mf_map[major][middle] :    \n",
    "        print(\"현재 옷에 잘 어울리는 카테고리는\",over_mean(df[minor]))"
   ]
  },
  {
   "cell_type": "code",
   "execution_count": 100,
   "metadata": {},
   "outputs": [
    {
     "name": "stdout",
     "output_type": "stream",
     "text": [
      "현재 옷에 잘 어울리는 카테고리는 ['데님 팬츠 ' '코튼 팬츠 ' '트레이닝/조거 팬츠' '숏 팬츠 ']\n",
      "현재 옷에 잘 어울리는 카테고리는 ['블루종/MA-1' '나일론/코치 재킷' '트레이닝 재킷']\n"
     ]
    }
   ],
   "source": [
    "recommand_set('남','상의','반팔 티셔츠')"
   ]
  },
  {
   "cell_type": "markdown",
   "metadata": {},
   "source": [
    "### 카테고리 내 상품 추천"
   ]
  },
  {
   "cell_type": "code",
   "execution_count": 104,
   "metadata": {},
   "outputs": [],
   "source": [
    "# 원래 계획 : 카테고리가 결정되면, 거기서부터 색상 기반으로 맞춤형 추천을 한다\n",
    "# 실제 구현 : 색상정보를 하기가 어려워서 그냥 랜덤하게 최신순으로 N개 뽑아서 추천해줌\n",
    "# 혹은 여유가 된다면, feature extraction -> content based 추천으로 할 수있음\n",
    "def recommand_item(major,minor) :\n",
    "    db = connect_db('dbinfo-temp.json')\n",
    "    cur = db.cursor()\n",
    "    sql = \"SELECT CLOTHES.id,CLOTHES.img FROM CLOTHES_AND_CLOTHES_CLASS \\\n",
    "            INNER JOIN CLOTHES ON  CLOTHES_AND_CLOTHES_CLASS.clothes_id = CLOTHES.id \\\n",
    "            INNER JOIN CLOTHES_CLASS ON CLOTHES_AND_CLOTHES_CLASS.clothes_class_id = CLOTHES_CLASS.id \\\n",
    "            WHERE CLOTHES_CLASS.major = '{}' AND CLOTHES_CLASS.minor ='{}'  \\\n",
    "            ORDER BY CLOTHES.updated DESC \\\n",
    "            LIMIT 5;\".format(major,minor)\n",
    "    cur.execute(sql)\n",
    "\n",
    "    return cur"
   ]
  },
  {
   "cell_type": "code",
   "execution_count": 106,
   "metadata": {},
   "outputs": [],
   "source": [
    "result = recommand_item('남','데님 팬츠')"
   ]
  },
  {
   "cell_type": "code",
   "execution_count": 107,
   "metadata": {},
   "outputs": [
    {
     "name": "stdout",
     "output_type": "stream",
     "text": [
      "48505 //image.msscdn.net/images/goods_img/20200306/1339640/1339640_1_500.jpg\n",
      "48502 //image.msscdn.net/images/goods_img/20200204/1289815/1289815_2_500.jpg\n",
      "48498 //image.msscdn.net/images/goods_img/20200204/1289405/1289405_1_500.jpg\n",
      "48496 //image.msscdn.net/images/goods_img/20191216/1251930/1251930_2_500.jpg\n",
      "48493 //image.msscdn.net/images/goods_img/20190201/947579/947579_12_500.jpg\n"
     ]
    }
   ],
   "source": [
    "for id,img in result :\n",
    "    print(id,img)"
   ]
  },
  {
   "cell_type": "code",
   "execution_count": null,
   "metadata": {},
   "outputs": [],
   "source": []
  }
 ],
 "metadata": {
  "kernelspec": {
   "display_name": "Python 3",
   "language": "python",
   "name": "python3"
  },
  "language_info": {
   "codemirror_mode": {
    "name": "ipython",
    "version": 3
   },
   "file_extension": ".py",
   "mimetype": "text/x-python",
   "name": "python",
   "nbconvert_exporter": "python",
   "pygments_lexer": "ipython3",
   "version": "3.7.6"
  }
 },
 "nbformat": 4,
 "nbformat_minor": 4
}
