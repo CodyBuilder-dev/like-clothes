{
 "cells": [
  {
   "cell_type": "markdown",
   "metadata": {},
   "source": [
    "# 컨텐츠 기반 추천서비스\n",
    "\n",
    "추출된 feature 바탕으로 추천 가즈아\n",
    "\n",
    "**Nearest Neighbor 기반 협업 필터링** https://medium.com/sfu-cspmp/recommendation-systems-user-based-collaborative-filtering-using-n-nearest-neighbors-bf7361dc24e0\n",
    "\n",
    "**SVDPP 기반 추천시스템?** https://blog.cambridgespark.com/tutorial-practical-introduction-to-recommender-systems-dbe22848392b\n",
    "\n",
    "**추천 시스템의 설계 (PR시리즈.18)** https://bahnsville.tistory.com/936\n",
    "\n",
    "**딥러닝을 이용한 자연어처리 - 여러가지 유사도기법들** https://wikidocs.net/24654\n",
    "\n",
    "**토닥토닥 파이썬 - Pearson 유사도 기반 협업필터링** https://wikidocs.net/44421\n",
    "\n",
    "**딥러닝 이용 의류 세트 추천** https://www.slideshare.net/MinjiKang31/ppt-79412896  \n",
    "InceptionV3 feature 추출 -> Attribute Matrix 기반 추천\n"
   ]
  },
  {
   "cell_type": "markdown",
   "metadata": {},
   "source": [
    "## 이미지 데이터 기반 추천"
   ]
  },
  {
   "cell_type": "markdown",
   "metadata": {},
   "source": [
    "### 데이터 불러오기"
   ]
  },
  {
   "cell_type": "code",
   "execution_count": 1,
   "metadata": {},
   "outputs": [],
   "source": [
    "import os\n",
    "\n",
    "os.chdir('..')"
   ]
  },
  {
   "cell_type": "code",
   "execution_count": 2,
   "metadata": {},
   "outputs": [],
   "source": [
    "import pickle"
   ]
  },
  {
   "cell_type": "code",
   "execution_count": 4,
   "metadata": {},
   "outputs": [
    {
     "name": "stdout",
     "output_type": "stream",
     "text": [
      "Wall time: 0 ns\n"
     ]
    }
   ],
   "source": [
    "%time\n",
    "#feature 저장된 dict 불러오기\n",
    "#pickle을 load하는데는 시간이 얼마 안 걸림\n",
    "with open('prep_data/train_feature.pickle', 'rb') as handle:\n",
    "    train_dict = pickle.load(handle)"
   ]
  },
  {
   "cell_type": "code",
   "execution_count": null,
   "metadata": {},
   "outputs": [],
   "source": [
    "%time\n",
    "#pickle로 불러와진 dict를 stdout으로 display하는데는 굉장히 오래 걸림\n",
    "#약 20초?\n",
    "train_dict"
   ]
  },
  {
   "cell_type": "code",
   "execution_count": 8,
   "metadata": {},
   "outputs": [
    {
     "name": "stdout",
     "output_type": "stream",
     "text": [
      "Wall time: 0 ns\n"
     ]
    }
   ],
   "source": [
    "%time\n",
    "with open('prep_data/test_feature.pickle', 'rb') as handle:\n",
    "    test_dict = pickle.load(handle)"
   ]
  },
  {
   "cell_type": "markdown",
   "metadata": {},
   "source": [
    "### 단순 유사도계산"
   ]
  },
  {
   "cell_type": "markdown",
   "metadata": {},
   "source": [
    "코사인 유사도"
   ]
  },
  {
   "cell_type": "code",
   "execution_count": 4,
   "metadata": {},
   "outputs": [],
   "source": [
    "from numpy import dot\n",
    "from numpy.linalg import norm\n",
    "import numpy as np\n",
    "import matplotlib.pyplot as plt\n",
    "\n",
    "def cos_sim(A, B):\n",
    "    A = A.flatten()\n",
    "    B = B.flatten()\n",
    "    return dot(A, B)/(norm(A)*norm(B))"
   ]
  },
  {
   "cell_type": "code",
   "execution_count": 9,
   "metadata": {},
   "outputs": [],
   "source": [
    "import itertools\n",
    "\n",
    "cos_dict = {}\n",
    "for key1,key2 in itertools.combinations(train_dict, 2) :\n",
    "    cos_dict[(key1,key2)] = cos_sim(train_dict[key1],train_dict[key2])\n",
    "#cos_sim"
   ]
  },
  {
   "cell_type": "code",
   "execution_count": null,
   "metadata": {},
   "outputs": [],
   "source": [
    "cos_dict"
   ]
  },
  {
   "cell_type": "code",
   "execution_count": null,
   "metadata": {},
   "outputs": [],
   "source": [
    "%matplotlib inline\n",
    "\n",
    "import matplotlib.pyplot as plt\n",
    "from keras.preprocessing import image\n",
    "\n",
    "#이미지 표시 함수\n",
    "def show_image(img_no1,img_no2) :\n",
    "    img1 = image.load_img(\"data/fashion-dataset/images/{}.jpg\".format(img_no1), target_size=(224, 224))\n",
    "    img2 = image.load_img(\"data/fashion-dataset/images/{}.jpg\".format(img_no2), target_size=(224, 224))\n",
    "    #이미지 확인\n",
    "    fig,ax = plt.subplots(1,2)\n",
    "    ax[0].imshow(img1)\n",
    "    ax[1].imshow(img2)\n",
    "    plt.show()"
   ]
  },
  {
   "cell_type": "code",
   "execution_count": null,
   "metadata": {},
   "outputs": [],
   "source": [
    "show_image(1163,1164)"
   ]
  },
  {
   "cell_type": "code",
   "execution_count": 11,
   "metadata": {
    "scrolled": true
   },
   "outputs": [
    {
     "data": {
      "text/plain": [
       "(array([     0.,      0.,      0.,      0.,      0.,      0.,      0.,\n",
       "             0.,      0.,      0.,      0.,      0.,      0.,      0.,\n",
       "             0.,      0.,      0.,      0.,      0.,      0.,      0.,\n",
       "             0.,      0.,      0.,      0., 353220.,      0.,      0.,\n",
       "             0.,      0.,      0.,      0.,      0.,      0.,      0.,\n",
       "             0.,      0.,      0.,      0.,      0.,      0.,      0.,\n",
       "             0.,      0.,      0.,      0.,      0.,      0.,      0.,\n",
       "             0.]),\n",
       " array([0.5000001 , 0.5200001 , 0.54000014, 0.5600001 , 0.5800001 ,\n",
       "        0.60000014, 0.6200001 , 0.6400001 , 0.66000015, 0.6800001 ,\n",
       "        0.7000001 , 0.72000015, 0.7400001 , 0.7600001 , 0.7800001 ,\n",
       "        0.80000013, 0.8200001 , 0.8400001 , 0.86000013, 0.8800001 ,\n",
       "        0.9000001 , 0.92000014, 0.9400001 , 0.9600001 , 0.98000014,\n",
       "        1.0000001 , 1.0200001 , 1.0400001 , 1.0600001 , 1.0800002 ,\n",
       "        1.1000001 , 1.1200001 , 1.1400001 , 1.1600001 , 1.1800001 ,\n",
       "        1.2000002 , 1.2200001 , 1.2400001 , 1.2600001 , 1.2800001 ,\n",
       "        1.3000001 , 1.3200002 , 1.3400002 , 1.3600001 , 1.3800001 ,\n",
       "        1.4000001 , 1.4200001 , 1.4400002 , 1.4600002 , 1.4800001 ,\n",
       "        1.5000001 ], dtype=float32),\n",
       " <a list of 50 Patch objects>)"
      ]
     },
     "execution_count": 11,
     "metadata": {},
     "output_type": "execute_result"
    },
    {
     "data": {
      "image/png": "[encoded data removed]",
      "text/plain": [
       "<Figure size 432x288 with 1 Axes>"
      ]
     },
     "metadata": {
      "needs_background": "light"
     },
     "output_type": "display_data"
    }
   ],
   "source": [
    "#코사인 유사도 결과 hist\n",
    "plt.hist(cos_dict.values(),bins=50)"
   ]
  },
  {
   "cell_type": "code",
   "execution_count": 77,
   "metadata": {},
   "outputs": [],
   "source": [
    "#코사인 유사도가 0.5이상인 녀석들만 모아보기\n",
    "pairs = []\n",
    "for key,value in cos_dict.items() :\n",
    "    if value >0.5 :\n",
    "        pairs.append(key)"
   ]
  },
  {
   "cell_type": "code",
   "execution_count": null,
   "metadata": {},
   "outputs": [],
   "source": [
    "for pair in pairs :\n",
    "    show_image(pair[0],pair[1])"
   ]
  },
  {
   "cell_type": "code",
   "execution_count": 89,
   "metadata": {},
   "outputs": [],
   "source": [
    "#코사인 유사도가  0.5미만인  녀석들만 모아보기\n",
    "pairs = []\n",
    "for key,value in cos_dict.items() :\n",
    "    if value <0.5 :\n",
    "        pairs.append(key)"
   ]
  },
  {
   "cell_type": "code",
   "execution_count": null,
   "metadata": {},
   "outputs": [],
   "source": [
    "for pair in pairs :\n",
    "    show_image(pair[0],pair[1])"
   ]
  },
  {
   "cell_type": "markdown",
   "metadata": {},
   "source": [
    "피어슨 상관계수"
   ]
  },
  {
   "cell_type": "code",
   "execution_count": null,
   "metadata": {},
   "outputs": [],
   "source": []
  }
 ],
 "metadata": {
  "kernelspec": {
   "display_name": "Python 3",
   "language": "python",
   "name": "python3"
  },
  "language_info": {
   "codemirror_mode": {
    "name": "ipython",
    "version": 3
   },
   "file_extension": ".py",
   "mimetype": "text/x-python",
   "name": "python",
   "nbconvert_exporter": "python",
   "pygments_lexer": "ipython3",
   "version": "3.7.6"
  }
 },
 "nbformat": 4,
 "nbformat_minor": 4
}
