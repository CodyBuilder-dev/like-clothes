{
 "cells": [
  {
   "cell_type": "markdown",
   "metadata": {},
   "source": [
    "# 분류 시스템을 이용해서 자동으로 태그 달아주기\n",
    "---\n",
    "개념\n",
    "\n",
    "    옷을 넣었을 때, 해당되는 카테고리/태그 출력해주기\n",
    "    \n",
    "카테고리란?\n",
    "\n",
    "    무신사의 major/middle/minor 분류\n",
    "    \n",
    "태그란?\n",
    "\n",
    "    사용자의 임의로 붙여진 #문자열\n",
    "    \n",
    "출력할 카테고리의 범위\n",
    "\n",
    "1. 대분류 단위  \n",
    "    장점 : 남녀간 형태차이가 확실한 옷은 잘 분류  \n",
    "    단점 : 세부적인 추천이 불가능함. 티셔츠같은 경우는 남자 여자 구분이 쉽지않음\n",
    "2. 중분류 단위  \n",
    "    장점 : 가장 적절한 분류 카테고리  \n",
    "    단점 : 무신사의 특성상, 중분류 밑에서도 옷의 종류가 굉장히 많이 차이남\n",
    "3. 소분류 단위  \n",
    "    장점 : 섬세한 추천이 가능  \n",
    "    단점 : 카테고리 수가 매우 늘어나 난이도 상승,  \n",
    "    같은 소분류라도 다른 대분류 하에 있을 수 있는데 이를 어떻게 처리하지\n",
    "    \n",
    "분류가 비교적 정확히 되는 속성 : color/shape  \n",
    "분류가 비교적 정확히 되지 않는 속성 : texture/small pattern"
   ]
  },
  {
   "cell_type": "markdown",
   "metadata": {},
   "source": [
    "## CNN-only\n",
    "원리\n",
    "\n",
    "    Classification 방식 도입\n",
    "    \n",
    "    train : 이미지-카테고리 데이터셋으로, CNN을 통해 지도학습시킴\n",
    "    test : 새로운 옷이 들어온 경우 해당 모델에 집어넣고 나오는 카테고리를 사용\n",
    "    model : 여기에서 사용된 모델이 추후 feature extraction에도 사용됨\n",
    "    \n",
    "제공할 데이터\n",
    "\n",
    "    이미지(필수)\n",
    "\n",
    "모델 접근법\n",
    "1. 중->소 순으로 넘어가기      \n",
    "    아무리 생각해도 one-for-all 모델은 존재하지 않음  \n",
    "    특히 분류를 소분류단위로 할 경우는 더더욱  \n",
    "    따라서, 중분류 단위로 모델을 만들고, 카테고리\n",
    "  \n",
    "2. **소분류로 한번에 분류하기**  \n",
    "    남/녀 구분없이 그냥 소분류로 때려버리는것도 괜찮을듯  \n",
    "    정확하게 소분류를 구분하지 못하더라도, 사용자에게 컨펌받아 수정하면 되니까!\n",
    "\n",
    "Multi Category 분류 방법(Blue/T-shirt 등)  \n",
    "https://github.com/KerasKorea/KEKOxTutorial/blob/master/35_케라스를%20이용한%20다중%20라벨%20분류.md\n",
    "    \n"
   ]
  },
  {
   "cell_type": "markdown",
   "metadata": {},
   "source": [
    "데이터 준비 - minor/숫자 매핑 (3중 조인으로 해결해서 필요없을줄 알았는데 one-hot encoding에 필요함)"
   ]
  },
  {
   "cell_type": "code",
   "execution_count": 1,
   "metadata": {},
   "outputs": [],
   "source": [
    "#경로 설정용\n",
    "import os\n",
    "\n",
    "os.chdir('..')"
   ]
  },
  {
   "cell_type": "code",
   "execution_count": 40,
   "metadata": {},
   "outputs": [],
   "source": [
    "#DB 연결\n",
    "import json\n",
    "import pymysql\n",
    "import numpy as np\n",
    "import pandas as pd\n",
    "\n",
    "#데이터 url/fs 전처리용\n",
    "import requests\n",
    "from PIL import Image\n",
    "from io import BytesIO\n",
    "from tensorflow.keras.utils import Sequence\n",
    "from skimage.io import imread\n",
    "from skimage.transform import resize\n",
    "\n",
    "#이미지 배경 전처리용\n",
    "import cv2\n",
    "import matplotlib.pyplot as plt\n",
    "#모델 작성용\n",
    "\n",
    "import tensorflow as tf\n",
    "from tensorflow.keras import optimizers\n",
    "from tensorflow.keras.backend import clear_session\n",
    "from tensorflow.keras.applications import resnet50, vgg16, vgg19, inception_resnet_v2,inception_v3, densenet\n",
    "from tensorflow.keras.applications import mobilenet,mobilenet_v2, nasnet, xception\n",
    "from tensorflow.keras.models import Model, Sequential,load_model\n",
    "from tensorflow.keras.layers import Dense, Conv2D,MaxPooling2D,GlobalAveragePooling2D, Dropout"
   ]
  },
  {
   "cell_type": "code",
   "execution_count": 3,
   "metadata": {},
   "outputs": [],
   "source": [
    "def connect_db(dbinfo_path) :\n",
    "    with open(dbinfo_path) as jsonfile :\n",
    "        dbinfo = json.load(jsonfile)\n",
    "\n",
    "    connection = pymysql.connect(host=dbinfo['host'],\n",
    "                         port=dbinfo['port'],\n",
    "                         user=dbinfo['user'], \n",
    "                         passwd=dbinfo['passwd'],\n",
    "                         db=dbinfo['db'],\n",
    "                         charset=dbinfo['charset'])\n",
    "    \n",
    "    return connection"
   ]
  },
  {
   "cell_type": "code",
   "execution_count": 7,
   "metadata": {},
   "outputs": [],
   "source": [
    "db = connect_db('dbinfo-temp.json')"
   ]
  },
  {
   "cell_type": "code",
   "execution_count": 8,
   "metadata": {},
   "outputs": [],
   "source": [
    "def get_train_minor(connection) :\n",
    "    \"\"\"\n",
    "    DB로부터 학습용 minor 카테고리 정보 획득\n",
    "    기능성 상/하의, 환절기 코트, 기타 브랜드, 웨이스트 백은 제외\n",
    "    input : db connector\n",
    "    output : db cursor\n",
    "    \"\"\"\n",
    "    cur = connection.cursor()\n",
    "\n",
    "    \"\"\"sql = 'SELECT MIN(id),minor FROM CLOTHES_CLASS \\\n",
    "    GROUP BY minor \\\n",
    "    HAVING minor != \"기능성 상의\" AND minor != \"기능성 하의\" AND minor != \"웨이스트 백\"\\\n",
    "    AND minor NOT LIKE \"(%\";'\"\"\"\n",
    "    sql = 'SELECT minor FROM CLOTHES_CLASS \\\n",
    "    GROUP BY minor \\\n",
    "    HAVING minor != \"기능성 상의\" AND minor != \"기능성 하의\" AND minor != \"웨이스트 백\"\\\n",
    "    AND minor NOT LIKE \"(%\";'\n",
    "    \n",
    "    print(\"선택된 row 개수 : \",cur.execute(sql))\n",
    "    return cur"
   ]
  },
  {
   "cell_type": "code",
   "execution_count": 9,
   "metadata": {},
   "outputs": [
    {
     "name": "stdout",
     "output_type": "stream",
     "text": [
      "선택된 row 개수 :  40\n"
     ]
    }
   ],
   "source": [
    "cur = get_train_minor(db)"
   ]
  },
  {
   "cell_type": "code",
   "execution_count": 10,
   "metadata": {},
   "outputs": [],
   "source": [
    "minor_list = []\n",
    "for minor in cur :\n",
    "    minor_list.append(minor[0])"
   ]
  },
  {
   "cell_type": "code",
   "execution_count": 11,
   "metadata": {},
   "outputs": [],
   "source": [
    "minor_array = np.array(minor_list)"
   ]
  },
  {
   "cell_type": "code",
   "execution_count": 12,
   "metadata": {},
   "outputs": [
    {
     "data": {
      "text/plain": [
       "array(['겨울 기타 코트', '겨울 싱글 코트', '기타 바지', '기타 상의', '기타 아우터', '긴팔 티셔츠',\n",
       "       '나일론/코치  재킷', '니트/스웨터/카디건', '데님 팬츠', '레깅스', '레더/라이더스 재킷', '롱 스커트',\n",
       "       '롱 패딩/롱 헤비 아우터', '맥시 원피스', '맨투맨/스웨트셔츠', '미니 스커트', '미니 원피스',\n",
       "       '미디 스커트', '미디 원피스', '민소매 티셔츠', '반팔 티셔츠', '베스트', '블루종/MA-1',\n",
       "       '사파리/헌팅 재킷', '셔츠/블라우스', '숏 패딩/숏 헤비 아우터', '숏 팬츠', '수트 팬츠/슬랙스',\n",
       "       '수트/블레이저 재킷', '스타디움 재킷', '아노락 재킷', '점프수트', '코튼 팬츠', '트러커 재킷',\n",
       "       '트레이닝 재킷', '트레이닝/조거 팬츠', '패딩 베스트', '피케/카라 티셔츠', '환절기 코트',\n",
       "       '후드 스웨트셔츠/후드 집업'], dtype='<U14')"
      ]
     },
     "execution_count": 12,
     "metadata": {},
     "output_type": "execute_result"
    }
   ],
   "source": [
    "minor_array"
   ]
  },
  {
   "cell_type": "code",
   "execution_count": 13,
   "metadata": {},
   "outputs": [],
   "source": [
    "# one-hot encoding by pandas\n",
    "minor_df = pd.DataFrame(minor_array)\n",
    "minor_onehot = pd.get_dummies(minor_df[0])"
   ]
  },
  {
   "cell_type": "code",
   "execution_count": 14,
   "metadata": {},
   "outputs": [
    {
     "data": {
      "text/html": [
       "<div>\n",
       "<style scoped>\n",
       "    .dataframe tbody tr th:only-of-type {\n",
       "        vertical-align: middle;\n",
       "    }\n",
       "\n",
       "    .dataframe tbody tr th {\n",
       "        vertical-align: top;\n",
       "    }\n",
       "\n",
       "    .dataframe thead th {\n",
       "        text-align: right;\n",
       "    }\n",
       "</style>\n",
       "<table border=\"1\" class=\"dataframe\">\n",
       "  <thead>\n",
       "    <tr style=\"text-align: right;\">\n",
       "      <th></th>\n",
       "      <th>겨울 기타 코트</th>\n",
       "      <th>겨울 싱글 코트</th>\n",
       "      <th>기타 바지</th>\n",
       "      <th>기타 상의</th>\n",
       "      <th>기타 아우터</th>\n",
       "      <th>긴팔 티셔츠</th>\n",
       "      <th>나일론/코치  재킷</th>\n",
       "      <th>니트/스웨터/카디건</th>\n",
       "      <th>데님 팬츠</th>\n",
       "      <th>레깅스</th>\n",
       "      <th>...</th>\n",
       "      <th>아노락 재킷</th>\n",
       "      <th>점프수트</th>\n",
       "      <th>코튼 팬츠</th>\n",
       "      <th>트러커 재킷</th>\n",
       "      <th>트레이닝 재킷</th>\n",
       "      <th>트레이닝/조거 팬츠</th>\n",
       "      <th>패딩 베스트</th>\n",
       "      <th>피케/카라 티셔츠</th>\n",
       "      <th>환절기 코트</th>\n",
       "      <th>후드 스웨트셔츠/후드 집업</th>\n",
       "    </tr>\n",
       "  </thead>\n",
       "  <tbody>\n",
       "    <tr>\n",
       "      <th>0</th>\n",
       "      <td>1</td>\n",
       "      <td>0</td>\n",
       "      <td>0</td>\n",
       "      <td>0</td>\n",
       "      <td>0</td>\n",
       "      <td>0</td>\n",
       "      <td>0</td>\n",
       "      <td>0</td>\n",
       "      <td>0</td>\n",
       "      <td>0</td>\n",
       "      <td>...</td>\n",
       "      <td>0</td>\n",
       "      <td>0</td>\n",
       "      <td>0</td>\n",
       "      <td>0</td>\n",
       "      <td>0</td>\n",
       "      <td>0</td>\n",
       "      <td>0</td>\n",
       "      <td>0</td>\n",
       "      <td>0</td>\n",
       "      <td>0</td>\n",
       "    </tr>\n",
       "    <tr>\n",
       "      <th>1</th>\n",
       "      <td>0</td>\n",
       "      <td>1</td>\n",
       "      <td>0</td>\n",
       "      <td>0</td>\n",
       "      <td>0</td>\n",
       "      <td>0</td>\n",
       "      <td>0</td>\n",
       "      <td>0</td>\n",
       "      <td>0</td>\n",
       "      <td>0</td>\n",
       "      <td>...</td>\n",
       "      <td>0</td>\n",
       "      <td>0</td>\n",
       "      <td>0</td>\n",
       "      <td>0</td>\n",
       "      <td>0</td>\n",
       "      <td>0</td>\n",
       "      <td>0</td>\n",
       "      <td>0</td>\n",
       "      <td>0</td>\n",
       "      <td>0</td>\n",
       "    </tr>\n",
       "    <tr>\n",
       "      <th>2</th>\n",
       "      <td>0</td>\n",
       "      <td>0</td>\n",
       "      <td>1</td>\n",
       "      <td>0</td>\n",
       "      <td>0</td>\n",
       "      <td>0</td>\n",
       "      <td>0</td>\n",
       "      <td>0</td>\n",
       "      <td>0</td>\n",
       "      <td>0</td>\n",
       "      <td>...</td>\n",
       "      <td>0</td>\n",
       "      <td>0</td>\n",
       "      <td>0</td>\n",
       "      <td>0</td>\n",
       "      <td>0</td>\n",
       "      <td>0</td>\n",
       "      <td>0</td>\n",
       "      <td>0</td>\n",
       "      <td>0</td>\n",
       "      <td>0</td>\n",
       "    </tr>\n",
       "    <tr>\n",
       "      <th>3</th>\n",
       "      <td>0</td>\n",
       "      <td>0</td>\n",
       "      <td>0</td>\n",
       "      <td>1</td>\n",
       "      <td>0</td>\n",
       "      <td>0</td>\n",
       "      <td>0</td>\n",
       "      <td>0</td>\n",
       "      <td>0</td>\n",
       "      <td>0</td>\n",
       "      <td>...</td>\n",
       "      <td>0</td>\n",
       "      <td>0</td>\n",
       "      <td>0</td>\n",
       "      <td>0</td>\n",
       "      <td>0</td>\n",
       "      <td>0</td>\n",
       "      <td>0</td>\n",
       "      <td>0</td>\n",
       "      <td>0</td>\n",
       "      <td>0</td>\n",
       "    </tr>\n",
       "    <tr>\n",
       "      <th>4</th>\n",
       "      <td>0</td>\n",
       "      <td>0</td>\n",
       "      <td>0</td>\n",
       "      <td>0</td>\n",
       "      <td>1</td>\n",
       "      <td>0</td>\n",
       "      <td>0</td>\n",
       "      <td>0</td>\n",
       "      <td>0</td>\n",
       "      <td>0</td>\n",
       "      <td>...</td>\n",
       "      <td>0</td>\n",
       "      <td>0</td>\n",
       "      <td>0</td>\n",
       "      <td>0</td>\n",
       "      <td>0</td>\n",
       "      <td>0</td>\n",
       "      <td>0</td>\n",
       "      <td>0</td>\n",
       "      <td>0</td>\n",
       "      <td>0</td>\n",
       "    </tr>\n",
       "    <tr>\n",
       "      <th>5</th>\n",
       "      <td>0</td>\n",
       "      <td>0</td>\n",
       "      <td>0</td>\n",
       "      <td>0</td>\n",
       "      <td>0</td>\n",
       "      <td>1</td>\n",
       "      <td>0</td>\n",
       "      <td>0</td>\n",
       "      <td>0</td>\n",
       "      <td>0</td>\n",
       "      <td>...</td>\n",
       "      <td>0</td>\n",
       "      <td>0</td>\n",
       "      <td>0</td>\n",
       "      <td>0</td>\n",
       "      <td>0</td>\n",
       "      <td>0</td>\n",
       "      <td>0</td>\n",
       "      <td>0</td>\n",
       "      <td>0</td>\n",
       "      <td>0</td>\n",
       "    </tr>\n",
       "    <tr>\n",
       "      <th>6</th>\n",
       "      <td>0</td>\n",
       "      <td>0</td>\n",
       "      <td>0</td>\n",
       "      <td>0</td>\n",
       "      <td>0</td>\n",
       "      <td>0</td>\n",
       "      <td>1</td>\n",
       "      <td>0</td>\n",
       "      <td>0</td>\n",
       "      <td>0</td>\n",
       "      <td>...</td>\n",
       "      <td>0</td>\n",
       "      <td>0</td>\n",
       "      <td>0</td>\n",
       "      <td>0</td>\n",
       "      <td>0</td>\n",
       "      <td>0</td>\n",
       "      <td>0</td>\n",
       "      <td>0</td>\n",
       "      <td>0</td>\n",
       "      <td>0</td>\n",
       "    </tr>\n",
       "    <tr>\n",
       "      <th>7</th>\n",
       "      <td>0</td>\n",
       "      <td>0</td>\n",
       "      <td>0</td>\n",
       "      <td>0</td>\n",
       "      <td>0</td>\n",
       "      <td>0</td>\n",
       "      <td>0</td>\n",
       "      <td>1</td>\n",
       "      <td>0</td>\n",
       "      <td>0</td>\n",
       "      <td>...</td>\n",
       "      <td>0</td>\n",
       "      <td>0</td>\n",
       "      <td>0</td>\n",
       "      <td>0</td>\n",
       "      <td>0</td>\n",
       "      <td>0</td>\n",
       "      <td>0</td>\n",
       "      <td>0</td>\n",
       "      <td>0</td>\n",
       "      <td>0</td>\n",
       "    </tr>\n",
       "    <tr>\n",
       "      <th>8</th>\n",
       "      <td>0</td>\n",
       "      <td>0</td>\n",
       "      <td>0</td>\n",
       "      <td>0</td>\n",
       "      <td>0</td>\n",
       "      <td>0</td>\n",
       "      <td>0</td>\n",
       "      <td>0</td>\n",
       "      <td>1</td>\n",
       "      <td>0</td>\n",
       "      <td>...</td>\n",
       "      <td>0</td>\n",
       "      <td>0</td>\n",
       "      <td>0</td>\n",
       "      <td>0</td>\n",
       "      <td>0</td>\n",
       "      <td>0</td>\n",
       "      <td>0</td>\n",
       "      <td>0</td>\n",
       "      <td>0</td>\n",
       "      <td>0</td>\n",
       "    </tr>\n",
       "    <tr>\n",
       "      <th>9</th>\n",
       "      <td>0</td>\n",
       "      <td>0</td>\n",
       "      <td>0</td>\n",
       "      <td>0</td>\n",
       "      <td>0</td>\n",
       "      <td>0</td>\n",
       "      <td>0</td>\n",
       "      <td>0</td>\n",
       "      <td>0</td>\n",
       "      <td>1</td>\n",
       "      <td>...</td>\n",
       "      <td>0</td>\n",
       "      <td>0</td>\n",
       "      <td>0</td>\n",
       "      <td>0</td>\n",
       "      <td>0</td>\n",
       "      <td>0</td>\n",
       "      <td>0</td>\n",
       "      <td>0</td>\n",
       "      <td>0</td>\n",
       "      <td>0</td>\n",
       "    </tr>\n",
       "    <tr>\n",
       "      <th>10</th>\n",
       "      <td>0</td>\n",
       "      <td>0</td>\n",
       "      <td>0</td>\n",
       "      <td>0</td>\n",
       "      <td>0</td>\n",
       "      <td>0</td>\n",
       "      <td>0</td>\n",
       "      <td>0</td>\n",
       "      <td>0</td>\n",
       "      <td>0</td>\n",
       "      <td>...</td>\n",
       "      <td>0</td>\n",
       "      <td>0</td>\n",
       "      <td>0</td>\n",
       "      <td>0</td>\n",
       "      <td>0</td>\n",
       "      <td>0</td>\n",
       "      <td>0</td>\n",
       "      <td>0</td>\n",
       "      <td>0</td>\n",
       "      <td>0</td>\n",
       "    </tr>\n",
       "    <tr>\n",
       "      <th>11</th>\n",
       "      <td>0</td>\n",
       "      <td>0</td>\n",
       "      <td>0</td>\n",
       "      <td>0</td>\n",
       "      <td>0</td>\n",
       "      <td>0</td>\n",
       "      <td>0</td>\n",
       "      <td>0</td>\n",
       "      <td>0</td>\n",
       "      <td>0</td>\n",
       "      <td>...</td>\n",
       "      <td>0</td>\n",
       "      <td>0</td>\n",
       "      <td>0</td>\n",
       "      <td>0</td>\n",
       "      <td>0</td>\n",
       "      <td>0</td>\n",
       "      <td>0</td>\n",
       "      <td>0</td>\n",
       "      <td>0</td>\n",
       "      <td>0</td>\n",
       "    </tr>\n",
       "    <tr>\n",
       "      <th>12</th>\n",
       "      <td>0</td>\n",
       "      <td>0</td>\n",
       "      <td>0</td>\n",
       "      <td>0</td>\n",
       "      <td>0</td>\n",
       "      <td>0</td>\n",
       "      <td>0</td>\n",
       "      <td>0</td>\n",
       "      <td>0</td>\n",
       "      <td>0</td>\n",
       "      <td>...</td>\n",
       "      <td>0</td>\n",
       "      <td>0</td>\n",
       "      <td>0</td>\n",
       "      <td>0</td>\n",
       "      <td>0</td>\n",
       "      <td>0</td>\n",
       "      <td>0</td>\n",
       "      <td>0</td>\n",
       "      <td>0</td>\n",
       "      <td>0</td>\n",
       "    </tr>\n",
       "    <tr>\n",
       "      <th>13</th>\n",
       "      <td>0</td>\n",
       "      <td>0</td>\n",
       "      <td>0</td>\n",
       "      <td>0</td>\n",
       "      <td>0</td>\n",
       "      <td>0</td>\n",
       "      <td>0</td>\n",
       "      <td>0</td>\n",
       "      <td>0</td>\n",
       "      <td>0</td>\n",
       "      <td>...</td>\n",
       "      <td>0</td>\n",
       "      <td>0</td>\n",
       "      <td>0</td>\n",
       "      <td>0</td>\n",
       "      <td>0</td>\n",
       "      <td>0</td>\n",
       "      <td>0</td>\n",
       "      <td>0</td>\n",
       "      <td>0</td>\n",
       "      <td>0</td>\n",
       "    </tr>\n",
       "    <tr>\n",
       "      <th>14</th>\n",
       "      <td>0</td>\n",
       "      <td>0</td>\n",
       "      <td>0</td>\n",
       "      <td>0</td>\n",
       "      <td>0</td>\n",
       "      <td>0</td>\n",
       "      <td>0</td>\n",
       "      <td>0</td>\n",
       "      <td>0</td>\n",
       "      <td>0</td>\n",
       "      <td>...</td>\n",
       "      <td>0</td>\n",
       "      <td>0</td>\n",
       "      <td>0</td>\n",
       "      <td>0</td>\n",
       "      <td>0</td>\n",
       "      <td>0</td>\n",
       "      <td>0</td>\n",
       "      <td>0</td>\n",
       "      <td>0</td>\n",
       "      <td>0</td>\n",
       "    </tr>\n",
       "    <tr>\n",
       "      <th>15</th>\n",
       "      <td>0</td>\n",
       "      <td>0</td>\n",
       "      <td>0</td>\n",
       "      <td>0</td>\n",
       "      <td>0</td>\n",
       "      <td>0</td>\n",
       "      <td>0</td>\n",
       "      <td>0</td>\n",
       "      <td>0</td>\n",
       "      <td>0</td>\n",
       "      <td>...</td>\n",
       "      <td>0</td>\n",
       "      <td>0</td>\n",
       "      <td>0</td>\n",
       "      <td>0</td>\n",
       "      <td>0</td>\n",
       "      <td>0</td>\n",
       "      <td>0</td>\n",
       "      <td>0</td>\n",
       "      <td>0</td>\n",
       "      <td>0</td>\n",
       "    </tr>\n",
       "    <tr>\n",
       "      <th>16</th>\n",
       "      <td>0</td>\n",
       "      <td>0</td>\n",
       "      <td>0</td>\n",
       "      <td>0</td>\n",
       "      <td>0</td>\n",
       "      <td>0</td>\n",
       "      <td>0</td>\n",
       "      <td>0</td>\n",
       "      <td>0</td>\n",
       "      <td>0</td>\n",
       "      <td>...</td>\n",
       "      <td>0</td>\n",
       "      <td>0</td>\n",
       "      <td>0</td>\n",
       "      <td>0</td>\n",
       "      <td>0</td>\n",
       "      <td>0</td>\n",
       "      <td>0</td>\n",
       "      <td>0</td>\n",
       "      <td>0</td>\n",
       "      <td>0</td>\n",
       "    </tr>\n",
       "    <tr>\n",
       "      <th>17</th>\n",
       "      <td>0</td>\n",
       "      <td>0</td>\n",
       "      <td>0</td>\n",
       "      <td>0</td>\n",
       "      <td>0</td>\n",
       "      <td>0</td>\n",
       "      <td>0</td>\n",
       "      <td>0</td>\n",
       "      <td>0</td>\n",
       "      <td>0</td>\n",
       "      <td>...</td>\n",
       "      <td>0</td>\n",
       "      <td>0</td>\n",
       "      <td>0</td>\n",
       "      <td>0</td>\n",
       "      <td>0</td>\n",
       "      <td>0</td>\n",
       "      <td>0</td>\n",
       "      <td>0</td>\n",
       "      <td>0</td>\n",
       "      <td>0</td>\n",
       "    </tr>\n",
       "    <tr>\n",
       "      <th>18</th>\n",
       "      <td>0</td>\n",
       "      <td>0</td>\n",
       "      <td>0</td>\n",
       "      <td>0</td>\n",
       "      <td>0</td>\n",
       "      <td>0</td>\n",
       "      <td>0</td>\n",
       "      <td>0</td>\n",
       "      <td>0</td>\n",
       "      <td>0</td>\n",
       "      <td>...</td>\n",
       "      <td>0</td>\n",
       "      <td>0</td>\n",
       "      <td>0</td>\n",
       "      <td>0</td>\n",
       "      <td>0</td>\n",
       "      <td>0</td>\n",
       "      <td>0</td>\n",
       "      <td>0</td>\n",
       "      <td>0</td>\n",
       "      <td>0</td>\n",
       "    </tr>\n",
       "    <tr>\n",
       "      <th>19</th>\n",
       "      <td>0</td>\n",
       "      <td>0</td>\n",
       "      <td>0</td>\n",
       "      <td>0</td>\n",
       "      <td>0</td>\n",
       "      <td>0</td>\n",
       "      <td>0</td>\n",
       "      <td>0</td>\n",
       "      <td>0</td>\n",
       "      <td>0</td>\n",
       "      <td>...</td>\n",
       "      <td>0</td>\n",
       "      <td>0</td>\n",
       "      <td>0</td>\n",
       "      <td>0</td>\n",
       "      <td>0</td>\n",
       "      <td>0</td>\n",
       "      <td>0</td>\n",
       "      <td>0</td>\n",
       "      <td>0</td>\n",
       "      <td>0</td>\n",
       "    </tr>\n",
       "    <tr>\n",
       "      <th>20</th>\n",
       "      <td>0</td>\n",
       "      <td>0</td>\n",
       "      <td>0</td>\n",
       "      <td>0</td>\n",
       "      <td>0</td>\n",
       "      <td>0</td>\n",
       "      <td>0</td>\n",
       "      <td>0</td>\n",
       "      <td>0</td>\n",
       "      <td>0</td>\n",
       "      <td>...</td>\n",
       "      <td>0</td>\n",
       "      <td>0</td>\n",
       "      <td>0</td>\n",
       "      <td>0</td>\n",
       "      <td>0</td>\n",
       "      <td>0</td>\n",
       "      <td>0</td>\n",
       "      <td>0</td>\n",
       "      <td>0</td>\n",
       "      <td>0</td>\n",
       "    </tr>\n",
       "    <tr>\n",
       "      <th>21</th>\n",
       "      <td>0</td>\n",
       "      <td>0</td>\n",
       "      <td>0</td>\n",
       "      <td>0</td>\n",
       "      <td>0</td>\n",
       "      <td>0</td>\n",
       "      <td>0</td>\n",
       "      <td>0</td>\n",
       "      <td>0</td>\n",
       "      <td>0</td>\n",
       "      <td>...</td>\n",
       "      <td>0</td>\n",
       "      <td>0</td>\n",
       "      <td>0</td>\n",
       "      <td>0</td>\n",
       "      <td>0</td>\n",
       "      <td>0</td>\n",
       "      <td>0</td>\n",
       "      <td>0</td>\n",
       "      <td>0</td>\n",
       "      <td>0</td>\n",
       "    </tr>\n",
       "    <tr>\n",
       "      <th>22</th>\n",
       "      <td>0</td>\n",
       "      <td>0</td>\n",
       "      <td>0</td>\n",
       "      <td>0</td>\n",
       "      <td>0</td>\n",
       "      <td>0</td>\n",
       "      <td>0</td>\n",
       "      <td>0</td>\n",
       "      <td>0</td>\n",
       "      <td>0</td>\n",
       "      <td>...</td>\n",
       "      <td>0</td>\n",
       "      <td>0</td>\n",
       "      <td>0</td>\n",
       "      <td>0</td>\n",
       "      <td>0</td>\n",
       "      <td>0</td>\n",
       "      <td>0</td>\n",
       "      <td>0</td>\n",
       "      <td>0</td>\n",
       "      <td>0</td>\n",
       "    </tr>\n",
       "    <tr>\n",
       "      <th>23</th>\n",
       "      <td>0</td>\n",
       "      <td>0</td>\n",
       "      <td>0</td>\n",
       "      <td>0</td>\n",
       "      <td>0</td>\n",
       "      <td>0</td>\n",
       "      <td>0</td>\n",
       "      <td>0</td>\n",
       "      <td>0</td>\n",
       "      <td>0</td>\n",
       "      <td>...</td>\n",
       "      <td>0</td>\n",
       "      <td>0</td>\n",
       "      <td>0</td>\n",
       "      <td>0</td>\n",
       "      <td>0</td>\n",
       "      <td>0</td>\n",
       "      <td>0</td>\n",
       "      <td>0</td>\n",
       "      <td>0</td>\n",
       "      <td>0</td>\n",
       "    </tr>\n",
       "    <tr>\n",
       "      <th>24</th>\n",
       "      <td>0</td>\n",
       "      <td>0</td>\n",
       "      <td>0</td>\n",
       "      <td>0</td>\n",
       "      <td>0</td>\n",
       "      <td>0</td>\n",
       "      <td>0</td>\n",
       "      <td>0</td>\n",
       "      <td>0</td>\n",
       "      <td>0</td>\n",
       "      <td>...</td>\n",
       "      <td>0</td>\n",
       "      <td>0</td>\n",
       "      <td>0</td>\n",
       "      <td>0</td>\n",
       "      <td>0</td>\n",
       "      <td>0</td>\n",
       "      <td>0</td>\n",
       "      <td>0</td>\n",
       "      <td>0</td>\n",
       "      <td>0</td>\n",
       "    </tr>\n",
       "    <tr>\n",
       "      <th>25</th>\n",
       "      <td>0</td>\n",
       "      <td>0</td>\n",
       "      <td>0</td>\n",
       "      <td>0</td>\n",
       "      <td>0</td>\n",
       "      <td>0</td>\n",
       "      <td>0</td>\n",
       "      <td>0</td>\n",
       "      <td>0</td>\n",
       "      <td>0</td>\n",
       "      <td>...</td>\n",
       "      <td>0</td>\n",
       "      <td>0</td>\n",
       "      <td>0</td>\n",
       "      <td>0</td>\n",
       "      <td>0</td>\n",
       "      <td>0</td>\n",
       "      <td>0</td>\n",
       "      <td>0</td>\n",
       "      <td>0</td>\n",
       "      <td>0</td>\n",
       "    </tr>\n",
       "    <tr>\n",
       "      <th>26</th>\n",
       "      <td>0</td>\n",
       "      <td>0</td>\n",
       "      <td>0</td>\n",
       "      <td>0</td>\n",
       "      <td>0</td>\n",
       "      <td>0</td>\n",
       "      <td>0</td>\n",
       "      <td>0</td>\n",
       "      <td>0</td>\n",
       "      <td>0</td>\n",
       "      <td>...</td>\n",
       "      <td>0</td>\n",
       "      <td>0</td>\n",
       "      <td>0</td>\n",
       "      <td>0</td>\n",
       "      <td>0</td>\n",
       "      <td>0</td>\n",
       "      <td>0</td>\n",
       "      <td>0</td>\n",
       "      <td>0</td>\n",
       "      <td>0</td>\n",
       "    </tr>\n",
       "    <tr>\n",
       "      <th>27</th>\n",
       "      <td>0</td>\n",
       "      <td>0</td>\n",
       "      <td>0</td>\n",
       "      <td>0</td>\n",
       "      <td>0</td>\n",
       "      <td>0</td>\n",
       "      <td>0</td>\n",
       "      <td>0</td>\n",
       "      <td>0</td>\n",
       "      <td>0</td>\n",
       "      <td>...</td>\n",
       "      <td>0</td>\n",
       "      <td>0</td>\n",
       "      <td>0</td>\n",
       "      <td>0</td>\n",
       "      <td>0</td>\n",
       "      <td>0</td>\n",
       "      <td>0</td>\n",
       "      <td>0</td>\n",
       "      <td>0</td>\n",
       "      <td>0</td>\n",
       "    </tr>\n",
       "    <tr>\n",
       "      <th>28</th>\n",
       "      <td>0</td>\n",
       "      <td>0</td>\n",
       "      <td>0</td>\n",
       "      <td>0</td>\n",
       "      <td>0</td>\n",
       "      <td>0</td>\n",
       "      <td>0</td>\n",
       "      <td>0</td>\n",
       "      <td>0</td>\n",
       "      <td>0</td>\n",
       "      <td>...</td>\n",
       "      <td>0</td>\n",
       "      <td>0</td>\n",
       "      <td>0</td>\n",
       "      <td>0</td>\n",
       "      <td>0</td>\n",
       "      <td>0</td>\n",
       "      <td>0</td>\n",
       "      <td>0</td>\n",
       "      <td>0</td>\n",
       "      <td>0</td>\n",
       "    </tr>\n",
       "    <tr>\n",
       "      <th>29</th>\n",
       "      <td>0</td>\n",
       "      <td>0</td>\n",
       "      <td>0</td>\n",
       "      <td>0</td>\n",
       "      <td>0</td>\n",
       "      <td>0</td>\n",
       "      <td>0</td>\n",
       "      <td>0</td>\n",
       "      <td>0</td>\n",
       "      <td>0</td>\n",
       "      <td>...</td>\n",
       "      <td>0</td>\n",
       "      <td>0</td>\n",
       "      <td>0</td>\n",
       "      <td>0</td>\n",
       "      <td>0</td>\n",
       "      <td>0</td>\n",
       "      <td>0</td>\n",
       "      <td>0</td>\n",
       "      <td>0</td>\n",
       "      <td>0</td>\n",
       "    </tr>\n",
       "    <tr>\n",
       "      <th>30</th>\n",
       "      <td>0</td>\n",
       "      <td>0</td>\n",
       "      <td>0</td>\n",
       "      <td>0</td>\n",
       "      <td>0</td>\n",
       "      <td>0</td>\n",
       "      <td>0</td>\n",
       "      <td>0</td>\n",
       "      <td>0</td>\n",
       "      <td>0</td>\n",
       "      <td>...</td>\n",
       "      <td>1</td>\n",
       "      <td>0</td>\n",
       "      <td>0</td>\n",
       "      <td>0</td>\n",
       "      <td>0</td>\n",
       "      <td>0</td>\n",
       "      <td>0</td>\n",
       "      <td>0</td>\n",
       "      <td>0</td>\n",
       "      <td>0</td>\n",
       "    </tr>\n",
       "    <tr>\n",
       "      <th>31</th>\n",
       "      <td>0</td>\n",
       "      <td>0</td>\n",
       "      <td>0</td>\n",
       "      <td>0</td>\n",
       "      <td>0</td>\n",
       "      <td>0</td>\n",
       "      <td>0</td>\n",
       "      <td>0</td>\n",
       "      <td>0</td>\n",
       "      <td>0</td>\n",
       "      <td>...</td>\n",
       "      <td>0</td>\n",
       "      <td>1</td>\n",
       "      <td>0</td>\n",
       "      <td>0</td>\n",
       "      <td>0</td>\n",
       "      <td>0</td>\n",
       "      <td>0</td>\n",
       "      <td>0</td>\n",
       "      <td>0</td>\n",
       "      <td>0</td>\n",
       "    </tr>\n",
       "    <tr>\n",
       "      <th>32</th>\n",
       "      <td>0</td>\n",
       "      <td>0</td>\n",
       "      <td>0</td>\n",
       "      <td>0</td>\n",
       "      <td>0</td>\n",
       "      <td>0</td>\n",
       "      <td>0</td>\n",
       "      <td>0</td>\n",
       "      <td>0</td>\n",
       "      <td>0</td>\n",
       "      <td>...</td>\n",
       "      <td>0</td>\n",
       "      <td>0</td>\n",
       "      <td>1</td>\n",
       "      <td>0</td>\n",
       "      <td>0</td>\n",
       "      <td>0</td>\n",
       "      <td>0</td>\n",
       "      <td>0</td>\n",
       "      <td>0</td>\n",
       "      <td>0</td>\n",
       "    </tr>\n",
       "    <tr>\n",
       "      <th>33</th>\n",
       "      <td>0</td>\n",
       "      <td>0</td>\n",
       "      <td>0</td>\n",
       "      <td>0</td>\n",
       "      <td>0</td>\n",
       "      <td>0</td>\n",
       "      <td>0</td>\n",
       "      <td>0</td>\n",
       "      <td>0</td>\n",
       "      <td>0</td>\n",
       "      <td>...</td>\n",
       "      <td>0</td>\n",
       "      <td>0</td>\n",
       "      <td>0</td>\n",
       "      <td>1</td>\n",
       "      <td>0</td>\n",
       "      <td>0</td>\n",
       "      <td>0</td>\n",
       "      <td>0</td>\n",
       "      <td>0</td>\n",
       "      <td>0</td>\n",
       "    </tr>\n",
       "    <tr>\n",
       "      <th>34</th>\n",
       "      <td>0</td>\n",
       "      <td>0</td>\n",
       "      <td>0</td>\n",
       "      <td>0</td>\n",
       "      <td>0</td>\n",
       "      <td>0</td>\n",
       "      <td>0</td>\n",
       "      <td>0</td>\n",
       "      <td>0</td>\n",
       "      <td>0</td>\n",
       "      <td>...</td>\n",
       "      <td>0</td>\n",
       "      <td>0</td>\n",
       "      <td>0</td>\n",
       "      <td>0</td>\n",
       "      <td>1</td>\n",
       "      <td>0</td>\n",
       "      <td>0</td>\n",
       "      <td>0</td>\n",
       "      <td>0</td>\n",
       "      <td>0</td>\n",
       "    </tr>\n",
       "    <tr>\n",
       "      <th>35</th>\n",
       "      <td>0</td>\n",
       "      <td>0</td>\n",
       "      <td>0</td>\n",
       "      <td>0</td>\n",
       "      <td>0</td>\n",
       "      <td>0</td>\n",
       "      <td>0</td>\n",
       "      <td>0</td>\n",
       "      <td>0</td>\n",
       "      <td>0</td>\n",
       "      <td>...</td>\n",
       "      <td>0</td>\n",
       "      <td>0</td>\n",
       "      <td>0</td>\n",
       "      <td>0</td>\n",
       "      <td>0</td>\n",
       "      <td>1</td>\n",
       "      <td>0</td>\n",
       "      <td>0</td>\n",
       "      <td>0</td>\n",
       "      <td>0</td>\n",
       "    </tr>\n",
       "    <tr>\n",
       "      <th>36</th>\n",
       "      <td>0</td>\n",
       "      <td>0</td>\n",
       "      <td>0</td>\n",
       "      <td>0</td>\n",
       "      <td>0</td>\n",
       "      <td>0</td>\n",
       "      <td>0</td>\n",
       "      <td>0</td>\n",
       "      <td>0</td>\n",
       "      <td>0</td>\n",
       "      <td>...</td>\n",
       "      <td>0</td>\n",
       "      <td>0</td>\n",
       "      <td>0</td>\n",
       "      <td>0</td>\n",
       "      <td>0</td>\n",
       "      <td>0</td>\n",
       "      <td>1</td>\n",
       "      <td>0</td>\n",
       "      <td>0</td>\n",
       "      <td>0</td>\n",
       "    </tr>\n",
       "    <tr>\n",
       "      <th>37</th>\n",
       "      <td>0</td>\n",
       "      <td>0</td>\n",
       "      <td>0</td>\n",
       "      <td>0</td>\n",
       "      <td>0</td>\n",
       "      <td>0</td>\n",
       "      <td>0</td>\n",
       "      <td>0</td>\n",
       "      <td>0</td>\n",
       "      <td>0</td>\n",
       "      <td>...</td>\n",
       "      <td>0</td>\n",
       "      <td>0</td>\n",
       "      <td>0</td>\n",
       "      <td>0</td>\n",
       "      <td>0</td>\n",
       "      <td>0</td>\n",
       "      <td>0</td>\n",
       "      <td>1</td>\n",
       "      <td>0</td>\n",
       "      <td>0</td>\n",
       "    </tr>\n",
       "    <tr>\n",
       "      <th>38</th>\n",
       "      <td>0</td>\n",
       "      <td>0</td>\n",
       "      <td>0</td>\n",
       "      <td>0</td>\n",
       "      <td>0</td>\n",
       "      <td>0</td>\n",
       "      <td>0</td>\n",
       "      <td>0</td>\n",
       "      <td>0</td>\n",
       "      <td>0</td>\n",
       "      <td>...</td>\n",
       "      <td>0</td>\n",
       "      <td>0</td>\n",
       "      <td>0</td>\n",
       "      <td>0</td>\n",
       "      <td>0</td>\n",
       "      <td>0</td>\n",
       "      <td>0</td>\n",
       "      <td>0</td>\n",
       "      <td>1</td>\n",
       "      <td>0</td>\n",
       "    </tr>\n",
       "    <tr>\n",
       "      <th>39</th>\n",
       "      <td>0</td>\n",
       "      <td>0</td>\n",
       "      <td>0</td>\n",
       "      <td>0</td>\n",
       "      <td>0</td>\n",
       "      <td>0</td>\n",
       "      <td>0</td>\n",
       "      <td>0</td>\n",
       "      <td>0</td>\n",
       "      <td>0</td>\n",
       "      <td>...</td>\n",
       "      <td>0</td>\n",
       "      <td>0</td>\n",
       "      <td>0</td>\n",
       "      <td>0</td>\n",
       "      <td>0</td>\n",
       "      <td>0</td>\n",
       "      <td>0</td>\n",
       "      <td>0</td>\n",
       "      <td>0</td>\n",
       "      <td>1</td>\n",
       "    </tr>\n",
       "  </tbody>\n",
       "</table>\n",
       "<p>40 rows × 40 columns</p>\n",
       "</div>"
      ],
      "text/plain": [
       "    겨울 기타 코트  겨울 싱글 코트  기타 바지  기타 상의  기타 아우터  긴팔 티셔츠  나일론/코치  재킷  니트/스웨터/카디건  \\\n",
       "0          1         0      0      0       0       0           0           0   \n",
       "1          0         1      0      0       0       0           0           0   \n",
       "2          0         0      1      0       0       0           0           0   \n",
       "3          0         0      0      1       0       0           0           0   \n",
       "4          0         0      0      0       1       0           0           0   \n",
       "5          0         0      0      0       0       1           0           0   \n",
       "6          0         0      0      0       0       0           1           0   \n",
       "7          0         0      0      0       0       0           0           1   \n",
       "8          0         0      0      0       0       0           0           0   \n",
       "9          0         0      0      0       0       0           0           0   \n",
       "10         0         0      0      0       0       0           0           0   \n",
       "11         0         0      0      0       0       0           0           0   \n",
       "12         0         0      0      0       0       0           0           0   \n",
       "13         0         0      0      0       0       0           0           0   \n",
       "14         0         0      0      0       0       0           0           0   \n",
       "15         0         0      0      0       0       0           0           0   \n",
       "16         0         0      0      0       0       0           0           0   \n",
       "17         0         0      0      0       0       0           0           0   \n",
       "18         0         0      0      0       0       0           0           0   \n",
       "19         0         0      0      0       0       0           0           0   \n",
       "20         0         0      0      0       0       0           0           0   \n",
       "21         0         0      0      0       0       0           0           0   \n",
       "22         0         0      0      0       0       0           0           0   \n",
       "23         0         0      0      0       0       0           0           0   \n",
       "24         0         0      0      0       0       0           0           0   \n",
       "25         0         0      0      0       0       0           0           0   \n",
       "26         0         0      0      0       0       0           0           0   \n",
       "27         0         0      0      0       0       0           0           0   \n",
       "28         0         0      0      0       0       0           0           0   \n",
       "29         0         0      0      0       0       0           0           0   \n",
       "30         0         0      0      0       0       0           0           0   \n",
       "31         0         0      0      0       0       0           0           0   \n",
       "32         0         0      0      0       0       0           0           0   \n",
       "33         0         0      0      0       0       0           0           0   \n",
       "34         0         0      0      0       0       0           0           0   \n",
       "35         0         0      0      0       0       0           0           0   \n",
       "36         0         0      0      0       0       0           0           0   \n",
       "37         0         0      0      0       0       0           0           0   \n",
       "38         0         0      0      0       0       0           0           0   \n",
       "39         0         0      0      0       0       0           0           0   \n",
       "\n",
       "    데님 팬츠  레깅스  ...  아노락 재킷  점프수트  코튼 팬츠  트러커 재킷  트레이닝 재킷  트레이닝/조거 팬츠  패딩 베스트  \\\n",
       "0       0    0  ...       0     0      0       0        0           0       0   \n",
       "1       0    0  ...       0     0      0       0        0           0       0   \n",
       "2       0    0  ...       0     0      0       0        0           0       0   \n",
       "3       0    0  ...       0     0      0       0        0           0       0   \n",
       "4       0    0  ...       0     0      0       0        0           0       0   \n",
       "5       0    0  ...       0     0      0       0        0           0       0   \n",
       "6       0    0  ...       0     0      0       0        0           0       0   \n",
       "7       0    0  ...       0     0      0       0        0           0       0   \n",
       "8       1    0  ...       0     0      0       0        0           0       0   \n",
       "9       0    1  ...       0     0      0       0        0           0       0   \n",
       "10      0    0  ...       0     0      0       0        0           0       0   \n",
       "11      0    0  ...       0     0      0       0        0           0       0   \n",
       "12      0    0  ...       0     0      0       0        0           0       0   \n",
       "13      0    0  ...       0     0      0       0        0           0       0   \n",
       "14      0    0  ...       0     0      0       0        0           0       0   \n",
       "15      0    0  ...       0     0      0       0        0           0       0   \n",
       "16      0    0  ...       0     0      0       0        0           0       0   \n",
       "17      0    0  ...       0     0      0       0        0           0       0   \n",
       "18      0    0  ...       0     0      0       0        0           0       0   \n",
       "19      0    0  ...       0     0      0       0        0           0       0   \n",
       "20      0    0  ...       0     0      0       0        0           0       0   \n",
       "21      0    0  ...       0     0      0       0        0           0       0   \n",
       "22      0    0  ...       0     0      0       0        0           0       0   \n",
       "23      0    0  ...       0     0      0       0        0           0       0   \n",
       "24      0    0  ...       0     0      0       0        0           0       0   \n",
       "25      0    0  ...       0     0      0       0        0           0       0   \n",
       "26      0    0  ...       0     0      0       0        0           0       0   \n",
       "27      0    0  ...       0     0      0       0        0           0       0   \n",
       "28      0    0  ...       0     0      0       0        0           0       0   \n",
       "29      0    0  ...       0     0      0       0        0           0       0   \n",
       "30      0    0  ...       1     0      0       0        0           0       0   \n",
       "31      0    0  ...       0     1      0       0        0           0       0   \n",
       "32      0    0  ...       0     0      1       0        0           0       0   \n",
       "33      0    0  ...       0     0      0       1        0           0       0   \n",
       "34      0    0  ...       0     0      0       0        1           0       0   \n",
       "35      0    0  ...       0     0      0       0        0           1       0   \n",
       "36      0    0  ...       0     0      0       0        0           0       1   \n",
       "37      0    0  ...       0     0      0       0        0           0       0   \n",
       "38      0    0  ...       0     0      0       0        0           0       0   \n",
       "39      0    0  ...       0     0      0       0        0           0       0   \n",
       "\n",
       "    피케/카라 티셔츠  환절기 코트  후드 스웨트셔츠/후드 집업  \n",
       "0           0       0               0  \n",
       "1           0       0               0  \n",
       "2           0       0               0  \n",
       "3           0       0               0  \n",
       "4           0       0               0  \n",
       "5           0       0               0  \n",
       "6           0       0               0  \n",
       "7           0       0               0  \n",
       "8           0       0               0  \n",
       "9           0       0               0  \n",
       "10          0       0               0  \n",
       "11          0       0               0  \n",
       "12          0       0               0  \n",
       "13          0       0               0  \n",
       "14          0       0               0  \n",
       "15          0       0               0  \n",
       "16          0       0               0  \n",
       "17          0       0               0  \n",
       "18          0       0               0  \n",
       "19          0       0               0  \n",
       "20          0       0               0  \n",
       "21          0       0               0  \n",
       "22          0       0               0  \n",
       "23          0       0               0  \n",
       "24          0       0               0  \n",
       "25          0       0               0  \n",
       "26          0       0               0  \n",
       "27          0       0               0  \n",
       "28          0       0               0  \n",
       "29          0       0               0  \n",
       "30          0       0               0  \n",
       "31          0       0               0  \n",
       "32          0       0               0  \n",
       "33          0       0               0  \n",
       "34          0       0               0  \n",
       "35          0       0               0  \n",
       "36          0       0               0  \n",
       "37          1       0               0  \n",
       "38          0       1               0  \n",
       "39          0       0               1  \n",
       "\n",
       "[40 rows x 40 columns]"
      ]
     },
     "execution_count": 14,
     "metadata": {},
     "output_type": "execute_result"
    }
   ],
   "source": [
    "minor_onehot"
   ]
  },
  {
   "cell_type": "code",
   "execution_count": 15,
   "metadata": {},
   "outputs": [],
   "source": [
    "#minor_onehot df를 dict로 바꾸기\n",
    "minor_onehot_dict = {}\n",
    "for i in minor_onehot :\n",
    "    minor_onehot_dict[i] = minor_onehot[i].to_numpy()"
   ]
  },
  {
   "cell_type": "code",
   "execution_count": 45,
   "metadata": {},
   "outputs": [
    {
     "data": {
      "text/plain": [
       "40"
      ]
     },
     "execution_count": 45,
     "metadata": {},
     "output_type": "execute_result"
    }
   ],
   "source": [
    "len(minor_onehot_dict)"
   ]
  },
  {
   "cell_type": "code",
   "execution_count": 16,
   "metadata": {},
   "outputs": [
    {
     "data": {
      "text/plain": [
       "{'겨울 기타 코트': array([1, 0, 0, 0, 0, 0, 0, 0, 0, 0, 0, 0, 0, 0, 0, 0, 0, 0, 0, 0, 0, 0,\n",
       "        0, 0, 0, 0, 0, 0, 0, 0, 0, 0, 0, 0, 0, 0, 0, 0, 0, 0], dtype=uint8),\n",
       " '겨울 싱글 코트': array([0, 1, 0, 0, 0, 0, 0, 0, 0, 0, 0, 0, 0, 0, 0, 0, 0, 0, 0, 0, 0, 0,\n",
       "        0, 0, 0, 0, 0, 0, 0, 0, 0, 0, 0, 0, 0, 0, 0, 0, 0, 0], dtype=uint8),\n",
       " '기타 바지': array([0, 0, 1, 0, 0, 0, 0, 0, 0, 0, 0, 0, 0, 0, 0, 0, 0, 0, 0, 0, 0, 0,\n",
       "        0, 0, 0, 0, 0, 0, 0, 0, 0, 0, 0, 0, 0, 0, 0, 0, 0, 0], dtype=uint8),\n",
       " '기타 상의': array([0, 0, 0, 1, 0, 0, 0, 0, 0, 0, 0, 0, 0, 0, 0, 0, 0, 0, 0, 0, 0, 0,\n",
       "        0, 0, 0, 0, 0, 0, 0, 0, 0, 0, 0, 0, 0, 0, 0, 0, 0, 0], dtype=uint8),\n",
       " '기타 아우터': array([0, 0, 0, 0, 1, 0, 0, 0, 0, 0, 0, 0, 0, 0, 0, 0, 0, 0, 0, 0, 0, 0,\n",
       "        0, 0, 0, 0, 0, 0, 0, 0, 0, 0, 0, 0, 0, 0, 0, 0, 0, 0], dtype=uint8),\n",
       " '긴팔 티셔츠': array([0, 0, 0, 0, 0, 1, 0, 0, 0, 0, 0, 0, 0, 0, 0, 0, 0, 0, 0, 0, 0, 0,\n",
       "        0, 0, 0, 0, 0, 0, 0, 0, 0, 0, 0, 0, 0, 0, 0, 0, 0, 0], dtype=uint8),\n",
       " '나일론/코치  재킷': array([0, 0, 0, 0, 0, 0, 1, 0, 0, 0, 0, 0, 0, 0, 0, 0, 0, 0, 0, 0, 0, 0,\n",
       "        0, 0, 0, 0, 0, 0, 0, 0, 0, 0, 0, 0, 0, 0, 0, 0, 0, 0], dtype=uint8),\n",
       " '니트/스웨터/카디건': array([0, 0, 0, 0, 0, 0, 0, 1, 0, 0, 0, 0, 0, 0, 0, 0, 0, 0, 0, 0, 0, 0,\n",
       "        0, 0, 0, 0, 0, 0, 0, 0, 0, 0, 0, 0, 0, 0, 0, 0, 0, 0], dtype=uint8),\n",
       " '데님 팬츠': array([0, 0, 0, 0, 0, 0, 0, 0, 1, 0, 0, 0, 0, 0, 0, 0, 0, 0, 0, 0, 0, 0,\n",
       "        0, 0, 0, 0, 0, 0, 0, 0, 0, 0, 0, 0, 0, 0, 0, 0, 0, 0], dtype=uint8),\n",
       " '레깅스': array([0, 0, 0, 0, 0, 0, 0, 0, 0, 1, 0, 0, 0, 0, 0, 0, 0, 0, 0, 0, 0, 0,\n",
       "        0, 0, 0, 0, 0, 0, 0, 0, 0, 0, 0, 0, 0, 0, 0, 0, 0, 0], dtype=uint8),\n",
       " '레더/라이더스 재킷': array([0, 0, 0, 0, 0, 0, 0, 0, 0, 0, 1, 0, 0, 0, 0, 0, 0, 0, 0, 0, 0, 0,\n",
       "        0, 0, 0, 0, 0, 0, 0, 0, 0, 0, 0, 0, 0, 0, 0, 0, 0, 0], dtype=uint8),\n",
       " '롱 스커트': array([0, 0, 0, 0, 0, 0, 0, 0, 0, 0, 0, 1, 0, 0, 0, 0, 0, 0, 0, 0, 0, 0,\n",
       "        0, 0, 0, 0, 0, 0, 0, 0, 0, 0, 0, 0, 0, 0, 0, 0, 0, 0], dtype=uint8),\n",
       " '롱 패딩/롱 헤비 아우터': array([0, 0, 0, 0, 0, 0, 0, 0, 0, 0, 0, 0, 1, 0, 0, 0, 0, 0, 0, 0, 0, 0,\n",
       "        0, 0, 0, 0, 0, 0, 0, 0, 0, 0, 0, 0, 0, 0, 0, 0, 0, 0], dtype=uint8),\n",
       " '맥시 원피스': array([0, 0, 0, 0, 0, 0, 0, 0, 0, 0, 0, 0, 0, 1, 0, 0, 0, 0, 0, 0, 0, 0,\n",
       "        0, 0, 0, 0, 0, 0, 0, 0, 0, 0, 0, 0, 0, 0, 0, 0, 0, 0], dtype=uint8),\n",
       " '맨투맨/스웨트셔츠': array([0, 0, 0, 0, 0, 0, 0, 0, 0, 0, 0, 0, 0, 0, 1, 0, 0, 0, 0, 0, 0, 0,\n",
       "        0, 0, 0, 0, 0, 0, 0, 0, 0, 0, 0, 0, 0, 0, 0, 0, 0, 0], dtype=uint8),\n",
       " '미니 스커트': array([0, 0, 0, 0, 0, 0, 0, 0, 0, 0, 0, 0, 0, 0, 0, 1, 0, 0, 0, 0, 0, 0,\n",
       "        0, 0, 0, 0, 0, 0, 0, 0, 0, 0, 0, 0, 0, 0, 0, 0, 0, 0], dtype=uint8),\n",
       " '미니 원피스': array([0, 0, 0, 0, 0, 0, 0, 0, 0, 0, 0, 0, 0, 0, 0, 0, 1, 0, 0, 0, 0, 0,\n",
       "        0, 0, 0, 0, 0, 0, 0, 0, 0, 0, 0, 0, 0, 0, 0, 0, 0, 0], dtype=uint8),\n",
       " '미디 스커트': array([0, 0, 0, 0, 0, 0, 0, 0, 0, 0, 0, 0, 0, 0, 0, 0, 0, 1, 0, 0, 0, 0,\n",
       "        0, 0, 0, 0, 0, 0, 0, 0, 0, 0, 0, 0, 0, 0, 0, 0, 0, 0], dtype=uint8),\n",
       " '미디 원피스': array([0, 0, 0, 0, 0, 0, 0, 0, 0, 0, 0, 0, 0, 0, 0, 0, 0, 0, 1, 0, 0, 0,\n",
       "        0, 0, 0, 0, 0, 0, 0, 0, 0, 0, 0, 0, 0, 0, 0, 0, 0, 0], dtype=uint8),\n",
       " '민소매 티셔츠': array([0, 0, 0, 0, 0, 0, 0, 0, 0, 0, 0, 0, 0, 0, 0, 0, 0, 0, 0, 1, 0, 0,\n",
       "        0, 0, 0, 0, 0, 0, 0, 0, 0, 0, 0, 0, 0, 0, 0, 0, 0, 0], dtype=uint8),\n",
       " '반팔 티셔츠': array([0, 0, 0, 0, 0, 0, 0, 0, 0, 0, 0, 0, 0, 0, 0, 0, 0, 0, 0, 0, 1, 0,\n",
       "        0, 0, 0, 0, 0, 0, 0, 0, 0, 0, 0, 0, 0, 0, 0, 0, 0, 0], dtype=uint8),\n",
       " '베스트': array([0, 0, 0, 0, 0, 0, 0, 0, 0, 0, 0, 0, 0, 0, 0, 0, 0, 0, 0, 0, 0, 1,\n",
       "        0, 0, 0, 0, 0, 0, 0, 0, 0, 0, 0, 0, 0, 0, 0, 0, 0, 0], dtype=uint8),\n",
       " '블루종/MA-1': array([0, 0, 0, 0, 0, 0, 0, 0, 0, 0, 0, 0, 0, 0, 0, 0, 0, 0, 0, 0, 0, 0,\n",
       "        1, 0, 0, 0, 0, 0, 0, 0, 0, 0, 0, 0, 0, 0, 0, 0, 0, 0], dtype=uint8),\n",
       " '사파리/헌팅 재킷': array([0, 0, 0, 0, 0, 0, 0, 0, 0, 0, 0, 0, 0, 0, 0, 0, 0, 0, 0, 0, 0, 0,\n",
       "        0, 1, 0, 0, 0, 0, 0, 0, 0, 0, 0, 0, 0, 0, 0, 0, 0, 0], dtype=uint8),\n",
       " '셔츠/블라우스': array([0, 0, 0, 0, 0, 0, 0, 0, 0, 0, 0, 0, 0, 0, 0, 0, 0, 0, 0, 0, 0, 0,\n",
       "        0, 0, 1, 0, 0, 0, 0, 0, 0, 0, 0, 0, 0, 0, 0, 0, 0, 0], dtype=uint8),\n",
       " '숏 패딩/숏 헤비 아우터': array([0, 0, 0, 0, 0, 0, 0, 0, 0, 0, 0, 0, 0, 0, 0, 0, 0, 0, 0, 0, 0, 0,\n",
       "        0, 0, 0, 1, 0, 0, 0, 0, 0, 0, 0, 0, 0, 0, 0, 0, 0, 0], dtype=uint8),\n",
       " '숏 팬츠': array([0, 0, 0, 0, 0, 0, 0, 0, 0, 0, 0, 0, 0, 0, 0, 0, 0, 0, 0, 0, 0, 0,\n",
       "        0, 0, 0, 0, 1, 0, 0, 0, 0, 0, 0, 0, 0, 0, 0, 0, 0, 0], dtype=uint8),\n",
       " '수트 팬츠/슬랙스': array([0, 0, 0, 0, 0, 0, 0, 0, 0, 0, 0, 0, 0, 0, 0, 0, 0, 0, 0, 0, 0, 0,\n",
       "        0, 0, 0, 0, 0, 1, 0, 0, 0, 0, 0, 0, 0, 0, 0, 0, 0, 0], dtype=uint8),\n",
       " '수트/블레이저 재킷': array([0, 0, 0, 0, 0, 0, 0, 0, 0, 0, 0, 0, 0, 0, 0, 0, 0, 0, 0, 0, 0, 0,\n",
       "        0, 0, 0, 0, 0, 0, 1, 0, 0, 0, 0, 0, 0, 0, 0, 0, 0, 0], dtype=uint8),\n",
       " '스타디움 재킷': array([0, 0, 0, 0, 0, 0, 0, 0, 0, 0, 0, 0, 0, 0, 0, 0, 0, 0, 0, 0, 0, 0,\n",
       "        0, 0, 0, 0, 0, 0, 0, 1, 0, 0, 0, 0, 0, 0, 0, 0, 0, 0], dtype=uint8),\n",
       " '아노락 재킷': array([0, 0, 0, 0, 0, 0, 0, 0, 0, 0, 0, 0, 0, 0, 0, 0, 0, 0, 0, 0, 0, 0,\n",
       "        0, 0, 0, 0, 0, 0, 0, 0, 1, 0, 0, 0, 0, 0, 0, 0, 0, 0], dtype=uint8),\n",
       " '점프수트': array([0, 0, 0, 0, 0, 0, 0, 0, 0, 0, 0, 0, 0, 0, 0, 0, 0, 0, 0, 0, 0, 0,\n",
       "        0, 0, 0, 0, 0, 0, 0, 0, 0, 1, 0, 0, 0, 0, 0, 0, 0, 0], dtype=uint8),\n",
       " '코튼 팬츠': array([0, 0, 0, 0, 0, 0, 0, 0, 0, 0, 0, 0, 0, 0, 0, 0, 0, 0, 0, 0, 0, 0,\n",
       "        0, 0, 0, 0, 0, 0, 0, 0, 0, 0, 1, 0, 0, 0, 0, 0, 0, 0], dtype=uint8),\n",
       " '트러커 재킷': array([0, 0, 0, 0, 0, 0, 0, 0, 0, 0, 0, 0, 0, 0, 0, 0, 0, 0, 0, 0, 0, 0,\n",
       "        0, 0, 0, 0, 0, 0, 0, 0, 0, 0, 0, 1, 0, 0, 0, 0, 0, 0], dtype=uint8),\n",
       " '트레이닝 재킷': array([0, 0, 0, 0, 0, 0, 0, 0, 0, 0, 0, 0, 0, 0, 0, 0, 0, 0, 0, 0, 0, 0,\n",
       "        0, 0, 0, 0, 0, 0, 0, 0, 0, 0, 0, 0, 1, 0, 0, 0, 0, 0], dtype=uint8),\n",
       " '트레이닝/조거 팬츠': array([0, 0, 0, 0, 0, 0, 0, 0, 0, 0, 0, 0, 0, 0, 0, 0, 0, 0, 0, 0, 0, 0,\n",
       "        0, 0, 0, 0, 0, 0, 0, 0, 0, 0, 0, 0, 0, 1, 0, 0, 0, 0], dtype=uint8),\n",
       " '패딩 베스트': array([0, 0, 0, 0, 0, 0, 0, 0, 0, 0, 0, 0, 0, 0, 0, 0, 0, 0, 0, 0, 0, 0,\n",
       "        0, 0, 0, 0, 0, 0, 0, 0, 0, 0, 0, 0, 0, 0, 1, 0, 0, 0], dtype=uint8),\n",
       " '피케/카라 티셔츠': array([0, 0, 0, 0, 0, 0, 0, 0, 0, 0, 0, 0, 0, 0, 0, 0, 0, 0, 0, 0, 0, 0,\n",
       "        0, 0, 0, 0, 0, 0, 0, 0, 0, 0, 0, 0, 0, 0, 0, 1, 0, 0], dtype=uint8),\n",
       " '환절기 코트': array([0, 0, 0, 0, 0, 0, 0, 0, 0, 0, 0, 0, 0, 0, 0, 0, 0, 0, 0, 0, 0, 0,\n",
       "        0, 0, 0, 0, 0, 0, 0, 0, 0, 0, 0, 0, 0, 0, 0, 0, 1, 0], dtype=uint8),\n",
       " '후드 스웨트셔츠/후드 집업': array([0, 0, 0, 0, 0, 0, 0, 0, 0, 0, 0, 0, 0, 0, 0, 0, 0, 0, 0, 0, 0, 0,\n",
       "        0, 0, 0, 0, 0, 0, 0, 0, 0, 0, 0, 0, 0, 0, 0, 0, 0, 1], dtype=uint8)}"
      ]
     },
     "execution_count": 16,
     "metadata": {},
     "output_type": "execute_result"
    }
   ],
   "source": [
    "minor_onehot_dict"
   ]
  },
  {
   "cell_type": "markdown",
   "metadata": {},
   "source": [
    "데이터 준비 - 데이터 배경제거\n",
    "\n",
    "---\n",
    "\n",
    "5천개 정도만 뽑아서 openCV이용 전처리 해보기  \n",
    "->결과 : 옷의 색이 옅은 경우에는 옷까지 탈색됨"
   ]
  },
  {
   "cell_type": "code",
   "execution_count": 11,
   "metadata": {},
   "outputs": [],
   "source": [
    "def edgedetect (channel):\n",
    "    sobelX = cv2.Sobel(channel, cv2.CV_16S, 1, 0)\n",
    "    sobelY = cv2.Sobel(channel, cv2.CV_16S, 0, 1)\n",
    "    sobel = np.hypot(sobelX, sobelY)\n",
    "\n",
    "    sobel[sobel > 255] = 255; # Some values seem to go above 255. However RGB channels has to be within 0-255\n",
    "\n",
    "    return sobel"
   ]
  },
  {
   "cell_type": "code",
   "execution_count": 5,
   "metadata": {},
   "outputs": [],
   "source": [
    "def findSignificantContours (img, edgeImg):\n",
    "    contours, heirarchy = cv2.findContours(edgeImg, cv2.RETR_TREE, cv2.CHAIN_APPROX_SIMPLE)\n",
    "\n",
    "    # Find level 1 contours\n",
    "    level1 = []\n",
    "    for i, tupl in enumerate(heirarchy[0]):\n",
    "        # Each array is in format (Next, Prev, First child, Parent)\n",
    "        # Filter the ones without parent\n",
    "        if tupl[3] == -1:\n",
    "            tupl = np.insert(tupl, 0, [i])\n",
    "            level1.append(tupl)\n",
    "\n",
    "\n",
    "    # From among them, find the contours with large surface area.\n",
    "    significant = []\n",
    "    tooSmall = edgeImg.size * 5 / 100 # If contour isn't covering 5% of total area of image then it probably is too small\n",
    "    for tupl in level1:\n",
    "        contour = contours[tupl[0]];\n",
    "\n",
    "        area = cv2.contourArea(contour)\n",
    "        if area > tooSmall:\n",
    "            significant.append([contour, area])\n",
    "\n",
    "    significant.sort(key=lambda x: x[1])\n",
    "    #print ([x[1] for x in significant]);\n",
    "    return [x[0] for x in significant];"
   ]
  },
  {
   "cell_type": "code",
   "execution_count": 13,
   "metadata": {
    "scrolled": true
   },
   "outputs": [
    {
     "name": "stdout",
     "output_type": "stream",
     "text": [
      " Total 4 of Image  pre-processed\n"
     ]
    }
   ],
   "source": [
    "# get list of files\n",
    "#img_paths = os.listdir(RAW_IMG_DIR)\n",
    "\n",
    "img_paths = [\"414.jpg\",\"415.jpg\",\"61309.jpg\",\"68679.jpg\"]\n",
    "RAW_IMG_DIR = \"data/musinsa\"\n",
    "IMG_DIR = \"prep_data/musinsa\"\n",
    "count = 0\n",
    "\n",
    "for f_name in img_paths:\n",
    "    count += 1\n",
    "    image = os.path.join(RAW_IMG_DIR,f_name)\n",
    "    img_raw = cv2.imread(image)\n",
    "    img = img_raw.copy()\n",
    "\n",
    "    # Remove noise\n",
    "    blurred = cv2.medianBlur(img, 9)\n",
    "\n",
    "    # Edging\n",
    "    edgeImg = np.max(np.array([edgedetect(blurred[:, :, 0]), edgedetect(blurred[:, :, 1]), edgedetect(blurred[:, :, 2])]), axis=0)\n",
    "\n",
    "    # Zero any value that is less than mean. This reduces a lot of noise.\n",
    "    mean = np.mean(edgeImg);\n",
    "    edgeImg[edgeImg <= mean] = 0;\n",
    "\n",
    "    # Find contours\n",
    "    edgeImg_8u = np.asarray(edgeImg, np.uint8)\n",
    "    significant = findSignificantContours(img, edgeImg_8u)\n",
    "\n",
    "    # Masking\n",
    "    mask = edgeImg.copy()\n",
    "    mask[mask > 0] = 0\n",
    "    cv2.fillPoly(mask, significant, 255)\n",
    "\n",
    "    # Invert mask\n",
    "    mask = np.logical_not(mask)\n",
    "\n",
    "    # Remove the background\n",
    "    img[mask] = -1\n",
    "\n",
    "    if count % 100 == 0:\n",
    "        print(' %s of Image  pre-processed' % count)\n",
    "\n",
    "    test = False\n",
    "    if test == True:\n",
    "        # Pre_processing Testing Scrren\n",
    "        images = [img_raw, img, blurred, edgeImg]\n",
    "        titles = ['img_raw', 'img', 'blurred', 'edgeImg']\n",
    "\n",
    "        for i in range(len(images)):\n",
    "            plt.subplot(1, 4, i + 1), plt.imshow(images[i]), plt.title(titles[i])\n",
    "        mng = plt.get_current_fig_manager()\n",
    "        mng.resize(1280,768)\n",
    "        plt.show()\n",
    "    else:\n",
    "        # Pre_precessed image save\n",
    "        cv2.imwrite(os.path.join(IMG_DIR, f_name), img)\n",
    "\n",
    "print(' Total %s of Image  pre-processed' % count)"
   ]
  },
  {
   "cell_type": "markdown",
   "metadata": {},
   "source": [
    "데이터 준비 - 파일시스템에서 파일경로 긁어오기\n",
    "\n",
    "---\n",
    "\n",
    "절차\n",
    "\n",
    "1. id, path, minor가 모두 담긴 일종의 csv를 만든다\n",
    "2. Train/Test 임의 분할해서 x_train/y_train x_test/y_test\n",
    "3. y label을 80-size vector로 변환\n",
    "4. batch generator 만들어서 url에 있는 파일 불러오기\n",
    "5. array로 만들어서 batch화\n",
    "6. keras로 훈련 가즈아\n",
    "\n",
    "train/val/test 셋 비율\n",
    "\n",
    "    train:val:test = 0.72:0.18:0.1  "
   ]
  },
  {
   "cell_type": "code",
   "execution_count": 21,
   "metadata": {},
   "outputs": [],
   "source": [
    "def get_train_datamap(connection) :\n",
    "    \"\"\"\n",
    "    목표 minor에 포함되는 훈련용 데이터의 경로 및 minor를 db로부터 불러오는 함수\n",
    "    input : db connection\n",
    "    output : 제대로 불러와지지 않는 이미지를 제외한 id-path map, id-minor map\n",
    "    \"\"\"\n",
    "    \n",
    "    sql = \"\"\"SELECT clothes_id,minor FROM CLOTHES_AND_CLOTHES_CLASS \n",
    "    INNER JOIN CLOTHES ON CLOTHES.id = CLOTHES_AND_CLOTHES_CLASS.clothes_id \n",
    "    INNER JOIN CLOTHES_CLASS ON CLOTHES_AND_CLOTHES_CLASS.clothes_class_id = CLOTHES_CLASS.id\n",
    "    WHERE clothes_class_id IN \n",
    "    (SELECT id FROM CLOTHES_CLASS \n",
    "    WHERE (major=\"남\" OR major=\"여\") \n",
    "    AND (middle != \"\" AND middle != \"가방\" AND middle!=\"스포츠/용품\")) \n",
    "    ORDER  BY clothes_id ASC \n",
    "    LIMIT 60000;\"\"\"\n",
    "\n",
    "    cur = db.cursor()\n",
    "    print(\"선택된 row 개수 : \",cur.execute(sql))\n",
    "    \n",
    "    id_path_map = {}\n",
    "    id_minor_map = {}\n",
    "\n",
    "    for id, minor in cur :\n",
    "        id_path_map[id] = f\"data/musinsa/{id}.jpg\"\n",
    "        id_minor_map[id] = minor\n",
    "        \n",
    "    # 제대로 불러와지지 않는 놈들 제외\n",
    "    defected_img = pd.read_csv('prep_data/defected_img_url.csv',index_col=0)\n",
    "    \n",
    "    #Dict는 runtime동안 non-iterable한데 억지로 del로 지워서 에러\n",
    "    for defected_id in defected_img.index :\n",
    "        id_path_map.pop(defected_id,None)\n",
    "        id_minor_map.pop(defected_id,None)\n",
    "        \n",
    "    return id_path_map,id_minor_map"
   ]
  },
  {
   "cell_type": "code",
   "execution_count": 22,
   "metadata": {
    "scrolled": true
   },
   "outputs": [
    {
     "name": "stdout",
     "output_type": "stream",
     "text": [
      "선택된 row 개수 :  60000\n"
     ]
    }
   ],
   "source": [
    "id_path_map,id_minor_map = get_train_datamap(db)"
   ]
  },
  {
   "cell_type": "code",
   "execution_count": 23,
   "metadata": {
    "scrolled": true
   },
   "outputs": [
    {
     "data": {
      "text/plain": [
       "414        data/musinsa/414.jpg\n",
       "415        data/musinsa/415.jpg\n",
       "416        data/musinsa/416.jpg\n",
       "417        data/musinsa/417.jpg\n",
       "418        data/musinsa/418.jpg\n",
       "                  ...          \n",
       "60470    data/musinsa/60470.jpg\n",
       "60471    data/musinsa/60471.jpg\n",
       "60472    data/musinsa/60472.jpg\n",
       "60473    data/musinsa/60473.jpg\n",
       "60474    data/musinsa/60474.jpg\n",
       "Length: 59923, dtype: object"
      ]
     },
     "execution_count": 23,
     "metadata": {},
     "output_type": "execute_result"
    }
   ],
   "source": [
    "x_dict = pd.Series(id_path_map)\n",
    "x_dict"
   ]
  },
  {
   "cell_type": "code",
   "execution_count": 24,
   "metadata": {
    "scrolled": true
   },
   "outputs": [
    {
     "data": {
      "text/plain": [
       "414          반팔 티셔츠\n",
       "415          반팔 티셔츠\n",
       "416          반팔 티셔츠\n",
       "417          반팔 티셔츠\n",
       "418          반팔 티셔츠\n",
       "            ...    \n",
       "60470    수트/블레이저 재킷\n",
       "60471    수트/블레이저 재킷\n",
       "60472    수트/블레이저 재킷\n",
       "60473    수트/블레이저 재킷\n",
       "60474    수트/블레이저 재킷\n",
       "Length: 59923, dtype: object"
      ]
     },
     "execution_count": 24,
     "metadata": {},
     "output_type": "execute_result"
    }
   ],
   "source": [
    "y_dict = pd.Series(id_minor_map)\n",
    "y_dict"
   ]
  },
  {
   "cell_type": "code",
   "execution_count": 25,
   "metadata": {},
   "outputs": [],
   "source": [
    "def load_label(minor) :\n",
    "    return minor_onehot[minor].to_numpy()"
   ]
  },
  {
   "cell_type": "code",
   "execution_count": 26,
   "metadata": {},
   "outputs": [],
   "source": [
    "y_label_dict = {}\n",
    "for id in y_dict.index :\n",
    "    y_label_dict[id] = load_label(y_dict[id])"
   ]
  },
  {
   "cell_type": "code",
   "execution_count": 27,
   "metadata": {},
   "outputs": [
    {
     "data": {
      "text/plain": [
       "414      [0, 0, 0, 0, 0, 0, 0, 0, 0, 0, 0, 0, 0, 0, 0, ...\n",
       "415      [0, 0, 0, 0, 0, 0, 0, 0, 0, 0, 0, 0, 0, 0, 0, ...\n",
       "416      [0, 0, 0, 0, 0, 0, 0, 0, 0, 0, 0, 0, 0, 0, 0, ...\n",
       "417      [0, 0, 0, 0, 0, 0, 0, 0, 0, 0, 0, 0, 0, 0, 0, ...\n",
       "418      [0, 0, 0, 0, 0, 0, 0, 0, 0, 0, 0, 0, 0, 0, 0, ...\n",
       "                               ...                        \n",
       "60470    [0, 0, 0, 0, 0, 0, 0, 0, 0, 0, 0, 0, 0, 0, 0, ...\n",
       "60471    [0, 0, 0, 0, 0, 0, 0, 0, 0, 0, 0, 0, 0, 0, 0, ...\n",
       "60472    [0, 0, 0, 0, 0, 0, 0, 0, 0, 0, 0, 0, 0, 0, 0, ...\n",
       "60473    [0, 0, 0, 0, 0, 0, 0, 0, 0, 0, 0, 0, 0, 0, 0, ...\n",
       "60474    [0, 0, 0, 0, 0, 0, 0, 0, 0, 0, 0, 0, 0, 0, 0, ...\n",
       "Length: 59923, dtype: object"
      ]
     },
     "execution_count": 27,
     "metadata": {},
     "output_type": "execute_result"
    }
   ],
   "source": [
    "y_label_dict = pd.Series(y_label_dict)\n",
    "y_label_dict"
   ]
  },
  {
   "cell_type": "code",
   "execution_count": 28,
   "metadata": {},
   "outputs": [],
   "source": [
    "#2. Train/Val/Test Split\n",
    "from sklearn.model_selection import train_test_split\n",
    "\n",
    "seed = 6852\n",
    "x_temp, x_test, y_temp, y_test = train_test_split(x_dict,y_label_dict,train_size=0.9,random_state=seed)\n",
    "x_train,x_val, y_train,y_val = train_test_split(x_temp,y_temp,train_size=0.8,random_state=seed)"
   ]
  },
  {
   "cell_type": "markdown",
   "metadata": {},
   "source": [
    "데이터 준비 - 케라스 이미지 제네레이터"
   ]
  },
  {
   "cell_type": "code",
   "execution_count": 24,
   "metadata": {},
   "outputs": [
    {
     "name": "stderr",
     "output_type": "stream",
     "text": [
      "Using TensorFlow backend.\n"
     ]
    }
   ],
   "source": [
    "from keras.preprocessing.image import ImageDataGenerator"
   ]
  },
  {
   "cell_type": "code",
   "execution_count": null,
   "metadata": {},
   "outputs": [],
   "source": [
    "#train/test batch generator\n",
    "train_datagen = ImageDataGenerator(rescale = 1./255,\n",
    "                                   shear_range = 0.2,\n",
    "                                   zoom_range = 0.2,\n",
    "                                   horizontal_flip = True)\n",
    "\n",
    "test_datagen = ImageDataGenerator(rescale = 1./255)"
   ]
  },
  {
   "cell_type": "code",
   "execution_count": null,
   "metadata": {},
   "outputs": [],
   "source": [
    "training_set = train_datagen.flow(X_train, y_train, batch_size = 32)\n",
    "\n",
    "test_set = test_datagen.flow(X_test, y_test, batch_size = 32)"
   ]
  },
  {
   "cell_type": "markdown",
   "metadata": {},
   "source": [
    "데이터 준비 - 커스텀 이미지 배치\n",
    "\n",
    "---\n",
    "\n",
    "3만개에 달하는 이미지 - 한번에 array로 RAM에 올릴 경우 OOM에러 발생가능성 있음  \n",
    "-> 파일 경로만 저장해두고, 배치를 통해 순차적으로 image array로 전환"
   ]
  },
  {
   "cell_type": "code",
   "execution_count": 64,
   "metadata": {},
   "outputs": [],
   "source": [
    "#4 파일시스템 전용 batch generator 생성해서 리스트에서 64개 선정 후 get_image로 image array 생성\n",
    "class My_Custom_Generator(Sequence) :\n",
    "  def __init__(self, image_urls, labels, batch_size) :\n",
    "    self.image_filenames = image_urls\n",
    "    self.labels = labels\n",
    "    self.batch_size = batch_size\n",
    " \n",
    "  def __len__(self) :\n",
    "    return (np.ceil(len(self.image_filenames) / float(self.batch_size))).astype(np.int)\n",
    "\n",
    "  def __getitem__(self, idx) :\n",
    "    batch_x = self.image_filenames[idx * self.batch_size : (idx+1) * self.batch_size]\n",
    "    batch_y = self.labels[idx * self.batch_size : (idx+1) * self.batch_size]\n",
    "\n",
    "    return np.array([resize(imread(file_name), (224, 224, 3))\n",
    "                   for file_name in batch_x])/255.0, np.array(batch_y)"
   ]
  },
  {
   "cell_type": "code",
   "execution_count": 103,
   "metadata": {},
   "outputs": [],
   "source": [
    "#generator 인스턴스 생성\n",
    "#batch_size=32로 하니 GPU(8GB)감당 가능한 수준\n",
    "batch_size = 32\n",
    "\n",
    "my_training_batch_generator = My_Custom_Generator(x_train, y_train, batch_size)\n",
    "my_validation_batch_generator = My_Custom_Generator(x_val, y_val, batch_size)"
   ]
  },
  {
   "cell_type": "markdown",
   "metadata": {},
   "source": [
    "데이터 준비 - load image 이용 tf dataset batch 이용\n",
    "\n",
    "---\n",
    "input : 경로가 적힌 path 파일\n",
    "output : 함수를 적절히 처리해서, array,label을 출력하도록 해야 함\n",
    "\n",
    "x train을 넣고 거기로부터 y_train에 있는 놈을 찾아내는 식으로 해야할듯"
   ]
  },
  {
   "cell_type": "code",
   "execution_count": 22,
   "metadata": {},
   "outputs": [],
   "source": [
    "#load minor하는 과정이 문제인듯\n",
    "#원인 : tf.dataset.map은 함수의 인자로 tensor이 들어감\n",
    "# tensor가 판다스 데이터프레임,python dict에 들어갈 수 없으므로 에러 뜸\n",
    "#해결법 : 판다스 말고 다른걸 써야되나? -> #dict로 해보자 -> 안된다 -> 그냥 dataset 선언 최초에 array를 불러오는게 맞다"
   ]
  },
  {
   "cell_type": "code",
   "execution_count": 38,
   "metadata": {},
   "outputs": [],
   "source": [
    "def load_image(image_path):\n",
    "    img = tf.io.read_file(image_path)\n",
    "    img = tf.image.decode_jpeg(img, channels=3)\n",
    "    img = tf.image.resize(img, (224, 224))\n",
    "    #img = tf.keras.applications.inception_v3.preprocess_input(img)\n",
    "    #return img,image_path\n",
    "    return img#,image_path"
   ]
  },
  {
   "cell_type": "code",
   "execution_count": 59,
   "metadata": {},
   "outputs": [
    {
     "data": {
      "text/plain": [
       "tensorflow.python.framework.ops.EagerTensor"
      ]
     },
     "execution_count": 59,
     "metadata": {},
     "output_type": "execute_result"
    }
   ],
   "source": [
    "type(load_image('data/musinsa/414.jpg'))"
   ]
  },
  {
   "cell_type": "code",
   "execution_count": 24,
   "metadata": {},
   "outputs": [],
   "source": [
    "def load_tuple(x,y) :\n",
    "    return load_image(x),y"
   ]
  },
  {
   "cell_type": "code",
   "execution_count": 25,
   "metadata": {},
   "outputs": [],
   "source": [
    "#tf.dataset을 이용하는법 확인\n",
    "#전체 data를 다 dataset으로 바꿈\n",
    "train_dataset = tf.data.Dataset.from_tensor_slices((x_train,y_train))\n",
    "val_dataset = tf.data.Dataset.from_tensor_slices((x_val,y_val))"
   ]
  },
  {
   "cell_type": "code",
   "execution_count": 26,
   "metadata": {
    "scrolled": true
   },
   "outputs": [],
   "source": [
    "train_dataset = train_dataset.map( load_tuple, num_parallel_calls=tf.data.experimental.AUTOTUNE).batch(64)\n",
    "val_dataset = val_dataset.map( load_tuple, num_parallel_calls=tf.data.experimental.AUTOTUNE).batch(64)"
   ]
  },
  {
   "cell_type": "markdown",
   "metadata": {},
   "source": [
    "모델 생성하기\n",
    "\n",
    "---\n",
    "지도학습 모델 - pretrained model 사용\n"
   ]
  },
  {
   "cell_type": "code",
   "execution_count": 32,
   "metadata": {},
   "outputs": [],
   "source": [
    "#사용할 pretrained model 선택\n",
    "def select_pre_model(name,weight,include_top=True) :\n",
    "    name_dict = {'resnet50':resnet50.ResNet50,\n",
    "                'vgg16':vgg16.VGG16,\n",
    "                 'vgg19':vgg19.VGG19,\n",
    "                 'inception_v2': inception_resnet_v2.InceptionResNetV2,\n",
    "                 'inception_v3' : inception_v3.InceptionV3,\n",
    "                 'densenet121':densenet.DenseNet121,\n",
    "                 'densenet169':densenet.DenseNet169,\n",
    "                 'densenet201':densenet.DenseNet201,\n",
    "                 'mobilenet':mobilenet.MobileNet,\n",
    "                 'mobilenet_v2': mobilenet_v2.MobileNetV2,\n",
    "                 'nasnet' : nasnet.NASNetMobile,\n",
    "                 'xception':xception.Xception\n",
    "                }\n",
    "    if top :\n",
    "        return name_dict[name](weights=weight)\n",
    "    else :\n",
    "        return name_dict[name](weights=weight,include_top=False,input_shape=(224,224,3))"
   ]
  },
  {
   "cell_type": "code",
   "execution_count": 28,
   "metadata": {},
   "outputs": [
    {
     "name": "stdout",
     "output_type": "stream",
     "text": [
      "Downloading data from https://github.com/fchollet/deep-learning-models/releases/download/v0.1/vgg19_weights_tf_dim_ordering_tf_kernels_notop.h5\n",
      "80142336/80134624 [==============================] - 38s 0us/step\n"
     ]
    }
   ],
   "source": [
    "top= False # True/False : input/output layer 포함/미포함\n",
    "name = 'vgg19'\n",
    "pre_model = select_pre_model(name,'imagenet',include_top=top)"
   ]
  },
  {
   "cell_type": "code",
   "execution_count": 29,
   "metadata": {
    "scrolled": true
   },
   "outputs": [
    {
     "name": "stdout",
     "output_type": "stream",
     "text": [
      "Model: \"vgg19\"\n",
      "_________________________________________________________________\n",
      "Layer (type)                 Output Shape              Param #   \n",
      "=================================================================\n",
      "input_1 (InputLayer)         [(None, 224, 224, 3)]     0         \n",
      "_________________________________________________________________\n",
      "block1_conv1 (Conv2D)        (None, 224, 224, 64)      1792      \n",
      "_________________________________________________________________\n",
      "block1_conv2 (Conv2D)        (None, 224, 224, 64)      36928     \n",
      "_________________________________________________________________\n",
      "block1_pool (MaxPooling2D)   (None, 112, 112, 64)      0         \n",
      "_________________________________________________________________\n",
      "block2_conv1 (Conv2D)        (None, 112, 112, 128)     73856     \n",
      "_________________________________________________________________\n",
      "block2_conv2 (Conv2D)        (None, 112, 112, 128)     147584    \n",
      "_________________________________________________________________\n",
      "block2_pool (MaxPooling2D)   (None, 56, 56, 128)       0         \n",
      "_________________________________________________________________\n",
      "block3_conv1 (Conv2D)        (None, 56, 56, 256)       295168    \n",
      "_________________________________________________________________\n",
      "block3_conv2 (Conv2D)        (None, 56, 56, 256)       590080    \n",
      "_________________________________________________________________\n",
      "block3_conv3 (Conv2D)        (None, 56, 56, 256)       590080    \n",
      "_________________________________________________________________\n",
      "block3_conv4 (Conv2D)        (None, 56, 56, 256)       590080    \n",
      "_________________________________________________________________\n",
      "block3_pool (MaxPooling2D)   (None, 28, 28, 256)       0         \n",
      "_________________________________________________________________\n",
      "block4_conv1 (Conv2D)        (None, 28, 28, 512)       1180160   \n",
      "_________________________________________________________________\n",
      "block4_conv2 (Conv2D)        (None, 28, 28, 512)       2359808   \n",
      "_________________________________________________________________\n",
      "block4_conv3 (Conv2D)        (None, 28, 28, 512)       2359808   \n",
      "_________________________________________________________________\n",
      "block4_conv4 (Conv2D)        (None, 28, 28, 512)       2359808   \n",
      "_________________________________________________________________\n",
      "block4_pool (MaxPooling2D)   (None, 14, 14, 512)       0         \n",
      "_________________________________________________________________\n",
      "block5_conv1 (Conv2D)        (None, 14, 14, 512)       2359808   \n",
      "_________________________________________________________________\n",
      "block5_conv2 (Conv2D)        (None, 14, 14, 512)       2359808   \n",
      "_________________________________________________________________\n",
      "block5_conv3 (Conv2D)        (None, 14, 14, 512)       2359808   \n",
      "_________________________________________________________________\n",
      "block5_conv4 (Conv2D)        (None, 14, 14, 512)       2359808   \n",
      "_________________________________________________________________\n",
      "block5_pool (MaxPooling2D)   (None, 7, 7, 512)         0         \n",
      "=================================================================\n",
      "Total params: 20,024,384\n",
      "Trainable params: 20,024,384\n",
      "Non-trainable params: 0\n",
      "_________________________________________________________________\n",
      "전체 모델 depth는 : 22\n"
     ]
    }
   ],
   "source": [
    "#pretrained 모델의 전체 모델 정보 확인\n",
    "pre_model.summary()\n",
    "print(\"전체 모델 depth는 :\",len(pre_model.layers))"
   ]
  },
  {
   "cell_type": "code",
   "execution_count": 30,
   "metadata": {},
   "outputs": [
    {
     "data": {
      "text/plain": [
       "([(None, 224, 224, 3)], (None, 7, 7, 512))"
      ]
     },
     "execution_count": 30,
     "metadata": {},
     "output_type": "execute_result"
    }
   ],
   "source": [
    "#pretrained 모델의 input/output layer 확인\n",
    "pre_model.layers[0].input_shape,pre_model.layers[-1].output_shape"
   ]
  },
  {
   "cell_type": "code",
   "execution_count": 255,
   "metadata": {},
   "outputs": [],
   "source": [
    "#레이어 freeze\n",
    "#가장 뒷쪽 n개 레이어 제외하고 freeze\n",
    "unfrozen_layer = -1\n",
    "for layer in pre_model.layers[0:unfrozen_layer]:\n",
    "    layer.trainable = False"
   ]
  },
  {
   "cell_type": "code",
   "execution_count": 31,
   "metadata": {},
   "outputs": [],
   "source": [
    "#전체 레이어를 freeze하고싶으면 여기로\n",
    "for layer in pre_model.layers :\n",
    "    layer.trainable = False    "
   ]
  },
  {
   "cell_type": "code",
   "execution_count": null,
   "metadata": {},
   "outputs": [],
   "source": [
    "#모델의 맨 마지막 Dense layer pop\n",
    "#주의! pop한다고 해서 레이어가 실제로 사라지지 않음. prediction 등을 수행하면 그대로\n",
    "#실제로 바꾸는 방법은 https://github.com/tensorflow/tensorflow/issues/22479\n",
    "#심지어 tf.keras와 keras가 다르다고 한다 ㅜㅜ"
   ]
  },
  {
   "cell_type": "code",
   "execution_count": 32,
   "metadata": {},
   "outputs": [],
   "source": [
    "#Top 여부에 따라 모델의 마지막 레이어 날리기\n",
    "#top=True면 날리기, Top=False면 날리지 말기\n",
    "last_layer = -2 \n",
    "\n",
    "if top :\n",
    "    model = Model(pre_model.inputs, pre_model.layers[last_layer].output)\n",
    "else :\n",
    "    model = Model(pre_model.inputs,pre_model.outputs)"
   ]
  },
  {
   "cell_type": "code",
   "execution_count": 33,
   "metadata": {},
   "outputs": [
    {
     "data": {
      "text/plain": [
       "([(None, 224, 224, 3)], (None, 7, 7, 512))"
      ]
     },
     "execution_count": 33,
     "metadata": {},
     "output_type": "execute_result"
    }
   ],
   "source": [
    "#새 모델의 input/output layer 확인\n",
    "model.layers[0].input_shape, model.layers[-1].output_shape"
   ]
  },
  {
   "cell_type": "code",
   "execution_count": 34,
   "metadata": {},
   "outputs": [
    {
     "data": {
      "text/plain": [
       "40"
      ]
     },
     "execution_count": 34,
     "metadata": {},
     "output_type": "execute_result"
    }
   ],
   "source": [
    "#현재 카테고리 개수 확인 40\n",
    "#41로 바뀌었는데 이유 파악필요\n",
    "num_category = len(minor_array)\n",
    "num_category"
   ]
  },
  {
   "cell_type": "code",
   "execution_count": 35,
   "metadata": {},
   "outputs": [],
   "source": [
    "# 새 모델에 Avg Pooling과 Dense 추가\n",
    "# output dense layer unit은 현재 카테고리 개수만큼으로 설정\n",
    "\n",
    "new_model = Sequential()\n",
    "new_model.add(model)\n",
    "new_model.add(GlobalAveragePooling2D())\n",
    "new_model.add(Dense(num_category,activation=\"softmax\"))"
   ]
  },
  {
   "cell_type": "code",
   "execution_count": 36,
   "metadata": {},
   "outputs": [],
   "source": [
    "#과거 모델 지우기\n",
    "clear_session()\n",
    "del pre_model\n",
    "del model"
   ]
  },
  {
   "cell_type": "code",
   "execution_count": 37,
   "metadata": {},
   "outputs": [
    {
     "name": "stdout",
     "output_type": "stream",
     "text": [
      "Input Shape = (None, 224, 224, 3)\n",
      "output Shape = (None, 40)\n",
      "Model: \"sequential\"\n",
      "_________________________________________________________________\n",
      "Layer (type)                 Output Shape              Param #   \n",
      "=================================================================\n",
      "model (Model)                (None, 7, 7, 512)         20024384  \n",
      "_________________________________________________________________\n",
      "global_average_pooling2d (Gl (None, 512)               0         \n",
      "_________________________________________________________________\n",
      "dense (Dense)                (None, 40)                20520     \n",
      "=================================================================\n",
      "Total params: 20,044,904\n",
      "Trainable params: 20,520\n",
      "Non-trainable params: 20,024,384\n",
      "_________________________________________________________________\n"
     ]
    }
   ],
   "source": [
    "#새 모델 iput output shape 확인\n",
    "print('Input Shape = {}'.format(new_model.layers[0].input_shape))\n",
    "print('output Shape = {}'.format(new_model.layers[-1].output_shape))\n",
    "new_model.summary()"
   ]
  },
  {
   "cell_type": "code",
   "execution_count": 38,
   "metadata": {},
   "outputs": [],
   "source": [
    "#top 3, 5 accuaracy\n",
    "import functools\n",
    "top3_acc = functools.partial(tf.keras.metrics.top_k_categorical_accuracy, k=3)\n",
    "top5_acc = functools.partial(tf.keras.metrics.top_k_categorical_accuracy, k=5)\n",
    "\n",
    "top3_acc.__name__ = 'top3_acc'\n",
    "top5_acc.__name__ = 'top5_acc'"
   ]
  },
  {
   "cell_type": "code",
   "execution_count": 39,
   "metadata": {},
   "outputs": [],
   "source": [
    "# 컴파일\n",
    "# 그냥 accuracy 와 categorical accuracy의 차이는?\n",
    "new_model.compile(loss='categorical_crossentropy', optimizer='sgd', metrics=['categorical_accuracy',top3_acc,top5_acc])"
   ]
  },
  {
   "cell_type": "markdown",
   "metadata": {},
   "source": [
    "지도학습 모델 - 비교적 간단한 커스텀 CNN 사용"
   ]
  },
  {
   "cell_type": "code",
   "execution_count": 27,
   "metadata": {},
   "outputs": [],
   "source": [
    "num_category = len(minor_array)\n",
    "name = \"customCNN\"\n",
    "\n",
    "custom_model = Sequential()\n",
    "# 특징추출 CNN\n",
    "# input = (224,224,3)\n",
    "# output = (112,112,64)\n",
    "custom_model.add(Conv2D(filters=64, kernel_size=(3,3),padding=\"same\",activation=\"selu\",input_shape=(224,224,3)))\n",
    "custom_model.add(MaxPooling2D(pool_size=2))\n",
    "custom_model.add(Dropout(0.1))\n",
    "\n",
    "# output = (56,56,128)\n",
    "custom_model.add(Conv2D(filters=128, kernel_size=(3,3),padding=\"same\",activation=\"selu\"))\n",
    "custom_model.add(MaxPooling2D(pool_size=2))\n",
    "custom_model.add(Dropout(0.1))\n",
    "\n",
    "# output = (28,28,256)\n",
    "custom_model.add(Conv2D(filters=256, kernel_size=(3,3),padding=\"same\",activation=\"selu\"))\n",
    "custom_model.add(MaxPooling2D(pool_size=2))\n",
    "custom_model.add(Dropout(0.1))\n",
    "\n",
    "# output = (14,14,512)\n",
    "custom_model.add(Conv2D(filters=512, kernel_size=(3,3),padding=\"same\",activation=\"selu\"))\n",
    "custom_model.add(MaxPooling2D(pool_size=2))\n",
    "custom_model.add(Dropout(0.1))\n",
    "\n",
    "# output = (7,7,512)\n",
    "custom_model.add(Conv2D(filters=512, kernel_size=(3,3),padding=\"same\",activation=\"selu\"))\n",
    "custom_model.add(MaxPooling2D(pool_size=2))\n",
    "custom_model.add(Dropout(0.1))\n",
    "\n",
    "# 판별 FCNN\n",
    "custom_model.add(tf.keras.layers.Flatten()) # Flatten()은 이미지를 일차원으로 바꿔줍니다.\n",
    "custom_model.add(tf.keras.layers.Dense(256, activation='relu'))\n",
    "custom_model.add(tf.keras.layers.Dense(num_category, activation='softmax'))"
   ]
  },
  {
   "cell_type": "code",
   "execution_count": 28,
   "metadata": {},
   "outputs": [],
   "source": [
    "#top 3, 5 accuaracy\n",
    "import functools\n",
    "top3_acc = functools.partial(tf.keras.metrics.top_k_categorical_accuracy, k=3)\n",
    "top5_acc = functools.partial(tf.keras.metrics.top_k_categorical_accuracy, k=5)\n",
    "\n",
    "top3_acc.__name__ = 'top3_acc'\n",
    "top5_acc.__name__ = 'top5_acc'"
   ]
  },
  {
   "cell_type": "code",
   "execution_count": 29,
   "metadata": {},
   "outputs": [],
   "source": [
    "#datasets batch를 이용해 훈련\n",
    "#sgd = optimizers.SGD(lr=0.01, decay=1e-6, momentum=0.9, nesterov=True)\n",
    "sgd = optimizers.SGD(lr=0.001, decay=1e-6, momentum=0.9)\n",
    "custom_model.compile(loss='categorical_crossentropy', optimizer=sgd, metrics=['accuracy',\"categorical_accuracy\",top3_acc,top5_acc])"
   ]
  },
  {
   "cell_type": "markdown",
   "metadata": {},
   "source": [
    "모델 학습 콜백 준비 - 로그, 체크포인트"
   ]
  },
  {
   "cell_type": "code",
   "execution_count": 40,
   "metadata": {},
   "outputs": [],
   "source": [
    "# 모델 훈련결과 저장 콜백\n",
    "# 사전에 정의된 CSVLogger써도됨\n",
    "from tensorflow.keras.callbacks import CSVLogger\n",
    "from tensorflow.keras.callbacks import ModelCheckpoint\n",
    "\n",
    "log_path = \"logs/\"\n",
    "log_path = os.path.join(log_path, name + '.log')\n",
    "csvlog_callback = CSVLogger(log_path,append=True)"
   ]
  },
  {
   "cell_type": "code",
   "execution_count": 41,
   "metadata": {
    "scrolled": true
   },
   "outputs": [
    {
     "name": "stdout",
     "output_type": "stream",
     "text": [
      "WARNING:tensorflow:`period` argument is deprecated. Please use `save_freq` to specify the frequency in number of samples seen.\n"
     ]
    }
   ],
   "source": [
    "# 모델 체크포인트 저장 콜백\n",
    "# 파일 이름에 에포크 번호를 포함시킵니다(`str.format` 포맷)\n",
    "checkpoint_path = \"checkpoints/{}\".format(name)\n",
    "checkpoint_path += \"/cp-{epoch:04d}.ckpt\"\n",
    "checkpoint_dir = os.path.dirname(checkpoint_path)\n",
    "\n",
    "cp_callback = ModelCheckpoint( checkpoint_path, verbose=1, save_weights_only=True,\n",
    "    # 다섯 번째 에포크마다 가중치를 저장합니다\n",
    "    period=5)"
   ]
  },
  {
   "cell_type": "markdown",
   "metadata": {},
   "source": [
    "모델 학습 - keras 데이터 제네레이터"
   ]
  },
  {
   "cell_type": "code",
   "execution_count": null,
   "metadata": {},
   "outputs": [],
   "source": [
    "#fit on generator\n",
    "model.fit_generator(training_set,\n",
    "                         samples_per_epoch = len_tr,\n",
    "                         nb_epoch = 300)"
   ]
  },
  {
   "cell_type": "markdown",
   "metadata": {},
   "source": [
    "모델 학습 - 단순 array + 커스텀 generator"
   ]
  },
  {
   "cell_type": "code",
   "execution_count": null,
   "metadata": {},
   "outputs": [],
   "source": [
    "# 모델 학습 with generator\n",
    "new_model.fit_generator(generator=my_training_batch_generator,\n",
    "                   steps_per_epoch = int(len(x_train) // batch_size),\n",
    "                   epochs =10,\n",
    "                   verbose = 1,\n",
    "                   callbacks = [cp_callback],\n",
    "                   validation_data = my_validation_batch_generator,\n",
    "                   validation_steps = int(len(x_val) // batch_size))"
   ]
  },
  {
   "cell_type": "code",
   "execution_count": null,
   "metadata": {},
   "outputs": [],
   "source": [
    "# 모델 학습 with Generator, 클래스별 가중치\n",
    "# 불균형 카테고리 가중치를 미리 저장해서 class_weight로 전달\n",
    "model.fit_generator(generator=generator_train,\n",
    "                                epochs=params['epoch'],\n",
    "                                class_weight=class_weight,\n",
    "                                validation_data=generator_validate,\n",
    "                                validation_steps=steps_validate,\n",
    "                                callbacks=[cp_callback, csvlog_callback])\n"
   ]
  },
  {
   "cell_type": "markdown",
   "metadata": {},
   "source": [
    "모델 학습 - tf dataset"
   ]
  },
  {
   "cell_type": "code",
   "execution_count": 51,
   "metadata": {},
   "outputs": [],
   "source": [
    "epoch = 5"
   ]
  },
  {
   "cell_type": "code",
   "execution_count": 52,
   "metadata": {
    "scrolled": false
   },
   "outputs": [
    {
     "name": "stdout",
     "output_type": "stream",
     "text": [
      "Epoch 1/5\n",
      "675/675 [==============================] - 289s 428ms/step - loss: 1.8763 - categorical_accuracy: 0.5132 - top3_acc: 0.7662 - top5_acc: 0.8565 - val_loss: 0.0000e+00 - val_categorical_accuracy: 0.0000e+00 - val_top3_acc: 0.0000e+00 - val_top5_acc: 0.0000e+00\n",
      "Epoch 2/5\n",
      "675/675 [==============================] - 296s 439ms/step - loss: 1.8752 - categorical_accuracy: 0.5141 - top3_acc: 0.7670 - top5_acc: 0.8568 - val_loss: 3.0944 - val_categorical_accuracy: 0.3976 - val_top3_acc: 0.6701 - val_top5_acc: 0.7792\n",
      "Epoch 3/5\n",
      "675/675 [==============================] - 289s 429ms/step - loss: 1.8720 - categorical_accuracy: 0.5151 - top3_acc: 0.7675 - top5_acc: 0.8574 - val_loss: 3.0944 - val_categorical_accuracy: 0.3989 - val_top3_acc: 0.6699 - val_top5_acc: 0.7793\n",
      "Epoch 4/5\n",
      "675/675 [==============================] - 269s 399ms/step - loss: 1.8689 - categorical_accuracy: 0.5158 - top3_acc: 0.7683 - top5_acc: 0.8579 - val_loss: 3.0948 - val_categorical_accuracy: 0.4001 - val_top3_acc: 0.6705 - val_top5_acc: 0.7802\n",
      "Epoch 5/5\n",
      "674/675 [============================>.] - ETA: 0s - loss: 1.8660 - categorical_accuracy: 0.5163 - top3_acc: 0.7686 - top5_acc: 0.8583\n",
      "Epoch 00005: saving model to checkpoints/vgg19/cp-0005.ckpt\n",
      "675/675 [==============================] - 268s 397ms/step - loss: 1.8660 - categorical_accuracy: 0.5164 - top3_acc: 0.7687 - top5_acc: 0.8583 - val_loss: 3.0955 - val_categorical_accuracy: 0.4010 - val_top3_acc: 0.6706 - val_top5_acc: 0.7805\n"
     ]
    }
   ],
   "source": [
    "#반드시 validation_data로 넣어줘야 함\n",
    "#validation_split은 dataset타입에서는 사용불가\n",
    "hist = new_model.fit(train_dataset,epochs = epoch, validation_data=val_dataset,callbacks = [csvlog_callback,cp_callback])"
   ]
  },
  {
   "cell_type": "code",
   "execution_count": null,
   "metadata": {},
   "outputs": [],
   "source": [
    "model.fit_generator(generator=generator_train,\n",
    "                                epochs=params['epoch'],\n",
    "                                class_weight=class_weight,\n",
    "                                validation_data=generator_validate,\n",
    "                                validation_steps=steps_validate,\n",
    "                                callbacks=[cp_callback, csvlog_callback])"
   ]
  },
  {
   "cell_type": "markdown",
   "metadata": {},
   "source": [
    "모델 학습 - 커스텀 모델"
   ]
  },
  {
   "cell_type": "code",
   "execution_count": null,
   "metadata": {},
   "outputs": [],
   "source": [
    "#BS = 64, 이 이상으로는 OOM 발생\n",
    "# acc =0.03. 밑바닥 트레이닝은 답이 없나?\n",
    "\n",
    "custom_model.fit(train_dataset,epochs = epochs, validation_data=val_dataset,callbacks = [csvlog_callback,cp_callback])"
   ]
  },
  {
   "cell_type": "markdown",
   "metadata": {},
   "source": [
    "훈련결과 시각화"
   ]
  },
  {
   "cell_type": "code",
   "execution_count": 45,
   "metadata": {},
   "outputs": [
    {
     "data": {
      "image/png": "[encoded data removed]",
      "text/plain": [
       "<Figure size 432x288 with 2 Axes>"
      ]
     },
     "metadata": {
      "needs_background": "light"
     },
     "output_type": "display_data"
    }
   ],
   "source": [
    "import matplotlib.pyplot as plt\n",
    "#안정적인 우상향곡선 확인가능 ㄷㄷ\n",
    "#좀만더 훈련시켜보자\n",
    "fig, loss_ax = plt.subplots()\n",
    "acc_ax = loss_ax.twinx()\n",
    "\n",
    "loss_ax.plot(hist.history['loss'], 'y', label='train loss')\n",
    "loss_ax.plot(hist.history['val_loss'], 'r', label='val loss')\n",
    "loss_ax.set_xlabel('epoch')\n",
    "loss_ax.set_ylabel('loss')\n",
    "loss_ax.legend(loc='upper left')\n",
    "\n",
    "acc_ax.plot(hist.history['top3_acc'], 'b', label='train acc')\n",
    "acc_ax.plot(hist.history['val_top3_acc'], 'g', label='val acc')\n",
    "acc_ax.set_ylabel('accuracy')\n",
    "acc_ax.legend(loc='upper left')\n",
    "\n",
    "plt.show()"
   ]
  },
  {
   "cell_type": "markdown",
   "metadata": {},
   "source": [
    "훈련결과 시각화 with tensorboard\n"
   ]
  },
  {
   "cell_type": "code",
   "execution_count": null,
   "metadata": {},
   "outputs": [],
   "source": []
  },
  {
   "cell_type": "markdown",
   "metadata": {},
   "source": [
    "모델 불러오기"
   ]
  },
  {
   "cell_type": "code",
   "execution_count": null,
   "metadata": {},
   "outputs": [],
   "source": [
    "# 가중치와 옵티마이저를 포함하여 정확히 동일한 모델을 다시 생성합니다\n",
    "# 웨이트만 저장했으므로 당연히 에러 발생\n",
    "new_model2 = load_model('models/vgg19/weight-35.h5')\n",
    "new_model2.summary()"
   ]
  },
  {
   "cell_type": "code",
   "execution_count": 33,
   "metadata": {},
   "outputs": [],
   "source": [
    "#vgg19형태의 모델을 만들고 여기에 weight 덮어씌워서 만들어야 한다\n",
    "top= False # True/False : input/output layer 포함/미포함\n",
    "name = 'vgg19'\n",
    "pre_model = select_pre_model(name,'imagenet',include_top=top)"
   ]
  },
  {
   "cell_type": "code",
   "execution_count": 34,
   "metadata": {},
   "outputs": [],
   "source": [
    "num_category=40\n",
    "loaded_model = Sequential()\n",
    "loaded_model.add(pre_model)\n",
    "loaded_model.add(GlobalAveragePooling2D())\n",
    "loaded_model.add(Dense(num_category,activation=\"softmax\"))"
   ]
  },
  {
   "cell_type": "code",
   "execution_count": 35,
   "metadata": {},
   "outputs": [
    {
     "name": "stdout",
     "output_type": "stream",
     "text": [
      "Model: \"sequential\"\n",
      "_________________________________________________________________\n",
      "Layer (type)                 Output Shape              Param #   \n",
      "=================================================================\n",
      "vgg19 (Model)                (None, 7, 7, 512)         20024384  \n",
      "_________________________________________________________________\n",
      "global_average_pooling2d (Gl (None, 512)               0         \n",
      "_________________________________________________________________\n",
      "dense (Dense)                (None, 40)                20520     \n",
      "=================================================================\n",
      "Total params: 20,044,904\n",
      "Trainable params: 20,044,904\n",
      "Non-trainable params: 0\n",
      "_________________________________________________________________\n"
     ]
    }
   ],
   "source": [
    "loaded_model.summary()"
   ]
  },
  {
   "cell_type": "code",
   "execution_count": 36,
   "metadata": {},
   "outputs": [],
   "source": [
    "loaded_model.load_weights('models/vgg19/weight-35.h5')"
   ]
  },
  {
   "cell_type": "markdown",
   "metadata": {},
   "source": [
    "모델 inference - tf dataset 이용"
   ]
  },
  {
   "cell_type": "code",
   "execution_count": 300,
   "metadata": {},
   "outputs": [],
   "source": [
    "#테스트 파일에 대해 모델 predict 적용\n",
    "#dataset으로 test할거면 batch size적어줘야 4dim으로 들어감\n",
    "test_dataset = tf.data.Dataset.from_tensor_slices((x_test,y_test))\n",
    "#test_dataset = test_dataset.map( load_tuple, num_parallel_calls=tf.data.experimental.AUTOTUNE).batch(64)\n",
    "test_dataset = test_dataset.map( load_tuple, num_parallel_calls=tf.data.experimental.AUTOTUNE).batch(128)"
   ]
  },
  {
   "cell_type": "code",
   "execution_count": 269,
   "metadata": {},
   "outputs": [
    {
     "ename": "NameError",
     "evalue": "name 'test_dataset' is not defined",
     "output_type": "error",
     "traceback": [
      "\u001b[1;31m---------------------------------------------------------------------------\u001b[0m",
      "\u001b[1;31mNameError\u001b[0m                                 Traceback (most recent call last)",
      "\u001b[1;32m<ipython-input-269-9f095d6af364>\u001b[0m in \u001b[0;36m<module>\u001b[1;34m\u001b[0m\n\u001b[1;32m----> 1\u001b[1;33m \u001b[0my_pred\u001b[0m \u001b[1;33m=\u001b[0m \u001b[0mnew_model\u001b[0m\u001b[1;33m.\u001b[0m\u001b[0mpredict\u001b[0m\u001b[1;33m(\u001b[0m\u001b[0mtest_dataset\u001b[0m\u001b[1;33m)\u001b[0m\u001b[1;33m\u001b[0m\u001b[1;33m\u001b[0m\u001b[0m\n\u001b[0m",
      "\u001b[1;31mNameError\u001b[0m: name 'test_dataset' is not defined"
     ]
    }
   ],
   "source": [
    "y_pred = new_model.predict(test_dataset)"
   ]
  },
  {
   "cell_type": "code",
   "execution_count": 70,
   "metadata": {},
   "outputs": [
    {
     "data": {
      "text/plain": [
       "15370        환절기 코트\n",
       "23862        트러커 재킷\n",
       "25268     수트 팬츠/슬랙스\n",
       "10201          숏 팬츠\n",
       "21219    레더/라이더스 재킷\n",
       "            ...    \n",
       "18947        패딩 베스트\n",
       "21664      겨울 싱글 코트\n",
       "18361       트레이닝 재킷\n",
       "3686         미니 스커트\n",
       "25983        긴팔 티셔츠\n",
       "Length: 2995, dtype: object"
      ]
     },
     "execution_count": 70,
     "metadata": {},
     "output_type": "execute_result"
    }
   ],
   "source": [
    "y_test"
   ]
  },
  {
   "cell_type": "markdown",
   "metadata": {},
   "source": [
    "모델 inference - 그냥 임의 이미지 이용"
   ]
  },
  {
   "cell_type": "code",
   "execution_count": 44,
   "metadata": {},
   "outputs": [],
   "source": [
    "%matplotlib inline\n",
    "import matplotlib.pyplot as plt"
   ]
  },
  {
   "cell_type": "code",
   "execution_count": 45,
   "metadata": {},
   "outputs": [],
   "source": [
    "test_id = 414"
   ]
  },
  {
   "cell_type": "code",
   "execution_count": 46,
   "metadata": {
    "scrolled": true
   },
   "outputs": [
    {
     "data": {
      "text/plain": [
       "('data/musinsa/414.jpg', '반팔 티셔츠')"
      ]
     },
     "execution_count": 46,
     "metadata": {},
     "output_type": "execute_result"
    }
   ],
   "source": [
    "x_dict[414],y_dict[414]"
   ]
  },
  {
   "cell_type": "code",
   "execution_count": 77,
   "metadata": {},
   "outputs": [
    {
     "data": {
      "text/plain": [
       "<matplotlib.image.AxesImage at 0x1a8a880bf88>"
      ]
     },
     "execution_count": 77,
     "metadata": {},
     "output_type": "execute_result"
    },
    {
     "data": {
      "image/png": "[encoded data removed]",
      "text/plain": [
       "<Figure size 432x288 with 1 Axes>"
      ]
     },
     "metadata": {
      "needs_background": "light"
     },
     "output_type": "display_data"
    }
   ],
   "source": [
    "#tensor는 np.expand_dims가 tf.expand_dims사용 ->둘다 상관없다?\n",
    "img = load_image(x_dict[test_id])\n",
    "img_array = img.numpy()/255\n",
    "plt.imshow(img_array)"
   ]
  },
  {
   "cell_type": "code",
   "execution_count": 18,
   "metadata": {},
   "outputs": [],
   "source": [
    "def choose_top_class(pred_result,num) :\n",
    "    category = minor_onehot.columns\n",
    "    return sorted(zip(pred_result,category), reverse=True)[:num]"
   ]
  },
  {
   "cell_type": "code",
   "execution_count": 61,
   "metadata": {},
   "outputs": [
    {
     "data": {
      "text/plain": [
       "Index(['겨울 기타 코트', '겨울 싱글 코트', '기타 바지', '기타 상의', '기타 아우터', '긴팔 티셔츠',\n",
       "       '나일론/코치  재킷', '니트/스웨터/카디건', '데님 팬츠', '레깅스', '레더/라이더스 재킷', '롱 스커트',\n",
       "       '롱 패딩/롱 헤비 아우터', '맥시 원피스', '맨투맨/스웨트셔츠', '미니 스커트', '미니 원피스', '미디 스커트',\n",
       "       '미디 원피스', '민소매 티셔츠', '반팔 티셔츠', '베스트', '블루종/MA-1', '사파리/헌팅 재킷',\n",
       "       '셔츠/블라우스', '숏 패딩/숏 헤비 아우터', '숏 팬츠', '수트 팬츠/슬랙스', '수트/블레이저 재킷',\n",
       "       '스타디움 재킷', '아노락 재킷', '점프수트', '코튼 팬츠', '트러커 재킷', '트레이닝 재킷', '트레이닝/조거 팬츠',\n",
       "       '패딩 베스트', '피케/카라 티셔츠', '환절기 코트', '후드 스웨트셔츠/후드 집업'],\n",
       "      dtype='object')"
      ]
     },
     "execution_count": 61,
     "metadata": {},
     "output_type": "execute_result"
    }
   ],
   "source": [
    "minor_onehot.columns"
   ]
  },
  {
   "cell_type": "code",
   "execution_count": 19,
   "metadata": {},
   "outputs": [],
   "source": [
    "#이미지 id를 입력하면 이미지 사진, 예측결과, 예측태그, 실제 태그를 보여주는 것\n",
    "def show_test_result(id,path_map,minor_map,model,top_category) :\n",
    "    img = load_image(path_map[id])\n",
    "    img_array = img.numpy()/255\n",
    "    plt.title(\"real image\")\n",
    "    plt.imshow(img_array)\n",
    "    img = tf.expand_dims(img, 0)\n",
    "    model.predict(img)[0] #(1,41)형태로 나오므로 indexing 필수\n",
    "    \n",
    "    print(model.predict(img)[0])\n",
    "    print(\"예측된 top 카테고리 : \",choose_top_class(model.predict(img)[0],top_category))\n",
    "    print(\"실제 카테고리 : \",minor_map[id])"
   ]
  },
  {
   "cell_type": "code",
   "execution_count": 57,
   "metadata": {
    "scrolled": true
   },
   "outputs": [
    {
     "name": "stdout",
     "output_type": "stream",
     "text": [
      "[4.7991716e-04 2.5698391e-04 8.0731607e-13 3.8384751e-03 7.9415546e-10\n",
      " 3.3850556e-05 4.6519807e-01 1.9955048e-02 1.2606665e-12 1.7085080e-12\n",
      " 1.5667907e-04 1.0553382e-14 2.9112459e-03 4.7316409e-09 7.2801035e-05\n",
      " 1.1806597e-07 1.0134975e-05 1.3500158e-12 1.3953072e-06 5.2986553e-11\n",
      " 1.8065511e-09 1.4758970e-06 2.8556616e-03 2.7415175e-02 2.8276916e-03\n",
      " 4.0637258e-01 7.3360429e-10 3.4882891e-12 1.8378703e-02 5.9473468e-04\n",
      " 1.8257501e-02 3.0020445e-08 5.4013560e-12 5.5948133e-04 3.7269077e-05\n",
      " 9.7829016e-09 4.5690793e-10 2.9656900e-02 1.2796893e-04 1.2455138e-08]\n",
      "예측된 top 카테고리 :  [(0.46519807, '나일론/코치  재킷'), (0.40637258, '숏 패딩/숏 헤비 아우터'), (0.0296569, '피케/카라 티셔츠'), (0.027415175, '사파리/헌팅 재킷'), (0.019955048, '니트/스웨터/카디건')]\n",
      "실제 카테고리 :  사파리/헌팅 재킷\n"
     ]
    },
    {
     "data": {
      "image/png": "[encoded data removed]",
      "text/plain": [
       "<Figure size 432x288 with 1 Axes>"
      ]
     },
     "metadata": {
      "needs_background": "light"
     },
     "output_type": "display_data"
    }
   ],
   "source": [
    "show_test_result(30000,x_dict,y_dict,new_model,5)"
   ]
  },
  {
   "cell_type": "code",
   "execution_count": 44,
   "metadata": {},
   "outputs": [
    {
     "name": "stdout",
     "output_type": "stream",
     "text": [
      "[9.2933185e-08 3.6742611e-07 2.0954115e-03 3.9591544e-07 1.4349660e-08\n",
      " 7.3141182e-09 2.2140770e-05 1.4075729e-07 5.8997335e-04 5.1232401e-08\n",
      " 1.4002247e-06 4.9988939e-06 1.3273861e-06 2.6655491e-07 8.7126310e-08\n",
      " 3.1946503e-05 1.2242286e-07 3.4452246e-06 2.9342635e-07 1.8073329e-06\n",
      " 6.2656298e-08 1.5709697e-05 4.8642846e-06 3.1965014e-06 1.1299499e-06\n",
      " 6.0741575e-05 2.0881023e-04 1.9560091e-02 1.0515767e-05 1.1828308e-06\n",
      " 9.1110316e-08 3.9884198e-06 1.6140023e-02 2.8744175e-06 3.8862595e-07\n",
      " 9.6122319e-01 6.8176482e-06 5.6823218e-08 2.0542202e-06 1.0222639e-09]\n",
      "예측된 top 카테고리 :  [(0.9612232, '트레이닝/조거 팬츠'), (0.019560091, '수트 팬츠/슬랙스'), (0.016140023, '코튼 팬츠'), (0.0020954115, '기타 바지'), (0.00058997335, '데님 팬츠')]\n",
      "실제 카테고리 :  트레이닝/조거 팬츠\n"
     ]
    },
    {
     "data": {
      "image/png": "[encoded data removed]",
      "text/plain": [
       "<Figure size 432x288 with 1 Axes>"
      ]
     },
     "metadata": {
      "needs_background": "light"
     },
     "output_type": "display_data"
    }
   ],
   "source": [
    "show_test_result(60022,x_dict,y_dict,loaded_model,5)"
   ]
  },
  {
   "cell_type": "code",
   "execution_count": 132,
   "metadata": {},
   "outputs": [
    {
     "data": {
      "text/plain": [
       "array([2.4057711e-34, 1.0007854e-24, 2.9868210e-19, 0.0000000e+00,\n",
       "       0.0000000e+00, 1.5702073e-05, 5.1000725e-20, 1.0923741e-09,\n",
       "       0.0000000e+00, 0.0000000e+00, 3.9310096e-38, 5.0310640e-22,\n",
       "       9.6142056e-21, 2.7276814e-16, 8.3530619e-36, 0.0000000e+00,\n",
       "       4.2202498e-14, 0.0000000e+00, 8.8470551e-22, 0.0000000e+00,\n",
       "       0.0000000e+00, 1.3937794e-13, 4.8392521e-36, 1.0811516e-36,\n",
       "       6.4163762e-28, 0.0000000e+00, 0.0000000e+00, 0.0000000e+00,\n",
       "       1.4278641e-20, 4.9491110e-32, 1.1951419e-37, 0.0000000e+00,\n",
       "       0.0000000e+00, 6.2010846e-19, 5.2206703e-38, 9.9997342e-01,\n",
       "       1.0754383e-28, 1.1866569e-09, 5.5237401e-11, 0.0000000e+00,\n",
       "       1.0789355e-05], dtype=float32)"
      ]
     },
     "execution_count": 132,
     "metadata": {},
     "output_type": "execute_result"
    }
   ],
   "source": [
    "y_pred[7]"
   ]
  },
  {
   "cell_type": "code",
   "execution_count": 127,
   "metadata": {},
   "outputs": [
    {
     "data": {
      "text/plain": [
       "array([0, 0, 0, 0, 0, 0, 0, 0, 0, 0, 0, 0, 0, 0, 0, 0, 0, 0, 0, 0, 0, 0,\n",
       "       0, 0, 0, 0, 0, 1, 0, 0, 0, 0, 0, 0, 0, 0, 0, 0, 0, 0, 0],\n",
       "      dtype=uint8)"
      ]
     },
     "execution_count": 127,
     "metadata": {},
     "output_type": "execute_result"
    }
   ],
   "source": [
    "y_test[2]"
   ]
  },
  {
   "cell_type": "code",
   "execution_count": 120,
   "metadata": {},
   "outputs": [
    {
     "ename": "ValueError",
     "evalue": "The `batch_size` argument must not be specified for the given input type. Received input: <BatchDataset shapes: (((None, 224, 224, 3), (None,)), (None, 41)), types: ((tf.float32, tf.string), tf.uint8)>, batch_size: 32",
     "output_type": "error",
     "traceback": [
      "\u001b[1;31m---------------------------------------------------------------------------\u001b[0m",
      "\u001b[1;31mValueError\u001b[0m                                Traceback (most recent call last)",
      "\u001b[1;32m<ipython-input-120-30382e3c9994>\u001b[0m in \u001b[0;36m<module>\u001b[1;34m\u001b[0m\n\u001b[1;32m----> 1\u001b[1;33m \u001b[0my_pred_proba\u001b[0m \u001b[1;33m=\u001b[0m \u001b[0mnew_model\u001b[0m\u001b[1;33m.\u001b[0m\u001b[0mpredict_proba\u001b[0m\u001b[1;33m(\u001b[0m\u001b[0mtest_dataset\u001b[0m\u001b[1;33m)\u001b[0m\u001b[1;33m\u001b[0m\u001b[1;33m\u001b[0m\u001b[0m\n\u001b[0m",
      "\u001b[1;32me:\\ssafy\\ai-venv\\lib\\site-packages\\tensorflow_core\\python\\keras\\engine\\sequential.py\u001b[0m in \u001b[0;36mpredict_proba\u001b[1;34m(self, x, batch_size, verbose)\u001b[0m\n\u001b[0;32m    303\u001b[0m         \u001b[0mA\u001b[0m \u001b[0mNumpy\u001b[0m \u001b[0marray\u001b[0m \u001b[0mof\u001b[0m \u001b[0mprobability\u001b[0m \u001b[0mpredictions\u001b[0m\u001b[1;33m.\u001b[0m\u001b[1;33m\u001b[0m\u001b[1;33m\u001b[0m\u001b[0m\n\u001b[0;32m    304\u001b[0m     \"\"\"\n\u001b[1;32m--> 305\u001b[1;33m     \u001b[0mpreds\u001b[0m \u001b[1;33m=\u001b[0m \u001b[0mself\u001b[0m\u001b[1;33m.\u001b[0m\u001b[0mpredict\u001b[0m\u001b[1;33m(\u001b[0m\u001b[0mx\u001b[0m\u001b[1;33m,\u001b[0m \u001b[0mbatch_size\u001b[0m\u001b[1;33m,\u001b[0m \u001b[0mverbose\u001b[0m\u001b[1;33m)\u001b[0m\u001b[1;33m\u001b[0m\u001b[1;33m\u001b[0m\u001b[0m\n\u001b[0m\u001b[0;32m    306\u001b[0m     \u001b[1;32mif\u001b[0m \u001b[0mpreds\u001b[0m\u001b[1;33m.\u001b[0m\u001b[0mmin\u001b[0m\u001b[1;33m(\u001b[0m\u001b[1;33m)\u001b[0m \u001b[1;33m<\u001b[0m \u001b[1;36m0.\u001b[0m \u001b[1;32mor\u001b[0m \u001b[0mpreds\u001b[0m\u001b[1;33m.\u001b[0m\u001b[0mmax\u001b[0m\u001b[1;33m(\u001b[0m\u001b[1;33m)\u001b[0m \u001b[1;33m>\u001b[0m \u001b[1;36m1.\u001b[0m\u001b[1;33m:\u001b[0m\u001b[1;33m\u001b[0m\u001b[1;33m\u001b[0m\u001b[0m\n\u001b[0;32m    307\u001b[0m       logging.warning('Network returning invalid probability values. '\n",
      "\u001b[1;32me:\\ssafy\\ai-venv\\lib\\site-packages\\tensorflow_core\\python\\keras\\engine\\training.py\u001b[0m in \u001b[0;36mpredict\u001b[1;34m(self, x, batch_size, verbose, steps, callbacks, max_queue_size, workers, use_multiprocessing)\u001b[0m\n\u001b[0;32m    907\u001b[0m         \u001b[0mmax_queue_size\u001b[0m\u001b[1;33m=\u001b[0m\u001b[0mmax_queue_size\u001b[0m\u001b[1;33m,\u001b[0m\u001b[1;33m\u001b[0m\u001b[1;33m\u001b[0m\u001b[0m\n\u001b[0;32m    908\u001b[0m         \u001b[0mworkers\u001b[0m\u001b[1;33m=\u001b[0m\u001b[0mworkers\u001b[0m\u001b[1;33m,\u001b[0m\u001b[1;33m\u001b[0m\u001b[1;33m\u001b[0m\u001b[0m\n\u001b[1;32m--> 909\u001b[1;33m         use_multiprocessing=use_multiprocessing)\n\u001b[0m\u001b[0;32m    910\u001b[0m \u001b[1;33m\u001b[0m\u001b[0m\n\u001b[0;32m    911\u001b[0m   \u001b[1;32mdef\u001b[0m \u001b[0mreset_metrics\u001b[0m\u001b[1;33m(\u001b[0m\u001b[0mself\u001b[0m\u001b[1;33m)\u001b[0m\u001b[1;33m:\u001b[0m\u001b[1;33m\u001b[0m\u001b[1;33m\u001b[0m\u001b[0m\n",
      "\u001b[1;32me:\\ssafy\\ai-venv\\lib\\site-packages\\tensorflow_core\\python\\keras\\engine\\training_v2.py\u001b[0m in \u001b[0;36mpredict\u001b[1;34m(self, model, x, batch_size, verbose, steps, callbacks, **kwargs)\u001b[0m\n\u001b[0;32m    460\u001b[0m     return self._model_iteration(\n\u001b[0;32m    461\u001b[0m         \u001b[0mmodel\u001b[0m\u001b[1;33m,\u001b[0m \u001b[0mModeKeys\u001b[0m\u001b[1;33m.\u001b[0m\u001b[0mPREDICT\u001b[0m\u001b[1;33m,\u001b[0m \u001b[0mx\u001b[0m\u001b[1;33m=\u001b[0m\u001b[0mx\u001b[0m\u001b[1;33m,\u001b[0m \u001b[0mbatch_size\u001b[0m\u001b[1;33m=\u001b[0m\u001b[0mbatch_size\u001b[0m\u001b[1;33m,\u001b[0m \u001b[0mverbose\u001b[0m\u001b[1;33m=\u001b[0m\u001b[0mverbose\u001b[0m\u001b[1;33m,\u001b[0m\u001b[1;33m\u001b[0m\u001b[1;33m\u001b[0m\u001b[0m\n\u001b[1;32m--> 462\u001b[1;33m         steps=steps, callbacks=callbacks, **kwargs)\n\u001b[0m\u001b[0;32m    463\u001b[0m \u001b[1;33m\u001b[0m\u001b[0m\n\u001b[0;32m    464\u001b[0m \u001b[1;33m\u001b[0m\u001b[0m\n",
      "\u001b[1;32me:\\ssafy\\ai-venv\\lib\\site-packages\\tensorflow_core\\python\\keras\\engine\\training_v2.py\u001b[0m in \u001b[0;36m_model_iteration\u001b[1;34m(self, model, mode, x, y, batch_size, verbose, sample_weight, steps, callbacks, **kwargs)\u001b[0m\n\u001b[0;32m    379\u001b[0m \u001b[1;33m\u001b[0m\u001b[0m\n\u001b[0;32m    380\u001b[0m     batch_size = model._validate_or_infer_batch_size(\n\u001b[1;32m--> 381\u001b[1;33m         batch_size, steps, x)\n\u001b[0m\u001b[0;32m    382\u001b[0m     \u001b[0mstrategy\u001b[0m \u001b[1;33m=\u001b[0m \u001b[0m_get_distribution_strategy\u001b[0m\u001b[1;33m(\u001b[0m\u001b[0mmodel\u001b[0m\u001b[1;33m)\u001b[0m\u001b[1;33m\u001b[0m\u001b[1;33m\u001b[0m\u001b[0m\n\u001b[0;32m    383\u001b[0m     batch_size, steps = dist_utils.process_batch_and_step_size(\n",
      "\u001b[1;32me:\\ssafy\\ai-venv\\lib\\site-packages\\tensorflow_core\\python\\keras\\engine\\training.py\u001b[0m in \u001b[0;36m_validate_or_infer_batch_size\u001b[1;34m(self, batch_size, steps, x)\u001b[0m\n\u001b[0;32m   1815\u001b[0m             \u001b[1;34m'The `batch_size` argument must not be specified for the given '\u001b[0m\u001b[1;33m\u001b[0m\u001b[1;33m\u001b[0m\u001b[0m\n\u001b[0;32m   1816\u001b[0m             'input type. Received input: {}, batch_size: {}'.format(\n\u001b[1;32m-> 1817\u001b[1;33m                 x, batch_size))\n\u001b[0m\u001b[0;32m   1818\u001b[0m       \u001b[1;32mreturn\u001b[0m\u001b[1;33m\u001b[0m\u001b[1;33m\u001b[0m\u001b[0m\n\u001b[0;32m   1819\u001b[0m \u001b[1;33m\u001b[0m\u001b[0m\n",
      "\u001b[1;31mValueError\u001b[0m: The `batch_size` argument must not be specified for the given input type. Received input: <BatchDataset shapes: (((None, 224, 224, 3), (None,)), (None, 41)), types: ((tf.float32, tf.string), tf.uint8)>, batch_size: 32"
     ]
    }
   ],
   "source": [
    "y_pred_proba = new_model.predict_proba(test_dataset)"
   ]
  },
  {
   "cell_type": "code",
   "execution_count": null,
   "metadata": {},
   "outputs": [],
   "source": [
    "# 적용 결과 생성된 태그 확인\n",
    "#one-hot vector의 확률을 보여줘야 함\n",
    "#one-hot vector에서 가장 높은 값 3개를 category화\n"
   ]
  },
  {
   "cell_type": "markdown",
   "metadata": {},
   "source": [
    "모델 학습결과 저장"
   ]
  },
  {
   "cell_type": "code",
   "execution_count": 58,
   "metadata": {},
   "outputs": [
    {
     "name": "stdout",
     "output_type": "stream",
     "text": [
      "================Saving weights to models/vgg19/weight-5.h5=================\n",
      "===============================Saved weights===============================\n"
     ]
    }
   ],
   "source": [
    "#학습결과 저장\n",
    "if not os.path.exists(\"models/{}\".format(name)):\n",
    "    os.mkdir(\"models/{}\".format(name))\n",
    "    \n",
    "weight_path = \"models/{}\".format(name)\n",
    "weight_path += \"/weight-{}.h5\".format(epoch)\n",
    "\n",
    "print('{:=^75}'.format('Saving weights to {}'.format(weight_path)))\n",
    "new_model.save_weights(weight_path)\n",
    "print('{:=^75}'.format('Saved weights'))"
   ]
  },
  {
   "cell_type": "markdown",
   "metadata": {},
   "source": [
    "### 학습속도, 정확도 개선을 위한 수술"
   ]
  },
  {
   "cell_type": "markdown",
   "metadata": {},
   "source": [
    "#### 데이터 준비과정의 문제"
   ]
  },
  {
   "cell_type": "markdown",
   "metadata": {},
   "source": [
    "1. 이미지 url로 받지 말고, 그냥 파일시스템에서 받을까?  \n",
    "->결과: 확실히 url로 받는 것 보다는 빠르다"
   ]
  },
  {
   "cell_type": "markdown",
   "metadata": {},
   "source": [
    "2. 데이터를 Array가 아니라 다른 데이터포맷으로 넣으면 될까  \n",
    "-> 가능한 데이터포맷 : tf dataset, pickle  \n",
    "-> 방식 : path 리스트, one_hot list -> datasets에 저장 -> batch화 해서 불러오기"
   ]
  },
  {
   "cell_type": "markdown",
   "metadata": {},
   "source": [
    "3. 배치 대신 통으로 올려서 학습하면?  \n",
    "->x_data를 통으로 다 image로 바꾸자"
   ]
  },
  {
   "cell_type": "code",
   "execution_count": null,
   "metadata": {},
   "outputs": [],
   "source": [
    "total_num = len(x_data)//2\n",
    "x_data_half = np.array([resize(imread(file_name), (224, 224, 3)) for file_name in x_data[:total_num]])"
   ]
  },
  {
   "cell_type": "code",
   "execution_count": 40,
   "metadata": {},
   "outputs": [],
   "source": [
    "y_data_half = y_data[:total_num]"
   ]
  },
  {
   "cell_type": "markdown",
   "metadata": {},
   "source": [
    "4. 카테고리 선택의 문제  \n",
    "-> 너무 세부적으로 분류하려 하지 말고, 중분류단위로 하는것도 고려  \n",
    "-> 소분류 중에서도 숫자가 많은 것들만 골라서 학습하면 어떨까"
   ]
  },
  {
   "cell_type": "markdown",
   "metadata": {},
   "source": [
    "#### 모델 선정의 문제"
   ]
  },
  {
   "cell_type": "markdown",
   "metadata": {},
   "source": [
    "1. Pre-trained 모델에서 unfrozen 수 선택 문제  \n",
    "-> =Transfer Learning 방식의 문제(Feature extraction vs Fine-tuning)  \n",
    "-> Feature Extraction은 Dense만 Unfreeze, Fine-Tuning은 Layer도 Unfreeze  \n",
    "->  결과 : Unfrozen이 적어지면 빨라지긴 함 근데 정확도랑은 trade-off일수도?  \n",
    "->  feature extraction보다 finetuning의 성능이 월등히 좋았네요."
   ]
  },
  {
   "cell_type": "markdown",
   "metadata": {},
   "source": [
    "2. 모델을 좀 더 간단한 걸 써야되나?  \n",
    "-> 훈련이 짧고 빠른 커스텀 모델을 사용해보자  \n",
    "-> Model 이용 Functional Subclassing 대신 Sequential로 바로 정의"
   ]
  },
  {
   "cell_type": "markdown",
   "metadata": {},
   "source": [
    "3. Pretrained 모델 중 가장 적절한 모델 선택  \n",
    "![](https://miro.medium.com/max/875/1*BxQ4eGIJ63beLZ-IFujbIA.png)\n",
    "-> 성능/Parameter 갯수의 타협 필요  \n",
    "-> InceptionV3. Xception"
   ]
  },
  {
   "cell_type": "markdown",
   "metadata": {},
   "source": [
    "#### 학습 과정에서의 문제"
   ]
  },
  {
   "cell_type": "markdown",
   "metadata": {},
   "source": [
    "1. 배치 제네레이터의 코드의 문제  \n",
    "ValueError: could not broadcast input array from shape (224,224,3) into shape (224,224)  \n",
    "-> 이는 url호출과정에서의 문제인가 아님 파일 자체의 문제인가  \n",
    "-> 결과 : 파일시스템에서는 잘 동작, url 호출과정의 문제인듯\n"
   ]
  },
  {
   "cell_type": "markdown",
   "metadata": {},
   "source": [
    "2. 배치 생성시 CustomGenerator 대신  Keras.ImageDataGenerator 사용해보기\n",
    "https://medium.com/daangn/%EC%9D%B4%EB%AF%B8%EC%A7%80%EB%A7%8C%EC%9C%BC%EB%A1%9C-%EB%82%B4-%EC%A4%91%EA%B3%A0%EB%AC%BC%ED%92%88%EC%9D%98-%EC%B9%B4%ED%85%8C%EA%B3%A0%EB%A6%AC%EB%A5%BC-%EB%B6%84%EB%A5%98%ED%95%B4%EC%A4%80%EB%A9%B4-feat-keras-b86e5f286c71"
   ]
  },
  {
   "cell_type": "markdown",
   "metadata": {},
   "source": [
    "3. 매우 간단한 모델임에도 불구하고 OOM이 뜬다. 해결하자  \n",
    "-> memory profile를 이용한 메모리 소모 확인  \n",
    "-> gc.collect() 을 이용한 메모리 정리"
   ]
  },
  {
   "cell_type": "markdown",
   "metadata": {},
   "source": [
    "## CNN-RNN 이용\n",
    "\n",
    "제공할 데이터\n",
    "\n",
    "    이미지(필수)\n",
    "    제품명(넣으면 정확도 급격히 상승할 듯?) -> 그러나 자연어처리 과정이 추가적으로 필요\n",
    "    제품설명 (No. 애초에 설명을 달기 귀찮아서 자동태그를 쓰는건데, 앞뒤가 안 맞다)\n",
    "    \n",
    "참고 문서  \n",
    "https://medium.com/mighty-data-science-bootcamp/번역-머신러닝을-활용한-제품-카테고리-분류하기-cd75f11d588a"
   ]
  },
  {
   "cell_type": "code",
   "execution_count": null,
   "metadata": {},
   "outputs": [],
   "source": []
  },
  {
   "cell_type": "code",
   "execution_count": null,
   "metadata": {},
   "outputs": [],
   "source": []
  }
 ],
 "metadata": {
  "kernelspec": {
   "display_name": "Python 3",
   "language": "python",
   "name": "python3"
  },
  "language_info": {
   "codemirror_mode": {
    "name": "ipython",
    "version": 3
   },
   "file_extension": ".py",
   "mimetype": "text/x-python",
   "name": "python",
   "nbconvert_exporter": "python",
   "pygments_lexer": "ipython3",
   "version": "3.7.6"
  }
 },
 "nbformat": 4,
 "nbformat_minor": 4
}
